{
 "cells": [
  {
   "cell_type": "markdown",
   "metadata": {},
   "source": [
    "## FINAL DEMO"
   ]
  },
  {
   "cell_type": "code",
   "execution_count": 435,
   "metadata": {},
   "outputs": [],
   "source": [
    "import pandas as pd\n",
    "from functions import *\n",
    "\n",
    "df_final_demo = pd.read_csv(\"df_final_demo.csv\")\n",
    "\n",
    "df_final_demo.head()\n",
    "df_final_demo.dropna(inplace=True)\n",
    "\n",
    "mapGenre = {'X' : 'U'}\n",
    "df_final_demo[\"gendr\"] = replace_values_df(df_final_demo[\"gendr\"], mapGenre)"
   ]
  },
  {
   "cell_type": "markdown",
   "metadata": {},
   "source": [
    "## WEB DATA"
   ]
  },
  {
   "cell_type": "code",
   "execution_count": 436,
   "metadata": {},
   "outputs": [],
   "source": [
    "df_web_data1 = pd.read_csv(\"df_final_web_data_pt_1.csv\")\n",
    "df_web_data2 = pd.read_csv(\"df_final_web_data_pt_2.csv\")\n",
    "\n",
    "df_web_data_concat = pd.concat([df_web_data1, df_web_data2], axis=0, join='inner')"
   ]
  },
  {
   "cell_type": "code",
   "execution_count": 437,
   "metadata": {},
   "outputs": [
    {
     "data": {
      "text/plain": [
       "client_id                int64\n",
       "visitor_id              object\n",
       "visit_id                object\n",
       "process_step            object\n",
       "date_time       datetime64[ns]\n",
       "dtype: object"
      ]
     },
     "execution_count": 437,
     "metadata": {},
     "output_type": "execute_result"
    }
   ],
   "source": [
    "# Convert type object into datetime \n",
    "\n",
    "df_web_data_concat['date_time'] = convert_to_dateTime(df_web_data_concat['date_time'])\n",
    "\n",
    "df_web_data_concat.dtypes"
   ]
  },
  {
   "cell_type": "code",
   "execution_count": 438,
   "metadata": {},
   "outputs": [],
   "source": [
    "# I turn 'step' into a discrete numeric df\n",
    "\n",
    "map_values = {'start' : 0, 'step_1' : 1, 'step_2' : 2, 'step_3' : 3, 'confirm' : 4}\n",
    "\n",
    "df_web_data_concat[\"process_step\"] = replace_values_df(df_web_data_concat[\"process_step\"], map_values)"
   ]
  },
  {
   "cell_type": "markdown",
   "metadata": {},
   "source": [
    "## FINAL EXP"
   ]
  },
  {
   "cell_type": "code",
   "execution_count": 439,
   "metadata": {},
   "outputs": [],
   "source": [
    "df_final_exp = pd.read_csv(\"df_final_experiment_clients.csv\")\n",
    "df_final_exp.rename(columns={\"Variation\" : \"variation\"}, inplace=True)"
   ]
  },
  {
   "cell_type": "code",
   "execution_count": 440,
   "metadata": {},
   "outputs": [],
   "source": [
    "df_final_exp = drop_na_df(df_final_exp, \"variation\")"
   ]
  },
  {
   "cell_type": "code",
   "execution_count": 441,
   "metadata": {},
   "outputs": [],
   "source": [
    "map_values2 = {'Control': 0, 'Test': 1}\n",
    "\n",
    "df_final_exp[\"variation\"] = replace_values_df(df_final_exp[\"variation\"], map_values2)"
   ]
  },
  {
   "cell_type": "markdown",
   "metadata": {},
   "source": [
    "## MERGE"
   ]
  },
  {
   "cell_type": "code",
   "execution_count": 442,
   "metadata": {},
   "outputs": [],
   "source": [
    "df_temp1 = pd.merge(df_final_demo, df_web_data_concat, on='client_id', how='inner')\n",
    "\n",
    "df_all = pd.merge(df_temp1, df_final_exp, on='client_id', how='inner')"
   ]
  },
  {
   "cell_type": "code",
   "execution_count": 443,
   "metadata": {},
   "outputs": [],
   "source": [
    "df_all = df_all.drop(\"clnt_tenure_yr\", axis=1)      # We don´t need this column because is derivative from clnt_tenure_mnth"
   ]
  },
  {
   "cell_type": "code",
   "execution_count": 444,
   "metadata": {},
   "outputs": [],
   "source": [
    "df_all_no_duplicates = df_all.copy()\n",
    "df_all_no_duplicates.drop_duplicates(subset=\"client_id\", inplace=True)\n",
    "\n",
    "# El datafram pero sin los duplicados"
   ]
  },
  {
   "cell_type": "markdown",
   "metadata": {},
   "source": [
    "## QUITAMOS OUTLIERS DEL DF_ALL Y DEL QUE NO TIENE DUPLICADOS"
   ]
  },
  {
   "cell_type": "code",
   "execution_count": 445,
   "metadata": {},
   "outputs": [],
   "source": [
    "df_all = outlier_slayer(df_all)\n",
    "\n",
    "df_all_no_duplicates = outlier_slayer(df_all_no_duplicates)"
   ]
  },
  {
   "cell_type": "markdown",
   "metadata": {},
   "source": [
    "# VER SI SON JOVENES O NO"
   ]
  },
  {
   "cell_type": "code",
   "execution_count": 446,
   "metadata": {},
   "outputs": [
    {
     "data": {
      "text/plain": [
       "count    34931.000000\n",
       "mean        46.057213\n",
       "std         15.322921\n",
       "min         17.000000\n",
       "25%         32.500000\n",
       "50%         46.000000\n",
       "75%         58.500000\n",
       "max         96.000000\n",
       "Name: clnt_age, dtype: float64"
      ]
     },
     "execution_count": 446,
     "metadata": {},
     "output_type": "execute_result"
    }
   ],
   "source": [
    "df_all_no_duplicates[\"clnt_age\"].describe()"
   ]
  },
  {
   "cell_type": "code",
   "execution_count": 447,
   "metadata": {},
   "outputs": [
    {
     "data": {
      "text/plain": [
       "0    59.5\n",
       "Name: clnt_age, dtype: float64"
      ]
     },
     "execution_count": 447,
     "metadata": {},
     "output_type": "execute_result"
    }
   ],
   "source": [
    "df_all[\"clnt_age\"].mode()"
   ]
  },
  {
   "cell_type": "code",
   "execution_count": 448,
   "metadata": {},
   "outputs": [
    {
     "data": {
      "text/plain": [
       "<Axes: ylabel='clnt_age'>"
      ]
     },
     "execution_count": 448,
     "metadata": {},
     "output_type": "execute_result"
    },
    {
     "data": {
      "image/png": "[encoded data removed]",
      "text/plain": [
       "<Figure size 640x480 with 1 Axes>"
      ]
     },
     "metadata": {},
     "output_type": "display_data"
    }
   ],
   "source": [
    "import seaborn as sns\n",
    "\n",
    "sns.boxplot(data = df_all_no_duplicates['clnt_age'])"
   ]
  },
  {
   "cell_type": "code",
   "execution_count": 449,
   "metadata": {},
   "outputs": [
    {
     "data": {
      "text/plain": [
       "(-6.5, 97.5)"
      ]
     },
     "execution_count": 449,
     "metadata": {},
     "output_type": "execute_result"
    }
   ],
   "source": [
    "Q1 = df_all_no_duplicates['clnt_age'].quantile(0.25)\n",
    "Q3 = df_all_no_duplicates['clnt_age'].quantile(0.75)\n",
    "IQR = Q3 - Q1\n",
    "\n",
    "\n",
    "inf_lim = Q1 - 1.5*IQR\n",
    "sup_lim = Q3 + 1.5*IQR\n",
    "\n",
    "inf_lim, sup_lim"
   ]
  },
  {
   "cell_type": "code",
   "execution_count": 450,
   "metadata": {},
   "outputs": [],
   "source": [
    "# age_outliers = df_all_no_duplicates['clnt_age'][(df_all_no_duplicates['clnt_age'] < inf_lim) | (df_all_no_duplicates['clnt_age'] > sup_lim) ]\n",
    "\n",
    "# age_outliers         # THERE ARE NO OUTLIERS ON Client Age column"
   ]
  },
  {
   "cell_type": "markdown",
   "metadata": {},
   "source": [
    "# VER SI SON NUEVOS O ANTIGUOS"
   ]
  },
  {
   "cell_type": "code",
   "execution_count": 451,
   "metadata": {},
   "outputs": [
    {
     "data": {
      "text/plain": [
       "count    34931.000000\n",
       "mean       137.713521\n",
       "std         68.669962\n",
       "min         33.000000\n",
       "25%         79.000000\n",
       "50%        123.000000\n",
       "75%        181.000000\n",
       "max        357.000000\n",
       "Name: clnt_tenure_mnth, dtype: float64"
      ]
     },
     "execution_count": 451,
     "metadata": {},
     "output_type": "execute_result"
    }
   ],
   "source": [
    "df_all_no_duplicates[\"clnt_tenure_mnth\"].describe()"
   ]
  },
  {
   "cell_type": "code",
   "execution_count": 452,
   "metadata": {},
   "outputs": [
    {
     "data": {
      "text/plain": [
       "0    58.0\n",
       "Name: clnt_tenure_mnth, dtype: float64"
      ]
     },
     "execution_count": 452,
     "metadata": {},
     "output_type": "execute_result"
    }
   ],
   "source": [
    "df_all[\"clnt_tenure_mnth\"].mode()"
   ]
  },
  {
   "cell_type": "code",
   "execution_count": 453,
   "metadata": {},
   "outputs": [
    {
     "data": {
      "text/plain": [
       "<Axes: ylabel='clnt_tenure_mnth'>"
      ]
     },
     "execution_count": 453,
     "metadata": {},
     "output_type": "execute_result"
    },
    {
     "data": {
      "image/png": "[encoded data removed]",
      "text/plain": [
       "<Figure size 640x480 with 1 Axes>"
      ]
     },
     "metadata": {},
     "output_type": "display_data"
    }
   ],
   "source": [
    "sns.boxplot(data = df_all_no_duplicates['clnt_tenure_mnth'])            # Seguimos teniendo outliers pero dar una segunda pasada es contraproducente en principio."
   ]
  },
  {
   "cell_type": "code",
   "execution_count": 454,
   "metadata": {},
   "outputs": [
    {
     "data": {
      "text/plain": [
       "(-74.0, 334.0)"
      ]
     },
     "execution_count": 454,
     "metadata": {},
     "output_type": "execute_result"
    }
   ],
   "source": [
    "Q1 = df_all_no_duplicates['clnt_tenure_mnth'].quantile(0.25)\n",
    "Q3 = df_all_no_duplicates['clnt_tenure_mnth'].quantile(0.75)\n",
    "IQR = Q3 - Q1\n",
    "\n",
    "\n",
    "inf_lim = Q1 - 1.5*IQR\n",
    "sup_lim = Q3 + 1.5*IQR\n",
    "\n",
    "inf_lim, sup_lim"
   ]
  },
  {
   "cell_type": "markdown",
   "metadata": {},
   "source": [
    "# DIA 3  \n",
    "## Calcular % de compras con éxito en cada web"
   ]
  },
  {
   "cell_type": "code",
   "execution_count": 455,
   "metadata": {},
   "outputs": [
    {
     "data": {
      "text/html": [
       "<div>\n",
       "<style scoped>\n",
       "    .dataframe tbody tr th:only-of-type {\n",
       "        vertical-align: middle;\n",
       "    }\n",
       "\n",
       "    .dataframe tbody tr th {\n",
       "        vertical-align: top;\n",
       "    }\n",
       "\n",
       "    .dataframe thead th {\n",
       "        text-align: right;\n",
       "    }\n",
       "</style>\n",
       "<table border=\"1\" class=\"dataframe\">\n",
       "  <thead>\n",
       "    <tr style=\"text-align: right;\">\n",
       "      <th></th>\n",
       "      <th>client_id</th>\n",
       "      <th>clnt_tenure_mnth</th>\n",
       "      <th>clnt_age</th>\n",
       "      <th>gendr</th>\n",
       "      <th>num_accts</th>\n",
       "      <th>bal</th>\n",
       "      <th>calls_6_mnth</th>\n",
       "      <th>logons_6_mnth</th>\n",
       "      <th>visitor_id</th>\n",
       "      <th>visit_id</th>\n",
       "      <th>process_step</th>\n",
       "      <th>date_time</th>\n",
       "      <th>variation</th>\n",
       "    </tr>\n",
       "  </thead>\n",
       "  <tbody>\n",
       "    <tr>\n",
       "      <th>118312</th>\n",
       "      <td>6187864</td>\n",
       "      <td>163.0</td>\n",
       "      <td>55.0</td>\n",
       "      <td>F</td>\n",
       "      <td>2.0</td>\n",
       "      <td>174412.75</td>\n",
       "      <td>4.0</td>\n",
       "      <td>7.0</td>\n",
       "      <td>113539532_90731779729</td>\n",
       "      <td>77393632_6804608909_354572</td>\n",
       "      <td>2</td>\n",
       "      <td>2017-06-20 23:57:06</td>\n",
       "      <td>0</td>\n",
       "    </tr>\n",
       "    <tr>\n",
       "      <th>118313</th>\n",
       "      <td>6187864</td>\n",
       "      <td>163.0</td>\n",
       "      <td>55.0</td>\n",
       "      <td>F</td>\n",
       "      <td>2.0</td>\n",
       "      <td>174412.75</td>\n",
       "      <td>4.0</td>\n",
       "      <td>7.0</td>\n",
       "      <td>113539532_90731779729</td>\n",
       "      <td>77393632_6804608909_354572</td>\n",
       "      <td>1</td>\n",
       "      <td>2017-06-20 23:56:30</td>\n",
       "      <td>0</td>\n",
       "    </tr>\n",
       "    <tr>\n",
       "      <th>118314</th>\n",
       "      <td>6187864</td>\n",
       "      <td>163.0</td>\n",
       "      <td>55.0</td>\n",
       "      <td>F</td>\n",
       "      <td>2.0</td>\n",
       "      <td>174412.75</td>\n",
       "      <td>4.0</td>\n",
       "      <td>7.0</td>\n",
       "      <td>113539532_90731779729</td>\n",
       "      <td>77393632_6804608909_354572</td>\n",
       "      <td>0</td>\n",
       "      <td>2017-06-20 23:56:17</td>\n",
       "      <td>0</td>\n",
       "    </tr>\n",
       "    <tr>\n",
       "      <th>189085</th>\n",
       "      <td>1558312</td>\n",
       "      <td>276.0</td>\n",
       "      <td>64.0</td>\n",
       "      <td>F</td>\n",
       "      <td>2.0</td>\n",
       "      <td>27918.86</td>\n",
       "      <td>2.0</td>\n",
       "      <td>5.0</td>\n",
       "      <td>397562195_28573798537</td>\n",
       "      <td>175513303_32086468382_224926</td>\n",
       "      <td>4</td>\n",
       "      <td>2017-06-20 23:26:00</td>\n",
       "      <td>0</td>\n",
       "    </tr>\n",
       "    <tr>\n",
       "      <th>230853</th>\n",
       "      <td>291330</td>\n",
       "      <td>349.0</td>\n",
       "      <td>68.0</td>\n",
       "      <td>M</td>\n",
       "      <td>2.0</td>\n",
       "      <td>62155.41</td>\n",
       "      <td>6.0</td>\n",
       "      <td>9.0</td>\n",
       "      <td>992344309_24884468623</td>\n",
       "      <td>91879336_25502670457_529422</td>\n",
       "      <td>1</td>\n",
       "      <td>2017-06-20 23:21:41</td>\n",
       "      <td>0</td>\n",
       "    </tr>\n",
       "    <tr>\n",
       "      <th>...</th>\n",
       "      <td>...</td>\n",
       "      <td>...</td>\n",
       "      <td>...</td>\n",
       "      <td>...</td>\n",
       "      <td>...</td>\n",
       "      <td>...</td>\n",
       "      <td>...</td>\n",
       "      <td>...</td>\n",
       "      <td>...</td>\n",
       "      <td>...</td>\n",
       "      <td>...</td>\n",
       "      <td>...</td>\n",
       "      <td>...</td>\n",
       "    </tr>\n",
       "    <tr>\n",
       "      <th>66072</th>\n",
       "      <td>4192640</td>\n",
       "      <td>174.0</td>\n",
       "      <td>54.0</td>\n",
       "      <td>M</td>\n",
       "      <td>2.0</td>\n",
       "      <td>97914.40</td>\n",
       "      <td>3.0</td>\n",
       "      <td>6.0</td>\n",
       "      <td>692067844_75217592829</td>\n",
       "      <td>706721307_85347845958_18583</td>\n",
       "      <td>0</td>\n",
       "      <td>2017-03-15 00:44:38</td>\n",
       "      <td>1</td>\n",
       "    </tr>\n",
       "    <tr>\n",
       "      <th>66073</th>\n",
       "      <td>4192640</td>\n",
       "      <td>174.0</td>\n",
       "      <td>54.0</td>\n",
       "      <td>M</td>\n",
       "      <td>2.0</td>\n",
       "      <td>97914.40</td>\n",
       "      <td>3.0</td>\n",
       "      <td>6.0</td>\n",
       "      <td>692067844_75217592829</td>\n",
       "      <td>706721307_85347845958_18583</td>\n",
       "      <td>1</td>\n",
       "      <td>2017-03-15 00:44:36</td>\n",
       "      <td>1</td>\n",
       "    </tr>\n",
       "    <tr>\n",
       "      <th>66074</th>\n",
       "      <td>4192640</td>\n",
       "      <td>174.0</td>\n",
       "      <td>54.0</td>\n",
       "      <td>M</td>\n",
       "      <td>2.0</td>\n",
       "      <td>97914.40</td>\n",
       "      <td>3.0</td>\n",
       "      <td>6.0</td>\n",
       "      <td>692067844_75217592829</td>\n",
       "      <td>706721307_85347845958_18583</td>\n",
       "      <td>2</td>\n",
       "      <td>2017-03-15 00:43:48</td>\n",
       "      <td>1</td>\n",
       "    </tr>\n",
       "    <tr>\n",
       "      <th>66075</th>\n",
       "      <td>4192640</td>\n",
       "      <td>174.0</td>\n",
       "      <td>54.0</td>\n",
       "      <td>M</td>\n",
       "      <td>2.0</td>\n",
       "      <td>97914.40</td>\n",
       "      <td>3.0</td>\n",
       "      <td>6.0</td>\n",
       "      <td>692067844_75217592829</td>\n",
       "      <td>706721307_85347845958_18583</td>\n",
       "      <td>1</td>\n",
       "      <td>2017-03-15 00:43:32</td>\n",
       "      <td>1</td>\n",
       "    </tr>\n",
       "    <tr>\n",
       "      <th>66076</th>\n",
       "      <td>4192640</td>\n",
       "      <td>174.0</td>\n",
       "      <td>54.0</td>\n",
       "      <td>M</td>\n",
       "      <td>2.0</td>\n",
       "      <td>97914.40</td>\n",
       "      <td>3.0</td>\n",
       "      <td>6.0</td>\n",
       "      <td>692067844_75217592829</td>\n",
       "      <td>706721307_85347845958_18583</td>\n",
       "      <td>0</td>\n",
       "      <td>2017-03-15 00:43:23</td>\n",
       "      <td>1</td>\n",
       "    </tr>\n",
       "  </tbody>\n",
       "</table>\n",
       "<p>220371 rows × 13 columns</p>\n",
       "</div>"
      ],
      "text/plain": [
       "        client_id  clnt_tenure_mnth  clnt_age gendr  num_accts        bal  \\\n",
       "118312    6187864             163.0      55.0     F        2.0  174412.75   \n",
       "118313    6187864             163.0      55.0     F        2.0  174412.75   \n",
       "118314    6187864             163.0      55.0     F        2.0  174412.75   \n",
       "189085    1558312             276.0      64.0     F        2.0   27918.86   \n",
       "230853     291330             349.0      68.0     M        2.0   62155.41   \n",
       "...           ...               ...       ...   ...        ...        ...   \n",
       "66072     4192640             174.0      54.0     M        2.0   97914.40   \n",
       "66073     4192640             174.0      54.0     M        2.0   97914.40   \n",
       "66074     4192640             174.0      54.0     M        2.0   97914.40   \n",
       "66075     4192640             174.0      54.0     M        2.0   97914.40   \n",
       "66076     4192640             174.0      54.0     M        2.0   97914.40   \n",
       "\n",
       "        calls_6_mnth  logons_6_mnth             visitor_id  \\\n",
       "118312           4.0            7.0  113539532_90731779729   \n",
       "118313           4.0            7.0  113539532_90731779729   \n",
       "118314           4.0            7.0  113539532_90731779729   \n",
       "189085           2.0            5.0  397562195_28573798537   \n",
       "230853           6.0            9.0  992344309_24884468623   \n",
       "...              ...            ...                    ...   \n",
       "66072            3.0            6.0  692067844_75217592829   \n",
       "66073            3.0            6.0  692067844_75217592829   \n",
       "66074            3.0            6.0  692067844_75217592829   \n",
       "66075            3.0            6.0  692067844_75217592829   \n",
       "66076            3.0            6.0  692067844_75217592829   \n",
       "\n",
       "                            visit_id  process_step           date_time  \\\n",
       "118312    77393632_6804608909_354572             2 2017-06-20 23:57:06   \n",
       "118313    77393632_6804608909_354572             1 2017-06-20 23:56:30   \n",
       "118314    77393632_6804608909_354572             0 2017-06-20 23:56:17   \n",
       "189085  175513303_32086468382_224926             4 2017-06-20 23:26:00   \n",
       "230853   91879336_25502670457_529422             1 2017-06-20 23:21:41   \n",
       "...                              ...           ...                 ...   \n",
       "66072    706721307_85347845958_18583             0 2017-03-15 00:44:38   \n",
       "66073    706721307_85347845958_18583             1 2017-03-15 00:44:36   \n",
       "66074    706721307_85347845958_18583             2 2017-03-15 00:43:48   \n",
       "66075    706721307_85347845958_18583             1 2017-03-15 00:43:32   \n",
       "66076    706721307_85347845958_18583             0 2017-03-15 00:43:23   \n",
       "\n",
       "        variation  \n",
       "118312          0  \n",
       "118313          0  \n",
       "118314          0  \n",
       "189085          0  \n",
       "230853          0  \n",
       "...           ...  \n",
       "66072           1  \n",
       "66073           1  \n",
       "66074           1  \n",
       "66075           1  \n",
       "66076           1  \n",
       "\n",
       "[220371 rows x 13 columns]"
      ]
     },
     "execution_count": 455,
     "metadata": {},
     "output_type": "execute_result"
    }
   ],
   "source": [
    "df_all.sort_values(by=\"date_time\", ascending=False)"
   ]
  },
  {
   "cell_type": "code",
   "execution_count": 456,
   "metadata": {},
   "outputs": [],
   "source": [
    "df_id_max_compras = df_all.groupby([\"client_id\", \"visit_id\", \"variation\"])[\"date_time\"].idxmax()\n"
   ]
  },
  {
   "cell_type": "code",
   "execution_count": 457,
   "metadata": {},
   "outputs": [],
   "source": [
    "df_ambos_portales = df_all.loc[df_id_max_compras]"
   ]
  },
  {
   "cell_type": "code",
   "execution_count": 458,
   "metadata": {},
   "outputs": [],
   "source": [
    "df_control = df_ambos_portales[df_ambos_portales[\"variation\"] == 0]"
   ]
  },
  {
   "cell_type": "code",
   "execution_count": 459,
   "metadata": {},
   "outputs": [],
   "source": [
    "df_control_step_0 = df_control[df_control[\"process_step\"] == 0]\n",
    "df_control_step_1 = df_control[df_control[\"process_step\"] == 1]\n",
    "df_control_step_2 = df_control[df_control[\"process_step\"] == 2]\n",
    "df_control_step_3 = df_control[df_control[\"process_step\"] == 3]\n",
    "df_control_step_4 = df_control[df_control[\"process_step\"] == 4]"
   ]
  },
  {
   "cell_type": "code",
   "execution_count": 460,
   "metadata": {},
   "outputs": [
    {
     "name": "stdout",
     "output_type": "stream",
     "text": [
      "\n",
      "El % de gente que se quedó en el INICIO en la web de CONTROL es de 30.232025994233673\n",
      "El % de gente que se quedó en el PASO 1 en la web de CONTROL es de 9.578508992723446\n",
      "El % de gente que se quedó en el PASO 2 en la web de CONTROL es de 4.7366253260720335\n",
      "El % de gente que se quedó en el PASO 3 en la web de CONTROL es de 7.372660290146904\n",
      "El % de gente que CONFIRMÓ la compra en la web de CONTROL es de 48.080179396823944\n",
      "      \n"
     ]
    }
   ],
   "source": [
    "perc_step0_control = 100 * df_control_step_0.shape[0] / df_control.shape[0]\n",
    "perc_step1_control = 100 * df_control_step_1.shape[0] / df_control.shape[0]\n",
    "perc_step2_control = 100 * df_control_step_2.shape[0] / df_control.shape[0]\n",
    "perc_step3_control = 100 * df_control_step_3.shape[0] / df_control.shape[0]\n",
    "\n",
    "perc_confirms_control = 100 * df_control_step_4.shape[0] / df_control.shape[0]\n",
    "\n",
    "\n",
    "print(f\"\"\"\n",
    "El % de gente que se quedó en el INICIO en la web de CONTROL es de {perc_step0_control}\n",
    "El % de gente que se quedó en el PASO 1 en la web de CONTROL es de {perc_step1_control}\n",
    "El % de gente que se quedó en el PASO 2 en la web de CONTROL es de {perc_step2_control}\n",
    "El % de gente que se quedó en el PASO 3 en la web de CONTROL es de {perc_step3_control}\n",
    "El % de gente que CONFIRMÓ la compra en la web de CONTROL es de {perc_confirms_control}\n",
    "      \"\"\")"
   ]
  },
  {
   "cell_type": "code",
   "execution_count": 461,
   "metadata": {},
   "outputs": [],
   "source": [
    "df_test = df_ambos_portales[df_ambos_portales[\"variation\"] == 1]"
   ]
  },
  {
   "cell_type": "code",
   "execution_count": 462,
   "metadata": {},
   "outputs": [],
   "source": [
    "df_test_step_0 = df_test[df_test[\"process_step\"] == 0]\n",
    "df_test_step_1 = df_test[df_test[\"process_step\"] == 1]\n",
    "df_test_step_2 = df_test[df_test[\"process_step\"] == 2]\n",
    "df_test_step_3 = df_test[df_test[\"process_step\"] == 3]\n",
    "df_test_step_4 = df_test[df_test[\"process_step\"] == 4]"
   ]
  },
  {
   "cell_type": "code",
   "execution_count": 463,
   "metadata": {},
   "outputs": [
    {
     "name": "stdout",
     "output_type": "stream",
     "text": [
      "\n",
      "El % de gente que se quedó en el INICIO en la web de TEST es de 25.807860262008735\n",
      "El % de gente que se quedó en el PASO 1 en la web de TEST es de 8.745533942040492\n",
      "El % de gente que se quedó en el PASO 2 en la web de TEST es de 3.6244541484716155\n",
      "El % de gente que se quedó en el PASO 3 en la web de TEST es de 4.958316792377928\n",
      "El % de gente que CONFIRMÓ la compra en la web de TEST es de 56.86383485510123\n",
      "      \n"
     ]
    }
   ],
   "source": [
    "perc_step0_test = 100 * df_test_step_0.shape[0] / df_test.shape[0]\n",
    "perc_step1_test = 100 * df_test_step_1.shape[0] / df_test.shape[0]\n",
    "perc_step2_test = 100 * df_test_step_2.shape[0] / df_test.shape[0]\n",
    "perc_step3_test = 100 * df_test_step_3.shape[0] / df_test.shape[0]\n",
    "\n",
    "perc_confirms_test = 100 * df_test_step_4.shape[0] / df_test.shape[0]\n",
    "\n",
    "print(f\"\"\"\n",
    "El % de gente que se quedó en el INICIO en la web de TEST es de {perc_step0_test}\n",
    "El % de gente que se quedó en el PASO 1 en la web de TEST es de {perc_step1_test}\n",
    "El % de gente que se quedó en el PASO 2 en la web de TEST es de {perc_step2_test}\n",
    "El % de gente que se quedó en el PASO 3 en la web de TEST es de {perc_step3_test}\n",
    "El % de gente que CONFIRMÓ la compra en la web de TEST es de {perc_confirms_test}\n",
    "      \"\"\")"
   ]
  },
  {
   "cell_type": "code",
   "execution_count": 464,
   "metadata": {},
   "outputs": [
    {
     "data": {
      "text/html": [
       "<div>\n",
       "<style scoped>\n",
       "    .dataframe tbody tr th:only-of-type {\n",
       "        vertical-align: middle;\n",
       "    }\n",
       "\n",
       "    .dataframe tbody tr th {\n",
       "        vertical-align: top;\n",
       "    }\n",
       "\n",
       "    .dataframe thead th {\n",
       "        text-align: right;\n",
       "    }\n",
       "</style>\n",
       "<table border=\"1\" class=\"dataframe\">\n",
       "  <thead>\n",
       "    <tr style=\"text-align: right;\">\n",
       "      <th></th>\n",
       "      <th>client_id</th>\n",
       "      <th>clnt_tenure_mnth</th>\n",
       "      <th>clnt_age</th>\n",
       "      <th>gendr</th>\n",
       "      <th>num_accts</th>\n",
       "      <th>bal</th>\n",
       "      <th>calls_6_mnth</th>\n",
       "      <th>logons_6_mnth</th>\n",
       "      <th>visitor_id</th>\n",
       "      <th>visit_id</th>\n",
       "      <th>process_step</th>\n",
       "      <th>date_time</th>\n",
       "      <th>variation</th>\n",
       "    </tr>\n",
       "  </thead>\n",
       "  <tbody>\n",
       "    <tr>\n",
       "      <th>255392</th>\n",
       "      <td>555</td>\n",
       "      <td>46.0</td>\n",
       "      <td>29.5</td>\n",
       "      <td>U</td>\n",
       "      <td>2.0</td>\n",
       "      <td>25454.66</td>\n",
       "      <td>2.0</td>\n",
       "      <td>6.0</td>\n",
       "      <td>402506806_56087378777</td>\n",
       "      <td>637149525_38041617439_716659</td>\n",
       "      <td>4</td>\n",
       "      <td>2017-04-15 13:00:34</td>\n",
       "      <td>1</td>\n",
       "    </tr>\n",
       "    <tr>\n",
       "      <th>9745</th>\n",
       "      <td>647</td>\n",
       "      <td>151.0</td>\n",
       "      <td>57.5</td>\n",
       "      <td>M</td>\n",
       "      <td>2.0</td>\n",
       "      <td>30525.80</td>\n",
       "      <td>0.0</td>\n",
       "      <td>4.0</td>\n",
       "      <td>66758770_53988066587</td>\n",
       "      <td>40369564_40101682850_311847</td>\n",
       "      <td>4</td>\n",
       "      <td>2017-04-12 15:47:45</td>\n",
       "      <td>1</td>\n",
       "    </tr>\n",
       "    <tr>\n",
       "      <th>83826</th>\n",
       "      <td>934</td>\n",
       "      <td>109.0</td>\n",
       "      <td>51.0</td>\n",
       "      <td>F</td>\n",
       "      <td>2.0</td>\n",
       "      <td>32522.88</td>\n",
       "      <td>0.0</td>\n",
       "      <td>3.0</td>\n",
       "      <td>810392784_45004760546</td>\n",
       "      <td>7076463_57954418406_971348</td>\n",
       "      <td>0</td>\n",
       "      <td>2017-04-18 02:38:52</td>\n",
       "      <td>1</td>\n",
       "    </tr>\n",
       "    <tr>\n",
       "      <th>284885</th>\n",
       "      <td>1186</td>\n",
       "      <td>99.0</td>\n",
       "      <td>22.0</td>\n",
       "      <td>U</td>\n",
       "      <td>2.0</td>\n",
       "      <td>31662.52</td>\n",
       "      <td>0.0</td>\n",
       "      <td>3.0</td>\n",
       "      <td>446844663_31615102958</td>\n",
       "      <td>507052512_11309370126_442139</td>\n",
       "      <td>0</td>\n",
       "      <td>2017-04-08 15:59:16</td>\n",
       "      <td>0</td>\n",
       "    </tr>\n",
       "    <tr>\n",
       "      <th>284882</th>\n",
       "      <td>1186</td>\n",
       "      <td>99.0</td>\n",
       "      <td>22.0</td>\n",
       "      <td>U</td>\n",
       "      <td>2.0</td>\n",
       "      <td>31662.52</td>\n",
       "      <td>0.0</td>\n",
       "      <td>3.0</td>\n",
       "      <td>446844663_31615102958</td>\n",
       "      <td>795373564_99931517312_810896</td>\n",
       "      <td>2</td>\n",
       "      <td>2017-04-08 18:05:24</td>\n",
       "      <td>0</td>\n",
       "    </tr>\n",
       "    <tr>\n",
       "      <th>...</th>\n",
       "      <td>...</td>\n",
       "      <td>...</td>\n",
       "      <td>...</td>\n",
       "      <td>...</td>\n",
       "      <td>...</td>\n",
       "      <td>...</td>\n",
       "      <td>...</td>\n",
       "      <td>...</td>\n",
       "      <td>...</td>\n",
       "      <td>...</td>\n",
       "      <td>...</td>\n",
       "      <td>...</td>\n",
       "      <td>...</td>\n",
       "    </tr>\n",
       "    <tr>\n",
       "      <th>208379</th>\n",
       "      <td>9998773</td>\n",
       "      <td>59.0</td>\n",
       "      <td>28.5</td>\n",
       "      <td>U</td>\n",
       "      <td>2.0</td>\n",
       "      <td>76988.65</td>\n",
       "      <td>2.0</td>\n",
       "      <td>5.0</td>\n",
       "      <td>481169437_1308863478</td>\n",
       "      <td>980310183_14300639078_417437</td>\n",
       "      <td>4</td>\n",
       "      <td>2017-04-12 23:50:22</td>\n",
       "      <td>1</td>\n",
       "    </tr>\n",
       "    <tr>\n",
       "      <th>43929</th>\n",
       "      <td>9998851</td>\n",
       "      <td>58.0</td>\n",
       "      <td>23.5</td>\n",
       "      <td>U</td>\n",
       "      <td>2.0</td>\n",
       "      <td>38473.54</td>\n",
       "      <td>3.0</td>\n",
       "      <td>6.0</td>\n",
       "      <td>660529049_81285947655</td>\n",
       "      <td>310744937_17135608286_213964</td>\n",
       "      <td>4</td>\n",
       "      <td>2017-04-05 12:08:43</td>\n",
       "      <td>1</td>\n",
       "    </tr>\n",
       "    <tr>\n",
       "      <th>27192</th>\n",
       "      <td>9998921</td>\n",
       "      <td>189.0</td>\n",
       "      <td>38.0</td>\n",
       "      <td>F</td>\n",
       "      <td>2.0</td>\n",
       "      <td>30644.10</td>\n",
       "      <td>4.0</td>\n",
       "      <td>7.0</td>\n",
       "      <td>960034051_85687824805</td>\n",
       "      <td>378424178_59565976155_8051</td>\n",
       "      <td>0</td>\n",
       "      <td>2017-04-18 11:26:31</td>\n",
       "      <td>0</td>\n",
       "    </tr>\n",
       "    <tr>\n",
       "      <th>194568</th>\n",
       "      <td>9999400</td>\n",
       "      <td>86.0</td>\n",
       "      <td>28.5</td>\n",
       "      <td>U</td>\n",
       "      <td>2.0</td>\n",
       "      <td>51787.04</td>\n",
       "      <td>0.0</td>\n",
       "      <td>3.0</td>\n",
       "      <td>915967319_19082377501</td>\n",
       "      <td>288904166_90826265353_276104</td>\n",
       "      <td>4</td>\n",
       "      <td>2017-04-20 05:23:27</td>\n",
       "      <td>1</td>\n",
       "    </tr>\n",
       "    <tr>\n",
       "      <th>20599</th>\n",
       "      <td>9999626</td>\n",
       "      <td>113.0</td>\n",
       "      <td>35.0</td>\n",
       "      <td>M</td>\n",
       "      <td>2.0</td>\n",
       "      <td>36642.88</td>\n",
       "      <td>6.0</td>\n",
       "      <td>9.0</td>\n",
       "      <td>52633065_71189986073</td>\n",
       "      <td>182723364_27031318473_880901</td>\n",
       "      <td>1</td>\n",
       "      <td>2017-05-14 09:07:59</td>\n",
       "      <td>1</td>\n",
       "    </tr>\n",
       "  </tbody>\n",
       "</table>\n",
       "<p>47041 rows × 13 columns</p>\n",
       "</div>"
      ],
      "text/plain": [
       "        client_id  clnt_tenure_mnth  clnt_age gendr  num_accts       bal  \\\n",
       "255392        555              46.0      29.5     U        2.0  25454.66   \n",
       "9745          647             151.0      57.5     M        2.0  30525.80   \n",
       "83826         934             109.0      51.0     F        2.0  32522.88   \n",
       "284885       1186              99.0      22.0     U        2.0  31662.52   \n",
       "284882       1186              99.0      22.0     U        2.0  31662.52   \n",
       "...           ...               ...       ...   ...        ...       ...   \n",
       "208379    9998773              59.0      28.5     U        2.0  76988.65   \n",
       "43929     9998851              58.0      23.5     U        2.0  38473.54   \n",
       "27192     9998921             189.0      38.0     F        2.0  30644.10   \n",
       "194568    9999400              86.0      28.5     U        2.0  51787.04   \n",
       "20599     9999626             113.0      35.0     M        2.0  36642.88   \n",
       "\n",
       "        calls_6_mnth  logons_6_mnth             visitor_id  \\\n",
       "255392           2.0            6.0  402506806_56087378777   \n",
       "9745             0.0            4.0   66758770_53988066587   \n",
       "83826            0.0            3.0  810392784_45004760546   \n",
       "284885           0.0            3.0  446844663_31615102958   \n",
       "284882           0.0            3.0  446844663_31615102958   \n",
       "...              ...            ...                    ...   \n",
       "208379           2.0            5.0   481169437_1308863478   \n",
       "43929            3.0            6.0  660529049_81285947655   \n",
       "27192            4.0            7.0  960034051_85687824805   \n",
       "194568           0.0            3.0  915967319_19082377501   \n",
       "20599            6.0            9.0   52633065_71189986073   \n",
       "\n",
       "                            visit_id  process_step           date_time  \\\n",
       "255392  637149525_38041617439_716659             4 2017-04-15 13:00:34   \n",
       "9745     40369564_40101682850_311847             4 2017-04-12 15:47:45   \n",
       "83826     7076463_57954418406_971348             0 2017-04-18 02:38:52   \n",
       "284885  507052512_11309370126_442139             0 2017-04-08 15:59:16   \n",
       "284882  795373564_99931517312_810896             2 2017-04-08 18:05:24   \n",
       "...                              ...           ...                 ...   \n",
       "208379  980310183_14300639078_417437             4 2017-04-12 23:50:22   \n",
       "43929   310744937_17135608286_213964             4 2017-04-05 12:08:43   \n",
       "27192     378424178_59565976155_8051             0 2017-04-18 11:26:31   \n",
       "194568  288904166_90826265353_276104             4 2017-04-20 05:23:27   \n",
       "20599   182723364_27031318473_880901             1 2017-05-14 09:07:59   \n",
       "\n",
       "        variation  \n",
       "255392          1  \n",
       "9745            1  \n",
       "83826           1  \n",
       "284885          0  \n",
       "284882          0  \n",
       "...           ...  \n",
       "208379          1  \n",
       "43929           1  \n",
       "27192           0  \n",
       "194568          1  \n",
       "20599           1  \n",
       "\n",
       "[47041 rows x 13 columns]"
      ]
     },
     "execution_count": 464,
     "metadata": {},
     "output_type": "execute_result"
    }
   ],
   "source": [
    "df_ambos_portales"
   ]
  },
  {
   "cell_type": "code",
   "execution_count": 469,
   "metadata": {},
   "outputs": [],
   "source": [
    "# import matplotlib.pyplot as plt\n",
    "\n",
    "# # Divide el DataFrame en función de la columna \"variation\"\n",
    "# df_ambos_portales_grouped = df_ambos_portales.groupby('variation')\n",
    "\n",
    "# # Crea un gráfico de barras para cada grupo\n",
    "# for name, group in df_ambos_portales_grouped:\n",
    "#     group['process_step'].value_counts().plot(kind='bar', alpha=0.5, color='blue', label=name)\n",
    "\n",
    "# # Agrega título y etiquetas a los ejes\n",
    "# plt.title('Número de veces que se repite cada valor en la columna \"process_step\"')\n",
    "# plt.xlabel('Valor de \"process_step\"')\n",
    "# plt.ylabel('Número de veces')\n",
    "# plt.legend()\n",
    "\n",
    "# # Muestra el gráfico\n",
    "# plt.show()"
   ]
  },
  {
   "cell_type": "code",
   "execution_count": 470,
   "metadata": {},
   "outputs": [
    {
     "data": {
      "image/png": "[encoded data removed]",
      "text/plain": [
       "<Figure size 1000x600 with 1 Axes>"
      ]
     },
     "metadata": {},
     "output_type": "display_data"
    }
   ],
   "source": [
    "import pandas as pd\n",
    "import matplotlib.pyplot as plt\n",
    "\n",
    "# Contar y normalizar las ocurrencias de process_step en cada DataFrame\n",
    "control_counts = df_control['process_step'].value_counts(normalize=True).sort_index() * 100  \n",
    "# normalize=True me permite obtener la proporcion. Si no, obtengo datos absolutos y al ser los dos df con distintos número de valores no puedo compararlos \n",
    "test_counts = df_test['process_step'].value_counts(normalize=True).sort_index() * 100  \n",
    "\n",
    "# Crear un DataFrame para facilitar la comparación\n",
    "counts_df = pd.DataFrame({'Control (%)': control_counts, 'Test (%)': test_counts})\n",
    "\n",
    "# Graficar\n",
    "counts_df.plot(kind='bar', figsize=(10, 6))\n",
    "plt.title('Comparación Proporcional de process_step entre Control y Test')\n",
    "plt.xlabel('Process Step')\n",
    "plt.ylabel('Porcentaje de Ocurrencias (%)')\n",
    "plt.xticks(rotation=0)\n",
    "plt.legend(title='Grupo')\n",
    "plt.grid(axis='y')\n",
    "plt.show()\n"
   ]
  },
  {
   "cell_type": "code",
   "execution_count": null,
   "metadata": {},
   "outputs": [],
   "source": []
  }
 ],
 "metadata": {
  "kernelspec": {
   "display_name": "base",
   "language": "python",
   "name": "python3"
  },
  "language_info": {
   "codemirror_mode": {
    "name": "ipython",
    "version": 3
   },
   "file_extension": ".py",
   "mimetype": "text/x-python",
   "name": "python",
   "nbconvert_exporter": "python",
   "pygments_lexer": "ipython3",
   "version": "3.12.4"
  }
 },
 "nbformat": 4,
 "nbformat_minor": 2
}

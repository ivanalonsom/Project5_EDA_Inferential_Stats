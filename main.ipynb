{
 "cells": [
  {
   "cell_type": "markdown",
   "metadata": {},
   "source": [
    "## FINAL DEMO"
   ]
  },
  {
   "cell_type": "code",
   "execution_count": 43,
   "metadata": {},
   "outputs": [],
   "source": [
    "import pandas as pd\n",
    "from functions import *\n",
    "\n",
    "df_final_demo = pd.read_csv(\"df_final_demo.csv\")\n",
    "\n",
    "df_final_demo.head()\n",
    "df_final_demo.dropna(inplace=True)\n",
    "\n",
    "mapGenre = {'X' : 'U'}\n",
    "df_final_demo[\"gendr\"] = replace_values_df(df_final_demo[\"gendr\"], mapGenre)"
   ]
  },
  {
   "cell_type": "markdown",
   "metadata": {},
   "source": [
    "## WEB DATA"
   ]
  },
  {
   "cell_type": "code",
   "execution_count": 44,
   "metadata": {},
   "outputs": [],
   "source": [
    "df_web_data1 = pd.read_csv(\"df_final_web_data_pt_1.csv\")\n",
    "df_web_data2 = pd.read_csv(\"df_final_web_data_pt_2.csv\")\n",
    "\n",
    "df_web_data_concat = pd.concat([df_web_data1, df_web_data2], axis=0, join='inner')"
   ]
  },
  {
   "cell_type": "code",
   "execution_count": 45,
   "metadata": {},
   "outputs": [
    {
     "data": {
      "text/plain": [
       "client_id                int64\n",
       "visitor_id              object\n",
       "visit_id                object\n",
       "process_step            object\n",
       "date_time       datetime64[ns]\n",
       "dtype: object"
      ]
     },
     "execution_count": 45,
     "metadata": {},
     "output_type": "execute_result"
    }
   ],
   "source": [
    "# Convert type object into datetime \n",
    "\n",
    "df_web_data_concat['date_time'] = convert_to_dateTime(df_web_data_concat['date_time'])\n",
    "\n",
    "df_web_data_concat.dtypes"
   ]
  },
  {
   "cell_type": "code",
   "execution_count": 46,
   "metadata": {},
   "outputs": [],
   "source": [
    "# I turn 'step' into a discrete numeric df\n",
    "\n",
    "map_values = {'start' : 0, 'step_1' : 1, 'step_2' : 2, 'step_3' : 3, 'confirm' : 4}\n",
    "\n",
    "df_web_data_concat[\"process_step\"] = replace_values_df(df_web_data_concat[\"process_step\"], map_values)"
   ]
  },
  {
   "cell_type": "markdown",
   "metadata": {},
   "source": [
    "## FINAL EXP"
   ]
  },
  {
   "cell_type": "code",
   "execution_count": 47,
   "metadata": {},
   "outputs": [],
   "source": [
    "df_final_exp = pd.read_csv(\"df_final_experiment_clients.csv\")\n",
    "df_final_exp.rename(columns={\"Variation\" : \"variation\"}, inplace=True)"
   ]
  },
  {
   "cell_type": "code",
   "execution_count": 48,
   "metadata": {},
   "outputs": [],
   "source": [
    "df_final_exp = drop_na_df(df_final_exp, \"variation\")"
   ]
  },
  {
   "cell_type": "code",
   "execution_count": 49,
   "metadata": {},
   "outputs": [],
   "source": [
    "map_values2 = {'Control': 0, 'Test': 1}\n",
    "\n",
    "df_final_exp[\"variation\"] = replace_values_df(df_final_exp[\"variation\"], map_values2)"
   ]
  },
  {
   "cell_type": "markdown",
   "metadata": {},
   "source": [
    "## MERGE"
   ]
  },
  {
   "cell_type": "code",
   "execution_count": 50,
   "metadata": {},
   "outputs": [],
   "source": [
    "df_temp1 = pd.merge(df_final_demo, df_web_data_concat, on='client_id', how='inner')\n",
    "\n",
    "df_all = pd.merge(df_temp1, df_final_exp, on='client_id', how='inner')"
   ]
  },
  {
   "cell_type": "code",
   "execution_count": 51,
   "metadata": {},
   "outputs": [],
   "source": [
    "df_all = df_all.drop(\"clnt_tenure_yr\", axis=1)      # We don´t need this column because is derivative from clnt_tenure_mnth"
   ]
  },
  {
   "cell_type": "code",
   "execution_count": 52,
   "metadata": {},
   "outputs": [],
   "source": [
    "df_all_no_duplicates = df_all.copy()\n",
    "df_all_no_duplicates.drop_duplicates(subset=\"client_id\", inplace=True)\n",
    "\n",
    "# El datafram pero sin los duplicados"
   ]
  },
  {
   "cell_type": "markdown",
   "metadata": {},
   "source": [
    "## QUITAMOS OUTLIERS DEL DF_ALL Y DEL QUE NO TIENE DUPLICADOS"
   ]
  },
  {
   "cell_type": "code",
   "execution_count": 53,
   "metadata": {},
   "outputs": [],
   "source": [
    "df_all = outlier_slayer(df_all)\n",
    "\n",
    "df_all_no_duplicates = outlier_slayer(df_all_no_duplicates)"
   ]
  },
  {
   "cell_type": "markdown",
   "metadata": {},
   "source": [
    "# VER SI SON JOVENES O NO"
   ]
  },
  {
   "cell_type": "code",
   "execution_count": 54,
   "metadata": {},
   "outputs": [
    {
     "data": {
      "text/plain": [
       "count    34931.000000\n",
       "mean        46.057213\n",
       "std         15.322921\n",
       "min         17.000000\n",
       "25%         32.500000\n",
       "50%         46.000000\n",
       "75%         58.500000\n",
       "max         96.000000\n",
       "Name: clnt_age, dtype: float64"
      ]
     },
     "execution_count": 54,
     "metadata": {},
     "output_type": "execute_result"
    }
   ],
   "source": [
    "df_all_no_duplicates[\"clnt_age\"].describe()"
   ]
  },
  {
   "cell_type": "code",
   "execution_count": 55,
   "metadata": {},
   "outputs": [
    {
     "data": {
      "text/plain": [
       "0    59.5\n",
       "Name: clnt_age, dtype: float64"
      ]
     },
     "execution_count": 55,
     "metadata": {},
     "output_type": "execute_result"
    }
   ],
   "source": [
    "df_all[\"clnt_age\"].mode()"
   ]
  },
  {
   "cell_type": "code",
   "execution_count": 56,
   "metadata": {},
   "outputs": [
    {
     "data": {
      "text/plain": [
       "<Axes: >"
      ]
     },
     "execution_count": 56,
     "metadata": {},
     "output_type": "execute_result"
    },
    {
     "data": {
      "image/png": "[encoded data removed]",
      "text/plain": [
       "<Figure size 640x480 with 1 Axes>"
      ]
     },
     "metadata": {},
     "output_type": "display_data"
    }
   ],
   "source": [
    "import seaborn as sns\n",
    "\n",
    "sns.boxplot(data = df_all_no_duplicates['clnt_age'])"
   ]
  },
  {
   "cell_type": "code",
   "execution_count": 57,
   "metadata": {},
   "outputs": [
    {
     "data": {
      "text/plain": [
       "(-6.5, 97.5)"
      ]
     },
     "execution_count": 57,
     "metadata": {},
     "output_type": "execute_result"
    }
   ],
   "source": [
    "Q1 = df_all_no_duplicates['clnt_age'].quantile(0.25)\n",
    "Q3 = df_all_no_duplicates['clnt_age'].quantile(0.75)\n",
    "IQR = Q3 - Q1\n",
    "\n",
    "\n",
    "inf_lim = Q1 - 1.5*IQR\n",
    "sup_lim = Q3 + 1.5*IQR\n",
    "\n",
    "inf_lim, sup_lim"
   ]
  },
  {
   "cell_type": "code",
   "execution_count": 58,
   "metadata": {},
   "outputs": [],
   "source": [
    "# age_outliers = df_all_no_duplicates['clnt_age'][(df_all_no_duplicates['clnt_age'] < inf_lim) | (df_all_no_duplicates['clnt_age'] > sup_lim) ]\n",
    "\n",
    "# age_outliers         # THERE ARE NO OUTLIERS ON Client Age column"
   ]
  },
  {
   "cell_type": "markdown",
   "metadata": {},
   "source": [
    "# VER SI SON NUEVOS O ANTIGUOS"
   ]
  },
  {
   "cell_type": "code",
   "execution_count": 59,
   "metadata": {},
   "outputs": [
    {
     "data": {
      "text/plain": [
       "count    34931.000000\n",
       "mean       137.713521\n",
       "std         68.669962\n",
       "min         33.000000\n",
       "25%         79.000000\n",
       "50%        123.000000\n",
       "75%        181.000000\n",
       "max        357.000000\n",
       "Name: clnt_tenure_mnth, dtype: float64"
      ]
     },
     "execution_count": 59,
     "metadata": {},
     "output_type": "execute_result"
    }
   ],
   "source": [
    "df_all_no_duplicates[\"clnt_tenure_mnth\"].describe()"
   ]
  },
  {
   "cell_type": "code",
   "execution_count": 60,
   "metadata": {},
   "outputs": [
    {
     "data": {
      "text/plain": [
       "0    58.0\n",
       "Name: clnt_tenure_mnth, dtype: float64"
      ]
     },
     "execution_count": 60,
     "metadata": {},
     "output_type": "execute_result"
    }
   ],
   "source": [
    "df_all[\"clnt_tenure_mnth\"].mode()"
   ]
  },
  {
   "cell_type": "code",
   "execution_count": 61,
   "metadata": {},
   "outputs": [
    {
     "data": {
      "text/plain": [
       "<Axes: >"
      ]
     },
     "execution_count": 61,
     "metadata": {},
     "output_type": "execute_result"
    },
    {
     "data": {
      "image/png": "[encoded data removed]",
      "text/plain": [
       "<Figure size 640x480 with 1 Axes>"
      ]
     },
     "metadata": {},
     "output_type": "display_data"
    }
   ],
   "source": [
    "sns.boxplot(data = df_all_no_duplicates['clnt_tenure_mnth'])            # Seguimos teniendo outliers pero dar una segunda pasada es contraproducente en principio."
   ]
  },
  {
   "cell_type": "code",
   "execution_count": 62,
   "metadata": {},
   "outputs": [
    {
     "data": {
      "text/plain": [
       "(-74.0, 334.0)"
      ]
     },
     "execution_count": 62,
     "metadata": {},
     "output_type": "execute_result"
    }
   ],
   "source": [
    "Q1 = df_all_no_duplicates['clnt_tenure_mnth'].quantile(0.25)\n",
    "Q3 = df_all_no_duplicates['clnt_tenure_mnth'].quantile(0.75)\n",
    "IQR = Q3 - Q1\n",
    "\n",
    "\n",
    "inf_lim = Q1 - 1.5*IQR\n",
    "sup_lim = Q3 + 1.5*IQR\n",
    "\n",
    "inf_lim, sup_lim"
   ]
  },
  {
   "cell_type": "markdown",
   "metadata": {},
   "source": [
    "## Día 3"
   ]
  },
  {
   "cell_type": "code",
   "execution_count": 63,
   "metadata": {},
   "outputs": [
    {
     "data": {
      "text/html": [
       "<div>\n",
       "<style scoped>\n",
       "    .dataframe tbody tr th:only-of-type {\n",
       "        vertical-align: middle;\n",
       "    }\n",
       "\n",
       "    .dataframe tbody tr th {\n",
       "        vertical-align: top;\n",
       "    }\n",
       "\n",
       "    .dataframe thead th {\n",
       "        text-align: right;\n",
       "    }\n",
       "</style>\n",
       "<table border=\"1\" class=\"dataframe\">\n",
       "  <thead>\n",
       "    <tr style=\"text-align: right;\">\n",
       "      <th></th>\n",
       "      <th>client_id</th>\n",
       "      <th>clnt_tenure_mnth</th>\n",
       "      <th>clnt_age</th>\n",
       "      <th>gendr</th>\n",
       "      <th>num_accts</th>\n",
       "      <th>bal</th>\n",
       "      <th>calls_6_mnth</th>\n",
       "      <th>logons_6_mnth</th>\n",
       "      <th>visitor_id</th>\n",
       "      <th>visit_id</th>\n",
       "      <th>process_step</th>\n",
       "      <th>date_time</th>\n",
       "      <th>variation</th>\n",
       "    </tr>\n",
       "  </thead>\n",
       "  <tbody>\n",
       "    <tr>\n",
       "      <th>0</th>\n",
       "      <td>836976</td>\n",
       "      <td>73.0</td>\n",
       "      <td>60.5</td>\n",
       "      <td>U</td>\n",
       "      <td>2.0</td>\n",
       "      <td>45105.30</td>\n",
       "      <td>6.0</td>\n",
       "      <td>9.0</td>\n",
       "      <td>427070339_1413275162</td>\n",
       "      <td>228976764_46825473280_96584</td>\n",
       "      <td>4</td>\n",
       "      <td>2017-04-02 11:51:13</td>\n",
       "      <td>1</td>\n",
       "    </tr>\n",
       "    <tr>\n",
       "      <th>1</th>\n",
       "      <td>836976</td>\n",
       "      <td>73.0</td>\n",
       "      <td>60.5</td>\n",
       "      <td>U</td>\n",
       "      <td>2.0</td>\n",
       "      <td>45105.30</td>\n",
       "      <td>6.0</td>\n",
       "      <td>9.0</td>\n",
       "      <td>427070339_1413275162</td>\n",
       "      <td>228976764_46825473280_96584</td>\n",
       "      <td>4</td>\n",
       "      <td>2017-04-02 11:47:50</td>\n",
       "      <td>1</td>\n",
       "    </tr>\n",
       "    <tr>\n",
       "      <th>2</th>\n",
       "      <td>836976</td>\n",
       "      <td>73.0</td>\n",
       "      <td>60.5</td>\n",
       "      <td>U</td>\n",
       "      <td>2.0</td>\n",
       "      <td>45105.30</td>\n",
       "      <td>6.0</td>\n",
       "      <td>9.0</td>\n",
       "      <td>427070339_1413275162</td>\n",
       "      <td>228976764_46825473280_96584</td>\n",
       "      <td>4</td>\n",
       "      <td>2017-04-02 11:46:45</td>\n",
       "      <td>1</td>\n",
       "    </tr>\n",
       "    <tr>\n",
       "      <th>3</th>\n",
       "      <td>836976</td>\n",
       "      <td>73.0</td>\n",
       "      <td>60.5</td>\n",
       "      <td>U</td>\n",
       "      <td>2.0</td>\n",
       "      <td>45105.30</td>\n",
       "      <td>6.0</td>\n",
       "      <td>9.0</td>\n",
       "      <td>427070339_1413275162</td>\n",
       "      <td>228976764_46825473280_96584</td>\n",
       "      <td>3</td>\n",
       "      <td>2017-04-02 11:23:08</td>\n",
       "      <td>1</td>\n",
       "    </tr>\n",
       "    <tr>\n",
       "      <th>4</th>\n",
       "      <td>836976</td>\n",
       "      <td>73.0</td>\n",
       "      <td>60.5</td>\n",
       "      <td>U</td>\n",
       "      <td>2.0</td>\n",
       "      <td>45105.30</td>\n",
       "      <td>6.0</td>\n",
       "      <td>9.0</td>\n",
       "      <td>427070339_1413275162</td>\n",
       "      <td>228976764_46825473280_96584</td>\n",
       "      <td>2</td>\n",
       "      <td>2017-04-02 11:22:24</td>\n",
       "      <td>1</td>\n",
       "    </tr>\n",
       "    <tr>\n",
       "      <th>...</th>\n",
       "      <td>...</td>\n",
       "      <td>...</td>\n",
       "      <td>...</td>\n",
       "      <td>...</td>\n",
       "      <td>...</td>\n",
       "      <td>...</td>\n",
       "      <td>...</td>\n",
       "      <td>...</td>\n",
       "      <td>...</td>\n",
       "      <td>...</td>\n",
       "      <td>...</td>\n",
       "      <td>...</td>\n",
       "      <td>...</td>\n",
       "    </tr>\n",
       "    <tr>\n",
       "      <th>321184</th>\n",
       "      <td>8739285</td>\n",
       "      <td>229.0</td>\n",
       "      <td>69.5</td>\n",
       "      <td>F</td>\n",
       "      <td>2.0</td>\n",
       "      <td>44994.24</td>\n",
       "      <td>1.0</td>\n",
       "      <td>4.0</td>\n",
       "      <td>8756552_54841419737</td>\n",
       "      <td>101846948_96925910026_299041</td>\n",
       "      <td>4</td>\n",
       "      <td>2017-04-12 15:01:19</td>\n",
       "      <td>1</td>\n",
       "    </tr>\n",
       "    <tr>\n",
       "      <th>321185</th>\n",
       "      <td>8739285</td>\n",
       "      <td>229.0</td>\n",
       "      <td>69.5</td>\n",
       "      <td>F</td>\n",
       "      <td>2.0</td>\n",
       "      <td>44994.24</td>\n",
       "      <td>1.0</td>\n",
       "      <td>4.0</td>\n",
       "      <td>8756552_54841419737</td>\n",
       "      <td>101846948_96925910026_299041</td>\n",
       "      <td>3</td>\n",
       "      <td>2017-04-12 14:58:39</td>\n",
       "      <td>1</td>\n",
       "    </tr>\n",
       "    <tr>\n",
       "      <th>321186</th>\n",
       "      <td>8739285</td>\n",
       "      <td>229.0</td>\n",
       "      <td>69.5</td>\n",
       "      <td>F</td>\n",
       "      <td>2.0</td>\n",
       "      <td>44994.24</td>\n",
       "      <td>1.0</td>\n",
       "      <td>4.0</td>\n",
       "      <td>8756552_54841419737</td>\n",
       "      <td>101846948_96925910026_299041</td>\n",
       "      <td>2</td>\n",
       "      <td>2017-04-12 14:58:16</td>\n",
       "      <td>1</td>\n",
       "    </tr>\n",
       "    <tr>\n",
       "      <th>321187</th>\n",
       "      <td>8739285</td>\n",
       "      <td>229.0</td>\n",
       "      <td>69.5</td>\n",
       "      <td>F</td>\n",
       "      <td>2.0</td>\n",
       "      <td>44994.24</td>\n",
       "      <td>1.0</td>\n",
       "      <td>4.0</td>\n",
       "      <td>8756552_54841419737</td>\n",
       "      <td>101846948_96925910026_299041</td>\n",
       "      <td>1</td>\n",
       "      <td>2017-04-12 14:50:44</td>\n",
       "      <td>1</td>\n",
       "    </tr>\n",
       "    <tr>\n",
       "      <th>321188</th>\n",
       "      <td>8739285</td>\n",
       "      <td>229.0</td>\n",
       "      <td>69.5</td>\n",
       "      <td>F</td>\n",
       "      <td>2.0</td>\n",
       "      <td>44994.24</td>\n",
       "      <td>1.0</td>\n",
       "      <td>4.0</td>\n",
       "      <td>8756552_54841419737</td>\n",
       "      <td>101846948_96925910026_299041</td>\n",
       "      <td>0</td>\n",
       "      <td>2017-04-12 14:49:47</td>\n",
       "      <td>1</td>\n",
       "    </tr>\n",
       "  </tbody>\n",
       "</table>\n",
       "<p>220371 rows × 13 columns</p>\n",
       "</div>"
      ],
      "text/plain": [
       "        client_id  clnt_tenure_mnth  clnt_age gendr  num_accts       bal  \\\n",
       "0          836976              73.0      60.5     U        2.0  45105.30   \n",
       "1          836976              73.0      60.5     U        2.0  45105.30   \n",
       "2          836976              73.0      60.5     U        2.0  45105.30   \n",
       "3          836976              73.0      60.5     U        2.0  45105.30   \n",
       "4          836976              73.0      60.5     U        2.0  45105.30   \n",
       "...           ...               ...       ...   ...        ...       ...   \n",
       "321184    8739285             229.0      69.5     F        2.0  44994.24   \n",
       "321185    8739285             229.0      69.5     F        2.0  44994.24   \n",
       "321186    8739285             229.0      69.5     F        2.0  44994.24   \n",
       "321187    8739285             229.0      69.5     F        2.0  44994.24   \n",
       "321188    8739285             229.0      69.5     F        2.0  44994.24   \n",
       "\n",
       "        calls_6_mnth  logons_6_mnth            visitor_id  \\\n",
       "0                6.0            9.0  427070339_1413275162   \n",
       "1                6.0            9.0  427070339_1413275162   \n",
       "2                6.0            9.0  427070339_1413275162   \n",
       "3                6.0            9.0  427070339_1413275162   \n",
       "4                6.0            9.0  427070339_1413275162   \n",
       "...              ...            ...                   ...   \n",
       "321184           1.0            4.0   8756552_54841419737   \n",
       "321185           1.0            4.0   8756552_54841419737   \n",
       "321186           1.0            4.0   8756552_54841419737   \n",
       "321187           1.0            4.0   8756552_54841419737   \n",
       "321188           1.0            4.0   8756552_54841419737   \n",
       "\n",
       "                            visit_id  process_step           date_time  \\\n",
       "0        228976764_46825473280_96584             4 2017-04-02 11:51:13   \n",
       "1        228976764_46825473280_96584             4 2017-04-02 11:47:50   \n",
       "2        228976764_46825473280_96584             4 2017-04-02 11:46:45   \n",
       "3        228976764_46825473280_96584             3 2017-04-02 11:23:08   \n",
       "4        228976764_46825473280_96584             2 2017-04-02 11:22:24   \n",
       "...                              ...           ...                 ...   \n",
       "321184  101846948_96925910026_299041             4 2017-04-12 15:01:19   \n",
       "321185  101846948_96925910026_299041             3 2017-04-12 14:58:39   \n",
       "321186  101846948_96925910026_299041             2 2017-04-12 14:58:16   \n",
       "321187  101846948_96925910026_299041             1 2017-04-12 14:50:44   \n",
       "321188  101846948_96925910026_299041             0 2017-04-12 14:49:47   \n",
       "\n",
       "        variation  \n",
       "0               1  \n",
       "1               1  \n",
       "2               1  \n",
       "3               1  \n",
       "4               1  \n",
       "...           ...  \n",
       "321184          1  \n",
       "321185          1  \n",
       "321186          1  \n",
       "321187          1  \n",
       "321188          1  \n",
       "\n",
       "[220371 rows x 13 columns]"
      ]
     },
     "execution_count": 63,
     "metadata": {},
     "output_type": "execute_result"
    }
   ],
   "source": [
    "df_all"
   ]
  },
  {
   "cell_type": "code",
   "execution_count": 64,
   "metadata": {},
   "outputs": [
    {
     "name": "stdout",
     "output_type": "stream",
     "text": [
      "ICU - Portal Antiguo: 0.09321350590559706\n",
      "ICU - Portal Nuevo: 0.09182852821379545\n"
     ]
    }
   ],
   "source": [
    "# Calcular ICU\n",
    "df_all['ICU'] = (df_all['logons_6_mnth'] + df_all['calls_6_mnth'] + df_all['process_step']) / (df_all['clnt_tenure_mnth'] + df_all['num_accts'])\n",
    "\n",
    "# Comparar entre los portales (1 para nuevo, 0 para antiguo)\n",
    "kpi_portal_antiguo = df_all[df_all['variation'] == 0]['ICU'].mean()\n",
    "kpi_portal_nuevo = df_all[df_all['variation'] == 1]['ICU'].mean()\n",
    "\n",
    "print(\"ICU - Portal Antiguo:\", kpi_portal_antiguo)\n",
    "print(\"ICU - Portal Nuevo:\", kpi_portal_nuevo)"
   ]
  },
  {
   "cell_type": "code",
   "execution_count": 65,
   "metadata": {},
   "outputs": [
    {
     "name": "stdout",
     "output_type": "stream",
     "text": [
      "ICU - Portal Antiguo: 0.08030271633482752\n",
      "ICU - Portal Nuevo: 0.07897087931808534\n"
     ]
    }
   ],
   "source": [
    "# Filtrar las compras confirmadas (process_step = 4)\n",
    "df_all['num_compras'] = df_all['process_step'].apply(lambda x: 1 if x == 4 else 0)\n",
    "\n",
    "# Calcular ICU\n",
    "df_all['ICU'] = (df_all['logons_6_mnth'] + df_all['calls_6_mnth'] + df_all['num_compras']) / (df_all['clnt_tenure_mnth'] + df_all['num_accts'])\n",
    "\n",
    "# Comparar el rendimiento entre portales (1 para nuevo, 0 para antiguo)\n",
    "kpi_portal_antiguo = df_all[df_all['variation'] == 0]['ICU'].mean()\n",
    "kpi_portal_nuevo = df_all[df_all['variation'] == 1]['ICU'].mean()\n",
    "\n",
    "print(\"ICU - Portal Antiguo:\", kpi_portal_antiguo)\n",
    "print(\"ICU - Portal Nuevo:\", kpi_portal_nuevo)\n"
   ]
  },
  {
   "cell_type": "markdown",
   "metadata": {},
   "source": [
    "1. KPI Mejorado: ICU ponderado\n",
    "El ICU actual trata todas las interacciones por igual (logins, llamadas, y confirmaciones de compra). Para darle más peso a las acciones más críticas, como las compras confirmadas, podríamos ponderar cada elemento:\n",
    "\n",
    "Asignar un mayor peso a las confirmaciones de compra (process_step = 4) porque es el objetivo principal.\n",
    "Dar menor peso a los inicios de sesión y llamadas, pero considerarlos aún como un reflejo del compromiso del usuario.\n",
    "Fórmula del ICU ponderado:\n",
    "ICU Ponderado\n",
    "=\n",
    "(\n",
    "0.5\n",
    "×\n",
    "num_compras\n",
    ")\n",
    "+\n",
    "(\n",
    "0.3\n",
    "×\n",
    "logons_6_mnth\n",
    ")\n",
    "+\n",
    "(\n",
    "0.2\n",
    "×\n",
    "calls_6_mnth\n",
    ")\n",
    "clnt_tenure_mnth\n",
    "+\n",
    "num_accts\n",
    "ICU Ponderado= \n",
    "clnt_tenure_mnth+num_accts\n",
    "(0.5×num_compras)+(0.3×logons_6_mnth)+(0.2×calls_6_mnth)\n",
    "​\n"
   ]
  },
  {
   "cell_type": "code",
   "execution_count": 67,
   "metadata": {},
   "outputs": [
    {
     "name": "stdout",
     "output_type": "stream",
     "text": [
      "ICU Ponderado - Portal Antiguo: 0.02171454640731842\n",
      "ICU Ponderado - Portal Nuevo: 0.021415527960822456\n"
     ]
    }
   ],
   "source": [
    "df_all['ICU_ponderado'] = ((0.5 * df_all['num_compras']) + \n",
    "                       (0.3 * df_all['logons_6_mnth']) + \n",
    "                       (0.2 * df_all['calls_6_mnth'])) / (df_all['clnt_tenure_mnth'] + df_all['num_accts'])\n",
    "\n",
    "kpi_portal_antiguo_ponderado = df_all[df_all['variation'] == 0]['ICU_ponderado'].mean()\n",
    "kpi_portal_nuevo_ponderado = df_all[df_all['variation'] == 1]['ICU_ponderado'].mean()\n",
    "\n",
    "print(\"ICU Ponderado - Portal Antiguo:\", kpi_portal_antiguo_ponderado)\n",
    "print(\"ICU Ponderado - Portal Nuevo:\", kpi_portal_nuevo_ponderado)\n"
   ]
  },
  {
   "cell_type": "markdown",
   "metadata": {},
   "source": [
    "2. KPI: Tasa de Confirmación de Compra (TCC)"
   ]
  },
  {
   "cell_type": "code",
   "execution_count": 68,
   "metadata": {},
   "outputs": [
    {
     "name": "stdout",
     "output_type": "stream",
     "text": [
      "TCC - Portal Antiguo: 0.4968596708384908\n",
      "TCC - Portal Nuevo: 0.5740254574383453\n"
     ]
    }
   ],
   "source": [
    "# Calcular total de compras y visitas para cada portal\n",
    "total_visitas_antiguo = df_all[df_all['variation'] == 0]['visit_id'].nunique()\n",
    "total_compras_antiguo = df_all[(df_all['variation'] == 0) & (df_all['process_step'] == 4)]['visit_id'].nunique()\n",
    "\n",
    "total_visitas_nuevo = df_all[df_all['variation'] == 1]['visit_id'].nunique()\n",
    "total_compras_nuevo = df_all[(df_all['variation'] == 1) & (df_all['process_step'] == 4)]['visit_id'].nunique()\n",
    "\n",
    "tcc_antiguo = total_compras_antiguo / total_visitas_antiguo\n",
    "tcc_nuevo = total_compras_nuevo / total_visitas_nuevo\n",
    "\n",
    "print(\"TCC - Portal Antiguo:\", tcc_antiguo)\n",
    "print(\"TCC - Portal Nuevo:\", tcc_nuevo)\n"
   ]
  },
  {
   "cell_type": "markdown",
   "metadata": {},
   "source": [
    "3. KPI: Tasa de Abandono en Proceso de Compra (TAPC)\n",
    "Este KPI mide cuántos clientes comienzan el proceso de compra pero no llegan a completarlo. El objetivo es identificar si el nuevo portal tiene un menor abandono.\n",
    "\n",
    "​\n"
   ]
  },
  {
   "cell_type": "code",
   "execution_count": 76,
   "metadata": {},
   "outputs": [
    {
     "name": "stdout",
     "output_type": "stream",
     "text": [
      "TAPC - Portal Antiguo: 0.35012292378725185\n",
      "TAPC - Portal Nuevo: 0.3349769585253456\n"
     ]
    }
   ],
   "source": [
    "# Calcular TAPC\n",
    "inicios_proceso_antiguo = df_all[(df_all['variation'] == 0) & (df_all['process_step'] >= 1)]['visit_id'].nunique()\n",
    "tapc_antiguo = 1 - (total_compras_antiguo / inicios_proceso_antiguo)\n",
    "\n",
    "inicios_proceso_nuevo = df_all[(df_all['variation'] == 1) & (df_all['process_step'] >= 1)]['visit_id'].nunique()\n",
    "tapc_nuevo = 1 - (total_compras_nuevo / inicios_proceso_nuevo)\n",
    "\n",
    "print(\"TAPC - Portal Antiguo:\", tapc_antiguo)\n",
    "print(\"TAPC - Portal Nuevo:\", tapc_nuevo)\n"
   ]
  },
  {
   "cell_type": "markdown",
   "metadata": {},
   "source": [
    "4. KPI: Duración Promedio de las Visitas con Compra (DPC)"
   ]
  },
  {
   "cell_type": "code",
   "execution_count": 78,
   "metadata": {},
   "outputs": [
    {
     "name": "stdout",
     "output_type": "stream",
     "text": [
      "DPC - Portal Antiguo: 440.6476714648603\n",
      "DPC - Portal Nuevo: 480.1821790390426\n"
     ]
    }
   ],
   "source": [
    "# Convertir 'date_time' a tipo datetime si no lo está\n",
    "df_all['date_time'] = pd.to_datetime(df_all['date_time'])\n",
    "\n",
    "# Calcular duración de las visitas\n",
    "df_all['visit_duration'] = df_all.groupby('visit_id')['date_time'].transform(lambda x: (x.max() - x.min()).total_seconds())\n",
    "\n",
    "# Filtrar las visitas con compras\n",
    "compras_antiguo = df_all[(df_all['variation'] == 0) & (df_all['process_step'] == 4)]\n",
    "compras_nuevo = df_all[(df_all['variation'] == 1) & (df_all['process_step'] == 4)]\n",
    "\n",
    "dpc_antiguo = compras_antiguo['visit_duration'].mean()\n",
    "dpc_nuevo = compras_nuevo['visit_duration'].mean()\n",
    "\n",
    "print(\"DPC - Portal Antiguo:\", dpc_antiguo)\n",
    "print(\"DPC - Portal Nuevo:\", dpc_nuevo)\n"
   ]
  },
  {
   "cell_type": "markdown",
   "metadata": {},
   "source": [
    "5. KPI: Frecuencia de Visitas por Cliente (FVC)"
   ]
  },
  {
   "cell_type": "code",
   "execution_count": 80,
   "metadata": {},
   "outputs": [
    {
     "name": "stdout",
     "output_type": "stream",
     "text": [
      "FVC - Portal Antiguo: 1.3280365296803653\n",
      "FVC - Portal Nuevo: 1.3258794367385687\n"
     ]
    }
   ],
   "source": [
    "# Calcular FVC\n",
    "fvc_antiguo = total_visitas_antiguo / df_all[df_all['variation'] == 0]['client_id'].nunique()\n",
    "fvc_nuevo = total_visitas_nuevo / df_all[df_all['variation'] == 1]['client_id'].nunique()\n",
    "\n",
    "print(\"FVC - Portal Antiguo:\", fvc_antiguo)\n",
    "print(\"FVC - Portal Nuevo:\", fvc_nuevo)\n"
   ]
  },
  {
   "cell_type": "markdown",
   "metadata": {},
   "source": [
    "#kpis_dos"
   ]
  },
  {
   "cell_type": "code",
   "execution_count": 74,
   "metadata": {},
   "outputs": [
    {
     "data": {
      "text/plain": [
       "client_id  visit_id                      variation\n",
       "555        637149525_38041617439_716659  1            255392\n",
       "647        40369564_40101682850_311847   1              9745\n",
       "934        7076463_57954418406_971348    1             83826\n",
       "1186       507052512_11309370126_442139  0            284885\n",
       "           795373564_99931517312_810896  0            284882\n",
       "                                                       ...  \n",
       "9998773    980310183_14300639078_417437  1            208379\n",
       "9998851    310744937_17135608286_213964  1             43929\n",
       "9998921    378424178_59565976155_8051    0             27192\n",
       "9999400    288904166_90826265353_276104  1            194568\n",
       "9999626    182723364_27031318473_880901  1             20599\n",
       "Name: date_time, Length: 47041, dtype: int64"
      ]
     },
     "execution_count": 74,
     "metadata": {},
     "output_type": "execute_result"
    }
   ],
   "source": [
    "df_ambos_portales = df_all.groupby([\"client_id\", \"visit_id\", \"variation\"])[\"date_time\"].idxmax()\n",
    "df_ambos_portales"
   ]
  },
  {
   "cell_type": "code",
   "execution_count": null,
   "metadata": {},
   "outputs": [],
   "source": [
    "df_ambos_portales.index"
   ]
  },
  {
   "cell_type": "code",
   "execution_count": 75,
   "metadata": {},
   "outputs": [
    {
     "data": {
      "text/html": [
       "<div>\n",
       "<style scoped>\n",
       "    .dataframe tbody tr th:only-of-type {\n",
       "        vertical-align: middle;\n",
       "    }\n",
       "\n",
       "    .dataframe tbody tr th {\n",
       "        vertical-align: top;\n",
       "    }\n",
       "\n",
       "    .dataframe thead th {\n",
       "        text-align: right;\n",
       "    }\n",
       "</style>\n",
       "<table border=\"1\" class=\"dataframe\">\n",
       "  <thead>\n",
       "    <tr style=\"text-align: right;\">\n",
       "      <th></th>\n",
       "      <th>client_id</th>\n",
       "      <th>clnt_tenure_mnth</th>\n",
       "      <th>clnt_age</th>\n",
       "      <th>gendr</th>\n",
       "      <th>num_accts</th>\n",
       "      <th>bal</th>\n",
       "      <th>calls_6_mnth</th>\n",
       "      <th>logons_6_mnth</th>\n",
       "      <th>visitor_id</th>\n",
       "      <th>visit_id</th>\n",
       "      <th>process_step</th>\n",
       "      <th>date_time</th>\n",
       "      <th>variation</th>\n",
       "      <th>ICU</th>\n",
       "      <th>num_compras</th>\n",
       "      <th>ICU_ponderado</th>\n",
       "    </tr>\n",
       "  </thead>\n",
       "  <tbody>\n",
       "    <tr>\n",
       "      <th>255392</th>\n",
       "      <td>555</td>\n",
       "      <td>46.0</td>\n",
       "      <td>29.5</td>\n",
       "      <td>U</td>\n",
       "      <td>2.0</td>\n",
       "      <td>25454.66</td>\n",
       "      <td>2.0</td>\n",
       "      <td>6.0</td>\n",
       "      <td>402506806_56087378777</td>\n",
       "      <td>637149525_38041617439_716659</td>\n",
       "      <td>4</td>\n",
       "      <td>2017-04-15 13:00:34</td>\n",
       "      <td>1</td>\n",
       "      <td>0.187500</td>\n",
       "      <td>1</td>\n",
       "      <td>0.056250</td>\n",
       "    </tr>\n",
       "    <tr>\n",
       "      <th>9745</th>\n",
       "      <td>647</td>\n",
       "      <td>151.0</td>\n",
       "      <td>57.5</td>\n",
       "      <td>M</td>\n",
       "      <td>2.0</td>\n",
       "      <td>30525.80</td>\n",
       "      <td>0.0</td>\n",
       "      <td>4.0</td>\n",
       "      <td>66758770_53988066587</td>\n",
       "      <td>40369564_40101682850_311847</td>\n",
       "      <td>4</td>\n",
       "      <td>2017-04-12 15:47:45</td>\n",
       "      <td>1</td>\n",
       "      <td>0.032680</td>\n",
       "      <td>1</td>\n",
       "      <td>0.011111</td>\n",
       "    </tr>\n",
       "    <tr>\n",
       "      <th>83826</th>\n",
       "      <td>934</td>\n",
       "      <td>109.0</td>\n",
       "      <td>51.0</td>\n",
       "      <td>F</td>\n",
       "      <td>2.0</td>\n",
       "      <td>32522.88</td>\n",
       "      <td>0.0</td>\n",
       "      <td>3.0</td>\n",
       "      <td>810392784_45004760546</td>\n",
       "      <td>7076463_57954418406_971348</td>\n",
       "      <td>0</td>\n",
       "      <td>2017-04-18 02:38:52</td>\n",
       "      <td>1</td>\n",
       "      <td>0.027027</td>\n",
       "      <td>0</td>\n",
       "      <td>0.008108</td>\n",
       "    </tr>\n",
       "    <tr>\n",
       "      <th>284885</th>\n",
       "      <td>1186</td>\n",
       "      <td>99.0</td>\n",
       "      <td>22.0</td>\n",
       "      <td>U</td>\n",
       "      <td>2.0</td>\n",
       "      <td>31662.52</td>\n",
       "      <td>0.0</td>\n",
       "      <td>3.0</td>\n",
       "      <td>446844663_31615102958</td>\n",
       "      <td>507052512_11309370126_442139</td>\n",
       "      <td>0</td>\n",
       "      <td>2017-04-08 15:59:16</td>\n",
       "      <td>0</td>\n",
       "      <td>0.029703</td>\n",
       "      <td>0</td>\n",
       "      <td>0.008911</td>\n",
       "    </tr>\n",
       "    <tr>\n",
       "      <th>284882</th>\n",
       "      <td>1186</td>\n",
       "      <td>99.0</td>\n",
       "      <td>22.0</td>\n",
       "      <td>U</td>\n",
       "      <td>2.0</td>\n",
       "      <td>31662.52</td>\n",
       "      <td>0.0</td>\n",
       "      <td>3.0</td>\n",
       "      <td>446844663_31615102958</td>\n",
       "      <td>795373564_99931517312_810896</td>\n",
       "      <td>2</td>\n",
       "      <td>2017-04-08 18:05:24</td>\n",
       "      <td>0</td>\n",
       "      <td>0.029703</td>\n",
       "      <td>0</td>\n",
       "      <td>0.008911</td>\n",
       "    </tr>\n",
       "    <tr>\n",
       "      <th>...</th>\n",
       "      <td>...</td>\n",
       "      <td>...</td>\n",
       "      <td>...</td>\n",
       "      <td>...</td>\n",
       "      <td>...</td>\n",
       "      <td>...</td>\n",
       "      <td>...</td>\n",
       "      <td>...</td>\n",
       "      <td>...</td>\n",
       "      <td>...</td>\n",
       "      <td>...</td>\n",
       "      <td>...</td>\n",
       "      <td>...</td>\n",
       "      <td>...</td>\n",
       "      <td>...</td>\n",
       "      <td>...</td>\n",
       "    </tr>\n",
       "    <tr>\n",
       "      <th>208379</th>\n",
       "      <td>9998773</td>\n",
       "      <td>59.0</td>\n",
       "      <td>28.5</td>\n",
       "      <td>U</td>\n",
       "      <td>2.0</td>\n",
       "      <td>76988.65</td>\n",
       "      <td>2.0</td>\n",
       "      <td>5.0</td>\n",
       "      <td>481169437_1308863478</td>\n",
       "      <td>980310183_14300639078_417437</td>\n",
       "      <td>4</td>\n",
       "      <td>2017-04-12 23:50:22</td>\n",
       "      <td>1</td>\n",
       "      <td>0.131148</td>\n",
       "      <td>1</td>\n",
       "      <td>0.039344</td>\n",
       "    </tr>\n",
       "    <tr>\n",
       "      <th>43929</th>\n",
       "      <td>9998851</td>\n",
       "      <td>58.0</td>\n",
       "      <td>23.5</td>\n",
       "      <td>U</td>\n",
       "      <td>2.0</td>\n",
       "      <td>38473.54</td>\n",
       "      <td>3.0</td>\n",
       "      <td>6.0</td>\n",
       "      <td>660529049_81285947655</td>\n",
       "      <td>310744937_17135608286_213964</td>\n",
       "      <td>4</td>\n",
       "      <td>2017-04-05 12:08:43</td>\n",
       "      <td>1</td>\n",
       "      <td>0.166667</td>\n",
       "      <td>1</td>\n",
       "      <td>0.048333</td>\n",
       "    </tr>\n",
       "    <tr>\n",
       "      <th>27192</th>\n",
       "      <td>9998921</td>\n",
       "      <td>189.0</td>\n",
       "      <td>38.0</td>\n",
       "      <td>F</td>\n",
       "      <td>2.0</td>\n",
       "      <td>30644.10</td>\n",
       "      <td>4.0</td>\n",
       "      <td>7.0</td>\n",
       "      <td>960034051_85687824805</td>\n",
       "      <td>378424178_59565976155_8051</td>\n",
       "      <td>0</td>\n",
       "      <td>2017-04-18 11:26:31</td>\n",
       "      <td>0</td>\n",
       "      <td>0.057592</td>\n",
       "      <td>0</td>\n",
       "      <td>0.015183</td>\n",
       "    </tr>\n",
       "    <tr>\n",
       "      <th>194568</th>\n",
       "      <td>9999400</td>\n",
       "      <td>86.0</td>\n",
       "      <td>28.5</td>\n",
       "      <td>U</td>\n",
       "      <td>2.0</td>\n",
       "      <td>51787.04</td>\n",
       "      <td>0.0</td>\n",
       "      <td>3.0</td>\n",
       "      <td>915967319_19082377501</td>\n",
       "      <td>288904166_90826265353_276104</td>\n",
       "      <td>4</td>\n",
       "      <td>2017-04-20 05:23:27</td>\n",
       "      <td>1</td>\n",
       "      <td>0.045455</td>\n",
       "      <td>1</td>\n",
       "      <td>0.015909</td>\n",
       "    </tr>\n",
       "    <tr>\n",
       "      <th>20599</th>\n",
       "      <td>9999626</td>\n",
       "      <td>113.0</td>\n",
       "      <td>35.0</td>\n",
       "      <td>M</td>\n",
       "      <td>2.0</td>\n",
       "      <td>36642.88</td>\n",
       "      <td>6.0</td>\n",
       "      <td>9.0</td>\n",
       "      <td>52633065_71189986073</td>\n",
       "      <td>182723364_27031318473_880901</td>\n",
       "      <td>1</td>\n",
       "      <td>2017-05-14 09:07:59</td>\n",
       "      <td>1</td>\n",
       "      <td>0.130435</td>\n",
       "      <td>0</td>\n",
       "      <td>0.033913</td>\n",
       "    </tr>\n",
       "  </tbody>\n",
       "</table>\n",
       "<p>47041 rows × 16 columns</p>\n",
       "</div>"
      ],
      "text/plain": [
       "        client_id  clnt_tenure_mnth  clnt_age gendr  num_accts       bal  \\\n",
       "255392        555              46.0      29.5     U        2.0  25454.66   \n",
       "9745          647             151.0      57.5     M        2.0  30525.80   \n",
       "83826         934             109.0      51.0     F        2.0  32522.88   \n",
       "284885       1186              99.0      22.0     U        2.0  31662.52   \n",
       "284882       1186              99.0      22.0     U        2.0  31662.52   \n",
       "...           ...               ...       ...   ...        ...       ...   \n",
       "208379    9998773              59.0      28.5     U        2.0  76988.65   \n",
       "43929     9998851              58.0      23.5     U        2.0  38473.54   \n",
       "27192     9998921             189.0      38.0     F        2.0  30644.10   \n",
       "194568    9999400              86.0      28.5     U        2.0  51787.04   \n",
       "20599     9999626             113.0      35.0     M        2.0  36642.88   \n",
       "\n",
       "        calls_6_mnth  logons_6_mnth             visitor_id  \\\n",
       "255392           2.0            6.0  402506806_56087378777   \n",
       "9745             0.0            4.0   66758770_53988066587   \n",
       "83826            0.0            3.0  810392784_45004760546   \n",
       "284885           0.0            3.0  446844663_31615102958   \n",
       "284882           0.0            3.0  446844663_31615102958   \n",
       "...              ...            ...                    ...   \n",
       "208379           2.0            5.0   481169437_1308863478   \n",
       "43929            3.0            6.0  660529049_81285947655   \n",
       "27192            4.0            7.0  960034051_85687824805   \n",
       "194568           0.0            3.0  915967319_19082377501   \n",
       "20599            6.0            9.0   52633065_71189986073   \n",
       "\n",
       "                            visit_id  process_step           date_time  \\\n",
       "255392  637149525_38041617439_716659             4 2017-04-15 13:00:34   \n",
       "9745     40369564_40101682850_311847             4 2017-04-12 15:47:45   \n",
       "83826     7076463_57954418406_971348             0 2017-04-18 02:38:52   \n",
       "284885  507052512_11309370126_442139             0 2017-04-08 15:59:16   \n",
       "284882  795373564_99931517312_810896             2 2017-04-08 18:05:24   \n",
       "...                              ...           ...                 ...   \n",
       "208379  980310183_14300639078_417437             4 2017-04-12 23:50:22   \n",
       "43929   310744937_17135608286_213964             4 2017-04-05 12:08:43   \n",
       "27192     378424178_59565976155_8051             0 2017-04-18 11:26:31   \n",
       "194568  288904166_90826265353_276104             4 2017-04-20 05:23:27   \n",
       "20599   182723364_27031318473_880901             1 2017-05-14 09:07:59   \n",
       "\n",
       "        variation       ICU  num_compras  ICU_ponderado  \n",
       "255392          1  0.187500            1       0.056250  \n",
       "9745            1  0.032680            1       0.011111  \n",
       "83826           1  0.027027            0       0.008108  \n",
       "284885          0  0.029703            0       0.008911  \n",
       "284882          0  0.029703            0       0.008911  \n",
       "...           ...       ...          ...            ...  \n",
       "208379          1  0.131148            1       0.039344  \n",
       "43929           1  0.166667            1       0.048333  \n",
       "27192           0  0.057592            0       0.015183  \n",
       "194568          1  0.045455            1       0.015909  \n",
       "20599           1  0.130435            0       0.033913  \n",
       "\n",
       "[47041 rows x 16 columns]"
      ]
     },
     "execution_count": 75,
     "metadata": {},
     "output_type": "execute_result"
    }
   ],
   "source": [
    "df_all.loc[df_ambos_portales]"
   ]
  },
  {
   "cell_type": "markdown",
   "metadata": {},
   "source": [
    "## Diferencias en tiempo entre paso y paso entre ambos portales"
   ]
  },
  {
   "cell_type": "code",
   "execution_count": 81,
   "metadata": {},
   "outputs": [
    {
     "data": {
      "image/png": "[encoded data removed]",
      "text/plain": [
       "<Figure size 1000x600 with 1 Axes>"
      ]
     },
     "metadata": {},
     "output_type": "display_data"
    }
   ],
   "source": [
    "import matplotlib.pyplot as plt\n",
    "# Asegurarnos que 'date_time' esté en formato datetime\n",
    "df_all['date_time'] = pd.to_datetime(df_all['date_time'])\n",
    "\n",
    "# Ordenar las filas por 'client_id', 'visit_id' y 'process_step'\n",
    "df_sorted = df_all.sort_values(by=['client_id', 'visit_id', 'process_step'])\n",
    "\n",
    "# Calcular el tiempo entre pasos para cada visita\n",
    "df_sorted['time_diff'] = df_sorted.groupby(['client_id', 'visit_id'])['date_time'].diff()\n",
    "\n",
    "# Filtrar los datos por portales\n",
    "df_antiguo = df_sorted[df_sorted['variation'] == 0]\n",
    "df_nuevo = df_sorted[df_sorted['variation'] == 1]\n",
    "\n",
    "# Calcular el tiempo promedio entre pasos para cada portal\n",
    "avg_time_diff_antiguo = df_antiguo.groupby('process_step')['time_diff'].mean()\n",
    "avg_time_diff_nuevo = df_nuevo.groupby('process_step')['time_diff'].mean()\n",
    "\n",
    "# Crear un DataFrame para las comparaciones\n",
    "df_avg_time_diff = pd.DataFrame({\n",
    "    'Portal Antiguo': avg_time_diff_antiguo.dt.total_seconds(),\n",
    "    'Portal Nuevo': avg_time_diff_nuevo.dt.total_seconds()\n",
    "})\n",
    "\n",
    "# Gráfico de barras\n",
    "df_avg_time_diff.plot(kind='bar', figsize=(10, 6))\n",
    "plt.title('Tiempo Promedio Entre Pasos para Cada Portal')\n",
    "plt.xlabel('Process Step')\n",
    "plt.ylabel('Tiempo Promedio (segundos)')\n",
    "plt.xticks(rotation=0)\n",
    "plt.show()\n",
    "#Este gráfico te permitirá visualizar el tiempo promedio que toma pasar de un paso a otro en el proceso para ambos portales."
   ]
  },
  {
   "cell_type": "code",
   "execution_count": 82,
   "metadata": {},
   "outputs": [
    {
     "data": {
      "image/png": "[encoded data removed]",
      "text/plain": [
       "<Figure size 1000x600 with 1 Axes>"
      ]
     },
     "metadata": {},
     "output_type": "display_data"
    }
   ],
   "source": [
    "# Calcular el tiempo acumulado por visita y por paso\n",
    "df_sorted['time_accumulated'] = df_sorted.groupby(['client_id', 'visit_id'])['time_diff'].cumsum()\n",
    "\n",
    "# Filtrar nuevamente por portales\n",
    "df_antiguo_accum = df_sorted[df_sorted['variation'] == 0]\n",
    "df_nuevo_accum = df_sorted[df_sorted['variation'] == 1]\n",
    "\n",
    "# Calcular el tiempo acumulado promedio por cada paso\n",
    "acc_time_antiguo = df_antiguo_accum.groupby('process_step')['time_accumulated'].mean()\n",
    "acc_time_nuevo = df_nuevo_accum.groupby('process_step')['time_accumulated'].mean()\n",
    "\n",
    "# Crear un DataFrame para las comparaciones\n",
    "df_acc_time = pd.DataFrame({\n",
    "    'Portal Antiguo': acc_time_antiguo.dt.total_seconds(),\n",
    "    'Portal Nuevo': acc_time_nuevo.dt.total_seconds()\n",
    "})\n",
    "\n",
    "# Gráfico de líneas\n",
    "df_acc_time.plot(kind='line', figsize=(10, 6), marker='o')\n",
    "plt.title('Tiempo Acumulado Promedio por Proceso para Cada Portal')\n",
    "plt.xlabel('Process Step')\n",
    "plt.ylabel('Tiempo Acumulado (segundos)')\n",
    "plt.grid(True)\n",
    "plt.show()\n",
    "# Este gráfico te permitirá observar cómo el tiempo acumulado en cada paso difiere entre el portal antiguo y el nuevo."
   ]
  }
 ],
 "metadata": {
  "kernelspec": {
   "display_name": "base",
   "language": "python",
   "name": "python3"
  },
  "language_info": {
   "codemirror_mode": {
    "name": "ipython",
    "version": 3
   },
   "file_extension": ".py",
   "mimetype": "text/x-python",
   "name": "python",
   "nbconvert_exporter": "python",
   "pygments_lexer": "ipython3",
   "version": "3.12.4"
  }
 },
 "nbformat": 4,
 "nbformat_minor": 2
}

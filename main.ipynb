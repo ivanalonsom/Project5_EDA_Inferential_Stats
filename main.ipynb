{
 "cells": [
  {
   "cell_type": "markdown",
   "metadata": {},
   "source": [
    "## FINAL DEMO"
   ]
  },
  {
   "cell_type": "code",
   "execution_count": 57,
   "metadata": {},
   "outputs": [
    {
     "name": "stdout",
     "output_type": "stream",
     "text": [
      "The autoreload extension is already loaded. To reload it, use:\n",
      "  %reload_ext autoreload\n"
     ]
    }
   ],
   "source": [
    "%load_ext autoreload\n",
    "%autoreload 2"
   ]
  },
  {
   "cell_type": "code",
   "execution_count": 58,
   "metadata": {},
   "outputs": [],
   "source": [
    "import scipy.stats as st\n",
    "from functions import *\n",
    "from graphics import *\n",
    "from statistics_tests import *\n",
    "import pandas as pd\n",
    "\n",
    "df_final_demo = get_final_demo_df()\n",
    "\n",
    "df_web_data_concat = get_web_data_df()\n",
    "\n",
    "df_final_exp = get_final_exp_df()\n",
    "\n",
    "df_all = get_df_all()"
   ]
  },
  {
   "cell_type": "markdown",
   "metadata": {},
   "source": [
    "LIMPIEZA DE DATOS"
   ]
  },
  {
   "cell_type": "code",
   "execution_count": 59,
   "metadata": {},
   "outputs": [],
   "source": [
    "df_all = df_all.drop(\"clnt_tenure_yr\", axis=1)      # We don´t need this column because is derivative from clnt_tenure_mnth"
   ]
  },
  {
   "cell_type": "code",
   "execution_count": 60,
   "metadata": {},
   "outputs": [],
   "source": [
    "df_all_no_duplicates = get_df_all_no_duplicates()"
   ]
  },
  {
   "cell_type": "markdown",
   "metadata": {},
   "source": [
    "QUITAMOS OUTLIERS DEL DF_ALL Y DEL QUE NO TIENE DUPLICADOS"
   ]
  },
  {
   "cell_type": "code",
   "execution_count": 61,
   "metadata": {},
   "outputs": [],
   "source": [
    "df_all = outlier_slayer(df_all)\n",
    "\n",
    "df_all_no_duplicates = outlier_slayer(df_all_no_duplicates)"
   ]
  },
  {
   "cell_type": "markdown",
   "metadata": {},
   "source": [
    "# VER SI SON JOVENES O NO"
   ]
  },
  {
   "cell_type": "code",
   "execution_count": 62,
   "metadata": {},
   "outputs": [
    {
     "data": {
      "text/plain": [
       "(count    34901.000000\n",
       " mean        46.050027\n",
       " std         15.322211\n",
       " min         17.000000\n",
       " 25%         32.500000\n",
       " 50%         46.000000\n",
       " 75%         58.500000\n",
       " max         96.000000\n",
       " Name: clnt_age, dtype: float64,\n",
       " 'Mode: 30.5')"
      ]
     },
     "execution_count": 62,
     "metadata": {},
     "output_type": "execute_result"
    }
   ],
   "source": [
    "print_stats(df_all_no_duplicates['clnt_age'])"
   ]
  },
  {
   "cell_type": "code",
   "execution_count": 63,
   "metadata": {},
   "outputs": [
    {
     "data": {
      "image/png": "[encoded data removed]",
      "text/plain": [
       "<Figure size 640x480 with 1 Axes>"
      ]
     },
     "metadata": {},
     "output_type": "display_data"
    }
   ],
   "source": [
    "graph_box_plot(df_all_no_duplicates['clnt_age'])"
   ]
  },
  {
   "cell_type": "code",
   "execution_count": 64,
   "metadata": {},
   "outputs": [
    {
     "data": {
      "text/plain": [
       "(-6.5, 97.5)"
      ]
     },
     "execution_count": 64,
     "metadata": {},
     "output_type": "execute_result"
    }
   ],
   "source": [
    "get_limits(df_all_no_duplicates['clnt_age'])"
   ]
  },
  {
   "cell_type": "markdown",
   "metadata": {},
   "source": [
    "# VER SI SON NUEVOS O ANTIGUOS"
   ]
  },
  {
   "cell_type": "code",
   "execution_count": 65,
   "metadata": {},
   "outputs": [
    {
     "data": {
      "text/plain": [
       "(count    34901.000000\n",
       " mean       137.549669\n",
       " std         68.435589\n",
       " min         33.000000\n",
       " 25%         79.000000\n",
       " 50%        123.000000\n",
       " 75%        181.000000\n",
       " max        353.000000\n",
       " Name: clnt_tenure_mnth, dtype: float64,\n",
       " 'Mode: 58.0')"
      ]
     },
     "execution_count": 65,
     "metadata": {},
     "output_type": "execute_result"
    }
   ],
   "source": [
    "print_stats(df_all_no_duplicates['clnt_tenure_mnth'])"
   ]
  },
  {
   "cell_type": "code",
   "execution_count": 66,
   "metadata": {},
   "outputs": [
    {
     "data": {
      "text/plain": [
       "(-74.0, 334.0)"
      ]
     },
     "execution_count": 66,
     "metadata": {},
     "output_type": "execute_result"
    }
   ],
   "source": [
    "get_limits(df_all_no_duplicates['clnt_tenure_mnth'])   # Seguimos teniendo outliers pero dar una segunda pasada es contraproducente en principio."
   ]
  },
  {
   "cell_type": "code",
   "execution_count": 67,
   "metadata": {},
   "outputs": [
    {
     "data": {
      "image/png": "[encoded data removed]",
      "text/plain": [
       "<Figure size 640x480 with 1 Axes>"
      ]
     },
     "metadata": {},
     "output_type": "display_data"
    }
   ],
   "source": [
    "graph_box_plot(df_all_no_duplicates['clnt_tenure_mnth'])"
   ]
  },
  {
   "cell_type": "markdown",
   "metadata": {},
   "source": [
    "# DIA 3  \n",
    "## Calcular % de compras con éxito en cada web"
   ]
  },
  {
   "cell_type": "code",
   "execution_count": 68,
   "metadata": {},
   "outputs": [],
   "source": [
    "df_id_max_compras = df_all.groupby([\"client_id\", \"visit_id\", \"variation\"])[\"date_time\"].idxmax()"
   ]
  },
  {
   "cell_type": "code",
   "execution_count": 69,
   "metadata": {},
   "outputs": [],
   "source": [
    "df_ambos_portales = df_all.loc[df_id_max_compras]"
   ]
  },
  {
   "cell_type": "code",
   "execution_count": 70,
   "metadata": {},
   "outputs": [
    {
     "name": "stdout",
     "output_type": "stream",
     "text": [
      "\n",
      "    El % de gente que se quedó en el INICIO en la web de CONTROL es de 30.232025994233673\n",
      "    El % de gente que se quedó en el PASO 1 en la web de CONTROL es de 9.578508992723446\n",
      "    El % de gente que se quedó en el PASO 2 en la web de CONTROL es de 4.7366253260720335\n",
      "    El % de gente que se quedó en el PASO 3 en la web de CONTROL es de 7.372660290146904\n",
      "    El % de gente que CONFIRMÓ la compra en la web de CONTROL es de 48.080179396823944\n",
      "      \n"
     ]
    }
   ],
   "source": [
    "get_last_step(df_ambos_portales, 0)"
   ]
  },
  {
   "cell_type": "code",
   "execution_count": 71,
   "metadata": {},
   "outputs": [
    {
     "name": "stdout",
     "output_type": "stream",
     "text": [
      "\n",
      "    El % de gente que se quedó en el INICIO en la web de TEST es de 25.807860262008735\n",
      "    El % de gente que se quedó en el PASO 1 en la web de TEST es de 8.745533942040492\n",
      "    El % de gente que se quedó en el PASO 2 en la web de TEST es de 3.6244541484716155\n",
      "    El % de gente que se quedó en el PASO 3 en la web de TEST es de 4.958316792377928\n",
      "    El % de gente que CONFIRMÓ la compra en la web de TEST es de 56.86383485510123\n",
      "      \n"
     ]
    }
   ],
   "source": [
    "get_last_step(df_ambos_portales, 1)"
   ]
  },
  {
   "cell_type": "code",
   "execution_count": 72,
   "metadata": {},
   "outputs": [],
   "source": [
    "df_control = df_ambos_portales[df_ambos_portales[\"variation\"] == 0]\n",
    "df_test = df_ambos_portales[df_ambos_portales[\"variation\"] == 1]"
   ]
  },
  {
   "cell_type": "code",
   "execution_count": 73,
   "metadata": {},
   "outputs": [
    {
     "data": {
      "image/png": "[encoded data removed]",
      "text/plain": [
       "<Figure size 1000x600 with 1 Axes>"
      ]
     },
     "metadata": {},
     "output_type": "display_data"
    }
   ],
   "source": [
    "graph_bar_plot_control_v_test(df_control, df_test)"
   ]
  },
  {
   "cell_type": "code",
   "execution_count": 74,
   "metadata": {},
   "outputs": [
    {
     "data": {
      "image/png": "[encoded data removed]",
      "text/plain": [
       "<Figure size 1000x600 with 1 Axes>"
      ]
     },
     "metadata": {},
     "output_type": "display_data"
    }
   ],
   "source": [
    "graph_process_step_controlVtest(df_control, df_test)"
   ]
  },
  {
   "cell_type": "markdown",
   "metadata": {},
   "source": [
    "# DIA 4 -> TEST DE HIPÓTESIS"
   ]
  },
  {
   "cell_type": "code",
   "execution_count": 75,
   "metadata": {},
   "outputs": [
    {
     "name": "stdout",
     "output_type": "stream",
     "text": [
      "Tasa de completación del grupo de control: 48.08%\n",
      "Tasa de completación del grupo de test: 56.86%\n",
      "Estadístico Z: -19.0323\n",
      "P-valor: 4.607445859222419e-81\n",
      "Podemos afirmar con un 95% de confianza que la diferencia en la tasa de completación es estadísticamente significativa (rechazamos H0).\n"
     ]
    }
   ],
   "source": [
    "get_z_test_values(df_control, df_test, \"smaller\")"
   ]
  },
  {
   "cell_type": "code",
   "execution_count": 76,
   "metadata": {},
   "outputs": [
    {
     "name": "stdout",
     "output_type": "stream",
     "text": [
      "Chi-cuadrado: 361.8755\n",
      "P-valor: 1.0995446851831193e-80\n",
      "La diferencia en la tasa de completación es estadísticamente significativa (rechazamos H0).\n"
     ]
    }
   ],
   "source": [
    "chi_cuadrado_test(df_control, df_test)"
   ]
  },
  {
   "cell_type": "code",
   "execution_count": 77,
   "metadata": {},
   "outputs": [],
   "source": [
    "# Contar el número de clientes que completaron la compra (step 4)\n",
    "control_complete = df_control[df_control[\"process_step\"] == 4].shape[0]\n",
    "test_complete = df_test[df_test[\"process_step\"] == 4].shape[0]\n",
    "\n",
    "# Contar el número de clientes en cada grupo\n",
    "n_control = df_control.shape[0]\n",
    "n_test = df_test.shape[0]\n",
    "\n",
    "# Calcular la tasa de completación\n",
    "control_completion_rate = control_complete / n_control\n",
    "test_completion_rate = test_complete / n_test"
   ]
  },
  {
   "cell_type": "code",
   "execution_count": 78,
   "metadata": {},
   "outputs": [
    {
     "name": "stdout",
     "output_type": "stream",
     "text": [
      "El aumento observado es de 18.27%, con lo que cumple con el umbral del 5%.\n"
     ]
    }
   ],
   "source": [
    "umbral_aumento(df_control, df_test)"
   ]
  },
  {
   "cell_type": "markdown",
   "metadata": {},
   "source": [
    "--- FIN DIA 5"
   ]
  },
  {
   "cell_type": "code",
   "execution_count": 79,
   "metadata": {},
   "outputs": [],
   "source": [
    "crosstab_result_gen_var = get_crosstab(df_ambos_portales[\"gendr\"], df_ambos_portales[\"variation\"])"
   ]
  },
  {
   "cell_type": "code",
   "execution_count": 80,
   "metadata": {},
   "outputs": [
    {
     "data": {
      "text/plain": [
       "<Axes: xlabel='gendr'>"
      ]
     },
     "execution_count": 80,
     "metadata": {},
     "output_type": "execute_result"
    },
    {
     "data": {
      "image/png": "[encoded data removed]",
      "text/plain": [
       "<Figure size 640x480 with 1 Axes>"
      ]
     },
     "metadata": {},
     "output_type": "display_data"
    }
   ],
   "source": [
    "crosstab_result_gen_var\n",
    "\n",
    "crosstab_result_gen_var.plot(kind=\"bar\", stacked=True)"
   ]
  },
  {
   "cell_type": "code",
   "execution_count": 81,
   "metadata": {},
   "outputs": [
    {
     "name": "stdout",
     "output_type": "stream",
     "text": [
      "There are no enough evidence that there is an association between 'variation' and 'gendr'.\n"
     ]
    }
   ],
   "source": [
    "# H0 = There is no association between 'variation' and 'gendr'  --- Null Hypothesis p>=0.05\n",
    "# H1 = There is an association between 'variation' and 'gendr'  --- Alternative Hypothesis p<0.05\n",
    "\n",
    "from scipy.stats import chi2_contingency\n",
    "\n",
    "chi2_statistic, chi2_p_value, _, _ = chi2_contingency(crosstab_result_gen_var)\n",
    "\n",
    "chi2_statistic, chi2_p_value\n",
    "\n",
    "if chi2_p_value < 0.05:\n",
    "    print(\"We reject the null hypothesis. There is an association between 'variation' and 'gendr'.\")\n",
    "else:\n",
    "    print(\"There are no enough evidence that there is an association between 'variation' and 'gendr'.\")\n",
    "\n"
   ]
  },
  {
   "cell_type": "code",
   "execution_count": 82,
   "metadata": {},
   "outputs": [],
   "source": [
    "crosstab_result_gen_bal = get_crosstab(df_ambos_portales[\"gendr\"], df_ambos_portales[\"bal\"])"
   ]
  },
  {
   "cell_type": "code",
   "execution_count": 83,
   "metadata": {},
   "outputs": [
    {
     "name": "stdout",
     "output_type": "stream",
     "text": [
      "We reject the null hypothesis. There is an association between 'balance' and 'gendr'.\n"
     ]
    }
   ],
   "source": [
    "# H0 = There is no association between 'balance' and 'gendr'  --- Null Hypothesis p>=0.05\n",
    "# H1 = There is an association between 'balance' and 'gendr'  --- Alternative Hypothesis p<0.05\n",
    "\n",
    "from scipy.stats import chi2_contingency\n",
    "\n",
    "chi2_statistic, chi2_p_value, _, _ = chi2_contingency(crosstab_result_gen_bal)\n",
    "\n",
    "chi2_statistic, chi2_p_value\n",
    "\n",
    "if chi2_p_value < 0.05:\n",
    "    print(\"We reject the null hypothesis. There is an association between 'balance' and 'gendr'.\")\n",
    "else:\n",
    "    print(\"There are no enough evidence that there is an association between 'balance' and 'gendr'.\")"
   ]
  },
  {
   "cell_type": "code",
   "execution_count": 84,
   "metadata": {},
   "outputs": [
    {
     "name": "stdout",
     "output_type": "stream",
     "text": [
      "We reject the null hypothesis from both hypotheses. Males balance mean are greater than females or unknowns balance mean.\n"
     ]
    }
   ],
   "source": [
    "# Are Male balance mean greater than Female or Unknowns balance mean?\n",
    "\n",
    "df_female = df_ambos_portales[(df_ambos_portales[\"gendr\"] == \"F\")][\"bal\"]\n",
    "df_male = df_ambos_portales[df_ambos_portales[\"gendr\"] == \"M\"][\"bal\"]\n",
    "df_unknown = df_ambos_portales[df_ambos_portales[\"gendr\"] == \"U\"][\"bal\"]\n",
    "\n",
    "p_value_MvF = st.ttest_ind(df_male, df_female, alternative=\"greater\")\n",
    "p_value_FvU = st.ttest_ind(df_female, df_unknown, alternative=\"greater\")\n",
    "\n",
    "if p_value_MvF[1] < 0.05 and p_value_FvU[1] < 0.05:\n",
    "    print(\"We reject the null hypothesis from both hypotheses. Males balance mean are greater than females or unknowns balance mean.\")\n",
    "else:\n",
    "    print(\"There are no enough evidence to refuse the null hypothesis.\")"
   ]
  },
  {
   "cell_type": "code",
   "execution_count": 85,
   "metadata": {},
   "outputs": [],
   "source": [
    "# IS THE AVERAGE BALANCE DIFFERENT DEPPENDING ON AGE?\n",
    "crosstab_result_age_bal = get_crosstab(df_ambos_portales[\"clnt_age\"], df_ambos_portales[\"bal\"])\n"
   ]
  },
  {
   "cell_type": "code",
   "execution_count": 86,
   "metadata": {},
   "outputs": [
    {
     "name": "stdout",
     "output_type": "stream",
     "text": [
      "We reject the null hypothesis. There is an association between 'clnt_age' and 'gendr'.\n"
     ]
    }
   ],
   "source": [
    "# H0 = There is no association between 'clnt_age' and 'bal'  --- Null Hypothesis p>=0.05\n",
    "# H1 = There is an association between 'clnt_age' and 'bal'  --- Alternative Hypothesis p<0.05\n",
    "\n",
    "from scipy.stats import chi2_contingency\n",
    "\n",
    "chi2_statistic, chi2_p_value, _, _ = chi2_contingency(crosstab_result_gen_bal)\n",
    "\n",
    "chi2_statistic, chi2_p_value\n",
    "\n",
    "if chi2_p_value < 0.05:\n",
    "    print(\"We reject the null hypothesis. There is an association between 'clnt_age' and 'gendr'.\")\n",
    "else:\n",
    "    print(\"There are no enough evidence that there is an association between 'clnt_age' and 'gendr'.\")"
   ]
  },
  {
   "cell_type": "markdown",
   "metadata": {},
   "source": [
    "# DIAS 3 Y 4 DANI"
   ]
  },
  {
   "cell_type": "code",
   "execution_count": 87,
   "metadata": {},
   "outputs": [
    {
     "name": "stdout",
     "output_type": "stream",
     "text": [
      "ICU - Portal Antiguo: 0.08030271633482752\n",
      "ICU - Portal Nuevo: 0.07897087931808534\n"
     ]
    }
   ],
   "source": [
    "# Filtrar las compras confirmadas (process_step = 4)\n",
    "df_all['num_compras'] = df_all['process_step'].apply(lambda x: 1 if x == 4 else 0)          # Creamos columna número de compras\n",
    "\n",
    "# Calcular ICU\n",
    "df_all['ICU'] = (df_all['logons_6_mnth'] + df_all['calls_6_mnth'] + df_all['num_compras']) / (df_all['clnt_tenure_mnth'] + df_all['num_accts'])\n",
    "\n",
    "# Comparar el rendimiento entre portales (1 para nuevo, 0 para antiguo)\n",
    "kpi_portal_antiguo = df_all[df_all['variation'] == 0]['ICU'].mean()\n",
    "kpi_portal_nuevo = df_all[df_all['variation'] == 1]['ICU'].mean()\n",
    "\n",
    "print(\"ICU - Portal Antiguo:\", kpi_portal_antiguo)\n",
    "print(\"ICU - Portal Nuevo:\", kpi_portal_nuevo)"
   ]
  },
  {
   "cell_type": "code",
   "execution_count": 88,
   "metadata": {},
   "outputs": [
    {
     "name": "stdout",
     "output_type": "stream",
     "text": [
      "TCC - Portal Antiguo: 0.4968596708384908\n",
      "TCC - Portal Nuevo: 0.5740254574383453\n"
     ]
    }
   ],
   "source": [
    "# Calcular total de compras y visitas para cada portal\n",
    "total_visitas_antiguo = df_all[df_all['variation'] == 0]['visit_id'].nunique()\n",
    "total_compras_antiguo = df_all[(df_all['variation'] == 0) & (df_all['process_step'] == 4)]['visit_id'].nunique()\n",
    "\n",
    "total_visitas_nuevo = df_all[df_all['variation'] == 1]['visit_id'].nunique()\n",
    "total_compras_nuevo = df_all[(df_all['variation'] == 1) & (df_all['process_step'] == 4)]['visit_id'].nunique()\n",
    "\n",
    "tcc_antiguo = total_compras_antiguo / total_visitas_antiguo\n",
    "tcc_nuevo = total_compras_nuevo / total_visitas_nuevo\n",
    "\n",
    "print(\"TCC - Portal Antiguo:\", tcc_antiguo)\n",
    "print(\"TCC - Portal Nuevo:\", tcc_nuevo)"
   ]
  },
  {
   "cell_type": "code",
   "execution_count": 89,
   "metadata": {},
   "outputs": [
    {
     "data": {
      "image/png": "[encoded data removed]",
      "text/plain": [
       "<Figure size 640x480 with 1 Axes>"
      ]
     },
     "metadata": {},
     "output_type": "display_data"
    }
   ],
   "source": [
    "import matplotlib.pyplot as plt\n",
    "import numpy as np\n",
    "\n",
    "# Crea un arreglo con las etiquetas del eje x\n",
    "x = np.arange(2)\n",
    "\n",
    "# Crea un gráfico de barras\n",
    "plt.bar(x - 0.2, [total_compras_antiguo, total_compras_nuevo], label='Compras', width=0.4)\n",
    "plt.bar(x + 0.2, [total_visitas_antiguo, total_visitas_nuevo], label='Visitas', width=0.4)\n",
    "\n",
    "# Agrega un título y etiquetas a los ejes\n",
    "plt.title('Total de Compras y Visitas')\n",
    "plt.xlabel('Período')\n",
    "plt.ylabel('Cantidad')\n",
    "\n",
    "# Agrega etiquetas al eje x\n",
    "plt.xticks(x, ['Antiguo', 'Nuevo'])\n",
    "\n",
    "# Agrega una leyenda\n",
    "plt.legend()\n",
    "\n",
    "# Muestra el gráfico\n",
    "plt.show()"
   ]
  },
  {
   "cell_type": "code",
   "execution_count": 90,
   "metadata": {},
   "outputs": [
    {
     "data": {
      "text/plain": [
       "(10838, 14431, 21813, 25140)"
      ]
     },
     "execution_count": 90,
     "metadata": {},
     "output_type": "execute_result"
    }
   ],
   "source": [
    "total_compras_antiguo, total_compras_nuevo,total_visitas_antiguo,total_visitas_nuevo"
   ]
  },
  {
   "cell_type": "code",
   "execution_count": 91,
   "metadata": {},
   "outputs": [
    {
     "name": "stdout",
     "output_type": "stream",
     "text": [
      "DPC - Portal Antiguo: 440.6476714648603\n",
      "DPC - Portal Nuevo: 480.1821790390426\n"
     ]
    }
   ],
   "source": [
    "# Calcular duración de las visitas\n",
    "df_all['visit_duration'] = df_all.groupby('visit_id')['date_time'].transform(lambda x: (x.max() - x.min()).total_seconds())\n",
    "\n",
    "# Filtrar las visitas con compras\n",
    "compras_antiguo = df_all[(df_all['variation'] == 0) & (df_all['process_step'] == 4)]\n",
    "compras_nuevo = df_all[(df_all['variation'] == 1) & (df_all['process_step'] == 4)]\n",
    "\n",
    "dpc_antiguo = compras_antiguo['visit_duration'].mean()\n",
    "dpc_nuevo = compras_nuevo['visit_duration'].mean()\n",
    "\n",
    "print(\"DPC - Portal Antiguo:\", dpc_antiguo)\n",
    "print(\"DPC - Portal Nuevo:\", dpc_nuevo)"
   ]
  },
  {
   "cell_type": "code",
   "execution_count": 92,
   "metadata": {},
   "outputs": [
    {
     "data": {
      "text/html": [
       "<div>\n",
       "<style scoped>\n",
       "    .dataframe tbody tr th:only-of-type {\n",
       "        vertical-align: middle;\n",
       "    }\n",
       "\n",
       "    .dataframe tbody tr th {\n",
       "        vertical-align: top;\n",
       "    }\n",
       "\n",
       "    .dataframe thead th {\n",
       "        text-align: right;\n",
       "    }\n",
       "</style>\n",
       "<table border=\"1\" class=\"dataframe\">\n",
       "  <thead>\n",
       "    <tr style=\"text-align: right;\">\n",
       "      <th></th>\n",
       "      <th>client_id</th>\n",
       "      <th>clnt_tenure_mnth</th>\n",
       "      <th>clnt_age</th>\n",
       "      <th>gendr</th>\n",
       "      <th>num_accts</th>\n",
       "      <th>bal</th>\n",
       "      <th>calls_6_mnth</th>\n",
       "      <th>logons_6_mnth</th>\n",
       "      <th>visitor_id</th>\n",
       "      <th>visit_id</th>\n",
       "      <th>process_step</th>\n",
       "      <th>date_time</th>\n",
       "      <th>variation</th>\n",
       "      <th>num_compras</th>\n",
       "      <th>ICU</th>\n",
       "      <th>visit_duration</th>\n",
       "    </tr>\n",
       "  </thead>\n",
       "  <tbody>\n",
       "    <tr>\n",
       "      <th>0</th>\n",
       "      <td>836976</td>\n",
       "      <td>73.0</td>\n",
       "      <td>60.5</td>\n",
       "      <td>U</td>\n",
       "      <td>2.0</td>\n",
       "      <td>45105.3</td>\n",
       "      <td>6.0</td>\n",
       "      <td>9.0</td>\n",
       "      <td>427070339_1413275162</td>\n",
       "      <td>228976764_46825473280_96584</td>\n",
       "      <td>4</td>\n",
       "      <td>2017-04-02 11:51:13</td>\n",
       "      <td>1</td>\n",
       "      <td>1</td>\n",
       "      <td>0.213333</td>\n",
       "      <td>1785.0</td>\n",
       "    </tr>\n",
       "    <tr>\n",
       "      <th>1</th>\n",
       "      <td>836976</td>\n",
       "      <td>73.0</td>\n",
       "      <td>60.5</td>\n",
       "      <td>U</td>\n",
       "      <td>2.0</td>\n",
       "      <td>45105.3</td>\n",
       "      <td>6.0</td>\n",
       "      <td>9.0</td>\n",
       "      <td>427070339_1413275162</td>\n",
       "      <td>228976764_46825473280_96584</td>\n",
       "      <td>4</td>\n",
       "      <td>2017-04-02 11:47:50</td>\n",
       "      <td>1</td>\n",
       "      <td>1</td>\n",
       "      <td>0.213333</td>\n",
       "      <td>1785.0</td>\n",
       "    </tr>\n",
       "    <tr>\n",
       "      <th>2</th>\n",
       "      <td>836976</td>\n",
       "      <td>73.0</td>\n",
       "      <td>60.5</td>\n",
       "      <td>U</td>\n",
       "      <td>2.0</td>\n",
       "      <td>45105.3</td>\n",
       "      <td>6.0</td>\n",
       "      <td>9.0</td>\n",
       "      <td>427070339_1413275162</td>\n",
       "      <td>228976764_46825473280_96584</td>\n",
       "      <td>4</td>\n",
       "      <td>2017-04-02 11:46:45</td>\n",
       "      <td>1</td>\n",
       "      <td>1</td>\n",
       "      <td>0.213333</td>\n",
       "      <td>1785.0</td>\n",
       "    </tr>\n",
       "    <tr>\n",
       "      <th>3</th>\n",
       "      <td>836976</td>\n",
       "      <td>73.0</td>\n",
       "      <td>60.5</td>\n",
       "      <td>U</td>\n",
       "      <td>2.0</td>\n",
       "      <td>45105.3</td>\n",
       "      <td>6.0</td>\n",
       "      <td>9.0</td>\n",
       "      <td>427070339_1413275162</td>\n",
       "      <td>228976764_46825473280_96584</td>\n",
       "      <td>3</td>\n",
       "      <td>2017-04-02 11:23:08</td>\n",
       "      <td>1</td>\n",
       "      <td>0</td>\n",
       "      <td>0.200000</td>\n",
       "      <td>1785.0</td>\n",
       "    </tr>\n",
       "    <tr>\n",
       "      <th>4</th>\n",
       "      <td>836976</td>\n",
       "      <td>73.0</td>\n",
       "      <td>60.5</td>\n",
       "      <td>U</td>\n",
       "      <td>2.0</td>\n",
       "      <td>45105.3</td>\n",
       "      <td>6.0</td>\n",
       "      <td>9.0</td>\n",
       "      <td>427070339_1413275162</td>\n",
       "      <td>228976764_46825473280_96584</td>\n",
       "      <td>2</td>\n",
       "      <td>2017-04-02 11:22:24</td>\n",
       "      <td>1</td>\n",
       "      <td>0</td>\n",
       "      <td>0.200000</td>\n",
       "      <td>1785.0</td>\n",
       "    </tr>\n",
       "  </tbody>\n",
       "</table>\n",
       "</div>"
      ],
      "text/plain": [
       "   client_id  clnt_tenure_mnth  clnt_age gendr  num_accts      bal  \\\n",
       "0     836976              73.0      60.5     U        2.0  45105.3   \n",
       "1     836976              73.0      60.5     U        2.0  45105.3   \n",
       "2     836976              73.0      60.5     U        2.0  45105.3   \n",
       "3     836976              73.0      60.5     U        2.0  45105.3   \n",
       "4     836976              73.0      60.5     U        2.0  45105.3   \n",
       "\n",
       "   calls_6_mnth  logons_6_mnth            visitor_id  \\\n",
       "0           6.0            9.0  427070339_1413275162   \n",
       "1           6.0            9.0  427070339_1413275162   \n",
       "2           6.0            9.0  427070339_1413275162   \n",
       "3           6.0            9.0  427070339_1413275162   \n",
       "4           6.0            9.0  427070339_1413275162   \n",
       "\n",
       "                      visit_id  process_step           date_time  variation  \\\n",
       "0  228976764_46825473280_96584             4 2017-04-02 11:51:13          1   \n",
       "1  228976764_46825473280_96584             4 2017-04-02 11:47:50          1   \n",
       "2  228976764_46825473280_96584             4 2017-04-02 11:46:45          1   \n",
       "3  228976764_46825473280_96584             3 2017-04-02 11:23:08          1   \n",
       "4  228976764_46825473280_96584             2 2017-04-02 11:22:24          1   \n",
       "\n",
       "   num_compras       ICU  visit_duration  \n",
       "0            1  0.213333          1785.0  \n",
       "1            1  0.213333          1785.0  \n",
       "2            1  0.213333          1785.0  \n",
       "3            0  0.200000          1785.0  \n",
       "4            0  0.200000          1785.0  "
      ]
     },
     "execution_count": 92,
     "metadata": {},
     "output_type": "execute_result"
    }
   ],
   "source": [
    "df_all.head()"
   ]
  },
  {
   "cell_type": "code",
   "execution_count": 93,
   "metadata": {},
   "outputs": [
    {
     "ename": "NameError",
     "evalue": "name 'pd' is not defined",
     "output_type": "error",
     "traceback": [
      "\u001b[1;31m---------------------------------------------------------------------------\u001b[0m",
      "\u001b[1;31mNameError\u001b[0m                                 Traceback (most recent call last)",
      "Cell \u001b[1;32mIn[93], line 2\u001b[0m\n\u001b[0;32m      1\u001b[0m \u001b[38;5;66;03m# Asegurarnos de que 'date_time' esté en formato datetime\u001b[39;00m\n\u001b[1;32m----> 2\u001b[0m df_all[\u001b[38;5;124m'\u001b[39m\u001b[38;5;124mdate_time\u001b[39m\u001b[38;5;124m'\u001b[39m] \u001b[38;5;241m=\u001b[39m pd\u001b[38;5;241m.\u001b[39mto_datetime(df_all[\u001b[38;5;124m'\u001b[39m\u001b[38;5;124mdate_time\u001b[39m\u001b[38;5;124m'\u001b[39m])\n\u001b[0;32m      4\u001b[0m \u001b[38;5;66;03m# Extraer solo la parte de la hora (HH:MM:SS) si es necesario\u001b[39;00m\n\u001b[0;32m      5\u001b[0m df_all[\u001b[38;5;124m'\u001b[39m\u001b[38;5;124mtime\u001b[39m\u001b[38;5;124m'\u001b[39m] \u001b[38;5;241m=\u001b[39m df_all[\u001b[38;5;124m'\u001b[39m\u001b[38;5;124mdate_time\u001b[39m\u001b[38;5;124m'\u001b[39m]\u001b[38;5;241m.\u001b[39mdt\u001b[38;5;241m.\u001b[39mtime\n",
      "\u001b[1;31mNameError\u001b[0m: name 'pd' is not defined"
     ]
    }
   ],
   "source": [
    "# Asegurarnos de que 'date_time' esté en formato datetime\n",
    "df_all['date_time'] = pd.to_datetime(df_all['date_time'])\n",
    "\n",
    "# Extraer solo la parte de la hora (HH:MM:SS) si es necesario\n",
    "df_all['time'] = df_all['date_time'].dt.time\n",
    "\n",
    "# Ordenar los datos por client_id, visit_id y process_step\n",
    "df_sorted = df_all.sort_values(by=['client_id', 'visit_id', 'process_step'])\n",
    "\n",
    "# Calcular el tiempo entre pasos, ignorando el primer paso\n",
    "df_sorted['time_diff'] = df_sorted.groupby(['client_id', 'visit_id'])['date_time'].diff()\n",
    "\n",
    "# Filtrar los process_step > 0 para evitar valores incorrectos para el primer paso\n",
    "df_filtered = df_sorted[df_sorted['process_step'] > 0]\n",
    "\n",
    "# Filtrar los datos por portales\n",
    "df_antiguo = df_filtered[df_filtered['variation'] == 0]\n",
    "df_nuevo = df_filtered[df_filtered['variation'] == 1]\n",
    "\n",
    "# Calcular el tiempo promedio entre pasos para cada portal\n",
    "avg_time_diff_antiguo = df_antiguo.groupby('process_step')['time_diff'].mean()\n",
    "avg_time_diff_nuevo = df_nuevo.groupby('process_step')['time_diff'].mean()\n",
    "\n",
    "# Crear un DataFrame para las comparaciones\n",
    "df_avg_time_diff = pd.DataFrame({\n",
    "    'Control': avg_time_diff_antiguo.dt.total_seconds(),\n",
    "    'Test': avg_time_diff_nuevo.dt.total_seconds()\n",
    "})\n",
    "\n",
    "# Gráfico de barras\n",
    "df_avg_time_diff.plot(kind='bar', figsize=(10, 6))\n",
    "plt.title('Tiempo Promedio Entre Pasos para Cada Portal')\n",
    "plt.xlabel('Process Step')\n",
    "plt.ylabel('Tiempo Promedio (segundos)')\n",
    "plt.xticks(rotation=0)\n",
    "plt.show()"
   ]
  },
  {
   "cell_type": "code",
   "execution_count": null,
   "metadata": {},
   "outputs": [],
   "source": [
    "import matplotlib.pyplot as plt\n",
    "import pandas as pd\n",
    "\n",
    "# Filtrar los process_step > 0 para evitar valores incorrectos para el primer paso\n",
    "df_filtered = df_sorted[df_sorted['process_step'] > 0].copy()\n",
    "\n",
    "# Calcular el tiempo acumulado por visita y por paso\n",
    "# Primero, calculamos el tiempo del paso anterior (equivalente a lag)\n",
    "df_filtered['time_diff_shifted'] = df_filtered.groupby(['client_id', 'visit_id'])['time_diff'].shift()\n",
    "\n",
    "# Luego, sumamos el tiempo acumulado de los pasos anteriores para cada cliente y visita\n",
    "df_filtered['time_accumulated'] = df_filtered.groupby(['client_id', 'visit_id'])['time_diff_shifted'].cumsum().fillna(pd.Timedelta(seconds=0))\n",
    "\n",
    "# Filtrar nuevamente por portales\n",
    "df_control_accum = df_filtered[df_filtered['variation'] == 0]\n",
    "df_test_accum = df_filtered[df_filtered['variation'] == 1]\n",
    "\n",
    "# Calcular el tiempo acumulado promedio por cada paso en segundos\n",
    "acc_time_antiguo = df_control_accum.groupby('process_step')['time_accumulated'].mean().dt.total_seconds()\n",
    "acc_time_nuevo = df_test_accum.groupby('process_step')['time_accumulated'].mean().dt.total_seconds()\n",
    "\n",
    "# Crear un DataFrame para las comparaciones\n",
    "df_acc_time = pd.DataFrame({\n",
    "    'Portal Antiguo': acc_time_antiguo,\n",
    "    'Portal Nuevo': acc_time_nuevo\n",
    "})\n",
    "\n",
    "# Eliminar filas con valores NaN en cualquier columna (si las hay)\n",
    "df_acc_time.dropna(inplace=True)\n",
    "\n",
    "# Crear un DataFrame con el punto (0, 0)\n",
    "df_zero_point = pd.DataFrame({\n",
    "    'Portal Antiguo': [0],\n",
    "    'Portal Nuevo': [0]\n",
    "}, index=[0])\n",
    "\n",
    "# Concatenar el punto (0, 0) con los datos acumulados\n",
    "df_acc_time = pd.concat([df_zero_point, df_acc_time])\n",
    "\n",
    "# Crear el gráfico de líneas, incluyendo el punto (0, 0)\n",
    "df_acc_time.plot(kind='line', figsize=(10, 6), marker='o')\n",
    "plt.title('Tiempo Acumulado Promedio por Proceso para Cada Portal (Incluyendo Punto 0)')\n",
    "plt.xlabel('Process Step')\n",
    "plt.ylabel('Tiempo Acumulado (segundos)')\n",
    "plt.grid(True)\n",
    "plt.show()\n"
   ]
  },
  {
   "cell_type": "code",
   "execution_count": null,
   "metadata": {},
   "outputs": [],
   "source": [
    "# Visit duration depends on variation?\n",
    "\n",
    "control_times = df_control_accum['time_accumulated'].dt.total_seconds()\n",
    "test_times = df_test_accum['time_accumulated'].dt.total_seconds()\n",
    "\n",
    "st.ttest_ind(test_times, control_times, alternative=\"greater\")\n",
    "\n",
    "# We can confimr that the test time is greater than the control time with a 95% confidence"
   ]
  },
  {
   "cell_type": "markdown",
   "metadata": {},
   "source": [
    "# DIA 5"
   ]
  },
  {
   "cell_type": "code",
   "execution_count": null,
   "metadata": {},
   "outputs": [],
   "source": [
    "df_control"
   ]
  },
  {
   "cell_type": "code",
   "execution_count": 1444,
   "metadata": {},
   "outputs": [],
   "source": [
    "df_ambos_portales['confirmed_purchase'] = df_ambos_portales['process_step'].apply(lambda x: 1 if x == 4 else 0)\n",
    "\n",
    "crosstab_result_age_confirm = get_crosstab(df_ambos_portales['clnt_age'], df_ambos_portales['confirmed_purchase'])"
   ]
  },
  {
   "cell_type": "code",
   "execution_count": null,
   "metadata": {},
   "outputs": [],
   "source": [
    "# H0 = There is no association between 'balance' and 'gendr'  --- Null Hypothesis p>=0.05\n",
    "# H1 = There is an association between 'balance' and 'gendr'  --- Alternative Hypothesis p<0.05\n",
    "\n",
    "from scipy.stats import chi2_contingency\n",
    "\n",
    "chi2_statistic, chi2_p_value, _, _ = chi2_contingency(crosstab_result_age_confirm)\n",
    "\n",
    "chi2_statistic, chi2_p_value\n",
    "\n",
    "if chi2_p_value < 0.05:\n",
    "    print(\"We reject the null hypothesis. There is an association between 'age' and confirming purchase.\")\n",
    "else:\n",
    "    print(\"There is no significant evidence to suggest an association between 'age' and confirming purchase.\")"
   ]
  },
  {
   "cell_type": "code",
   "execution_count": null,
   "metadata": {},
   "outputs": [],
   "source": [
    "df_all"
   ]
  },
  {
   "cell_type": "code",
   "execution_count": 33,
   "metadata": {},
   "outputs": [],
   "source": [
    "df_all.to_csv('data/df_all_propio.csv', index=False)"
   ]
  },
  {
   "cell_type": "code",
   "execution_count": null,
   "metadata": {},
   "outputs": [],
   "source": []
  }
 ],
 "metadata": {
  "kernelspec": {
   "display_name": "base",
   "language": "python",
   "name": "python3"
  },
  "language_info": {
   "codemirror_mode": {
    "name": "ipython",
    "version": 3
   },
   "file_extension": ".py",
   "mimetype": "text/x-python",
   "name": "python",
   "nbconvert_exporter": "python",
   "pygments_lexer": "ipython3",
   "version": "3.12.4"
  }
 },
 "nbformat": 4,
 "nbformat_minor": 2
}

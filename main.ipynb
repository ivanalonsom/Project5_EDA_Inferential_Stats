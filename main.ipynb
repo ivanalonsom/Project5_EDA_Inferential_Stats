{
 "cells": [
  {
   "cell_type": "markdown",
   "metadata": {},
   "source": [
    "## FINAL DEMO"
   ]
  },
  {
   "cell_type": "code",
   "execution_count": 2,
   "metadata": {},
   "outputs": [],
   "source": [
    "import pandas as pd\n",
    "from functions import *\n",
    "\n",
    "df_final_demo = pd.read_csv(\"df_final_demo.csv\")\n",
    "\n",
    "df_final_demo.head()\n",
    "df_final_demo.dropna(inplace=True)\n",
    "\n",
    "mapGenre = {'X' : 'U'}\n",
    "df_final_demo[\"gendr\"] = replace_values_df(df_final_demo[\"gendr\"], mapGenre)"
   ]
  },
  {
   "cell_type": "markdown",
   "metadata": {},
   "source": [
    "## WEB DATA"
   ]
  },
  {
   "cell_type": "code",
   "execution_count": 3,
   "metadata": {},
   "outputs": [],
   "source": [
    "df_web_data1 = pd.read_csv(\"df_final_web_data_pt_1.csv\")\n",
    "df_web_data2 = pd.read_csv(\"df_final_web_data_pt_2.csv\")\n",
    "\n",
    "df_web_data_concat = pd.concat([df_web_data1, df_web_data2], axis=0, join='inner')"
   ]
  },
  {
   "cell_type": "code",
   "execution_count": 4,
   "metadata": {},
   "outputs": [
    {
     "data": {
      "text/plain": [
       "client_id                int64\n",
       "visitor_id              object\n",
       "visit_id                object\n",
       "process_step            object\n",
       "date_time       datetime64[ns]\n",
       "dtype: object"
      ]
     },
     "execution_count": 4,
     "metadata": {},
     "output_type": "execute_result"
    }
   ],
   "source": [
    "# Convert type object into datetime \n",
    "\n",
    "df_web_data_concat['date_time'] = convert_to_dateTime(df_web_data_concat['date_time'])\n",
    "\n",
    "df_web_data_concat.dtypes"
   ]
  },
  {
   "cell_type": "code",
   "execution_count": 5,
   "metadata": {},
   "outputs": [],
   "source": [
    "# I turn 'step' into a discrete numeric df\n",
    "\n",
    "map_values = {'start' : 0, 'step_1' : 1, 'step_2' : 2, 'step_3' : 3, 'confirm' : 4}\n",
    "\n",
    "df_web_data_concat[\"process_step\"] = replace_values_df(df_web_data_concat[\"process_step\"], map_values)"
   ]
  },
  {
   "cell_type": "markdown",
   "metadata": {},
   "source": [
    "## FINAL EXP"
   ]
  },
  {
   "cell_type": "code",
   "execution_count": 6,
   "metadata": {},
   "outputs": [],
   "source": [
    "df_final_exp = pd.read_csv(\"df_final_experiment_clients.csv\")\n",
    "df_final_exp.rename(columns={\"Variation\" : \"variation\"}, inplace=True)"
   ]
  },
  {
   "cell_type": "code",
   "execution_count": 7,
   "metadata": {},
   "outputs": [],
   "source": [
    "df_final_exp = drop_na_df(df_final_exp, \"variation\")"
   ]
  },
  {
   "cell_type": "code",
   "execution_count": 8,
   "metadata": {},
   "outputs": [],
   "source": [
    "map_values2 = {'Control': 0, 'Test': 1}\n",
    "\n",
    "df_final_exp[\"variation\"] = replace_values_df(df_final_exp[\"variation\"], map_values2)"
   ]
  },
  {
   "cell_type": "markdown",
   "metadata": {},
   "source": [
    "## MERGE"
   ]
  },
  {
   "cell_type": "code",
   "execution_count": 9,
   "metadata": {},
   "outputs": [],
   "source": [
    "df_temp1 = pd.merge(df_final_demo, df_web_data_concat, on='client_id', how='inner')\n",
    "\n",
    "df_all = pd.merge(df_temp1, df_final_exp, on='client_id', how='inner')"
   ]
  },
  {
   "cell_type": "code",
   "execution_count": 10,
   "metadata": {},
   "outputs": [],
   "source": [
    "df_all = df_all.drop(\"clnt_tenure_yr\", axis=1)      # We don´t need this column because is derivative from clnt_tenure_mnth"
   ]
  },
  {
   "cell_type": "code",
   "execution_count": 11,
   "metadata": {},
   "outputs": [],
   "source": [
    "df_all_no_duplicates = df_all.copy()\n",
    "df_all_no_duplicates.drop_duplicates(subset=\"client_id\", inplace=True)\n",
    "\n",
    "# El datafram pero sin los duplicados"
   ]
  },
  {
   "cell_type": "markdown",
   "metadata": {},
   "source": [
    "## QUITAMOS OUTLIERS DEL DF_ALL Y DEL QUE NO TIENE DUPLICADOS"
   ]
  },
  {
   "cell_type": "code",
   "execution_count": 12,
   "metadata": {},
   "outputs": [],
   "source": [
    "df_all = outlier_slayer(df_all)\n",
    "\n",
    "df_all_no_duplicates = outlier_slayer(df_all_no_duplicates)"
   ]
  },
  {
   "cell_type": "markdown",
   "metadata": {},
   "source": [
    "# VER SI SON JOVENES O NO"
   ]
  },
  {
   "cell_type": "code",
   "execution_count": 13,
   "metadata": {},
   "outputs": [
    {
     "data": {
      "text/plain": [
       "count    34931.000000\n",
       "mean        46.057213\n",
       "std         15.322921\n",
       "min         17.000000\n",
       "25%         32.500000\n",
       "50%         46.000000\n",
       "75%         58.500000\n",
       "max         96.000000\n",
       "Name: clnt_age, dtype: float64"
      ]
     },
     "execution_count": 13,
     "metadata": {},
     "output_type": "execute_result"
    }
   ],
   "source": [
    "df_all_no_duplicates[\"clnt_age\"].describe()"
   ]
  },
  {
   "cell_type": "code",
   "execution_count": 14,
   "metadata": {},
   "outputs": [
    {
     "data": {
      "text/plain": [
       "0    59.5\n",
       "Name: clnt_age, dtype: float64"
      ]
     },
     "execution_count": 14,
     "metadata": {},
     "output_type": "execute_result"
    }
   ],
   "source": [
    "df_all[\"clnt_age\"].mode()"
   ]
  },
  {
   "cell_type": "code",
   "execution_count": 15,
   "metadata": {},
   "outputs": [
    {
     "data": {
      "text/plain": [
       "<Axes: >"
      ]
     },
     "execution_count": 15,
     "metadata": {},
     "output_type": "execute_result"
    },
    {
     "data": {
      "image/png": "[encoded data removed]",
      "text/plain": [
       "<Figure size 640x480 with 1 Axes>"
      ]
     },
     "metadata": {},
     "output_type": "display_data"
    }
   ],
   "source": [
    "import seaborn as sns\n",
    "\n",
    "sns.boxplot(data = df_all_no_duplicates['clnt_age'])"
   ]
  },
  {
   "cell_type": "code",
   "execution_count": 16,
   "metadata": {},
   "outputs": [
    {
     "data": {
      "text/plain": [
       "(-6.5, 97.5)"
      ]
     },
     "execution_count": 16,
     "metadata": {},
     "output_type": "execute_result"
    }
   ],
   "source": [
    "Q1 = df_all_no_duplicates['clnt_age'].quantile(0.25)\n",
    "Q3 = df_all_no_duplicates['clnt_age'].quantile(0.75)\n",
    "IQR = Q3 - Q1\n",
    "\n",
    "\n",
    "inf_lim = Q1 - 1.5*IQR\n",
    "sup_lim = Q3 + 1.5*IQR\n",
    "\n",
    "inf_lim, sup_lim"
   ]
  },
  {
   "cell_type": "code",
   "execution_count": 17,
   "metadata": {},
   "outputs": [],
   "source": [
    "# age_outliers = df_all_no_duplicates['clnt_age'][(df_all_no_duplicates['clnt_age'] < inf_lim) | (df_all_no_duplicates['clnt_age'] > sup_lim) ]\n",
    "\n",
    "# age_outliers         # THERE ARE NO OUTLIERS ON Client Age column"
   ]
  },
  {
   "cell_type": "markdown",
   "metadata": {},
   "source": [
    "# VER SI SON NUEVOS O ANTIGUOS"
   ]
  },
  {
   "cell_type": "code",
   "execution_count": 18,
   "metadata": {},
   "outputs": [
    {
     "data": {
      "text/plain": [
       "count    34931.000000\n",
       "mean       137.713521\n",
       "std         68.669962\n",
       "min         33.000000\n",
       "25%         79.000000\n",
       "50%        123.000000\n",
       "75%        181.000000\n",
       "max        357.000000\n",
       "Name: clnt_tenure_mnth, dtype: float64"
      ]
     },
     "execution_count": 18,
     "metadata": {},
     "output_type": "execute_result"
    }
   ],
   "source": [
    "df_all_no_duplicates[\"clnt_tenure_mnth\"].describe()"
   ]
  },
  {
   "cell_type": "code",
   "execution_count": 19,
   "metadata": {},
   "outputs": [
    {
     "data": {
      "text/plain": [
       "0    58.0\n",
       "Name: clnt_tenure_mnth, dtype: float64"
      ]
     },
     "execution_count": 19,
     "metadata": {},
     "output_type": "execute_result"
    }
   ],
   "source": [
    "df_all[\"clnt_tenure_mnth\"].mode()"
   ]
  },
  {
   "cell_type": "code",
   "execution_count": 20,
   "metadata": {},
   "outputs": [
    {
     "data": {
      "text/plain": [
       "<Axes: >"
      ]
     },
     "execution_count": 20,
     "metadata": {},
     "output_type": "execute_result"
    },
    {
     "data": {
      "image/png": "[encoded data removed]",
      "text/plain": [
       "<Figure size 640x480 with 1 Axes>"
      ]
     },
     "metadata": {},
     "output_type": "display_data"
    }
   ],
   "source": [
    "sns.boxplot(data = df_all_no_duplicates['clnt_tenure_mnth'])            # Seguimos teniendo outliers pero dar una segunda pasada es contraproducente en principio."
   ]
  },
  {
   "cell_type": "code",
   "execution_count": 21,
   "metadata": {},
   "outputs": [
    {
     "data": {
      "text/plain": [
       "(-74.0, 334.0)"
      ]
     },
     "execution_count": 21,
     "metadata": {},
     "output_type": "execute_result"
    }
   ],
   "source": [
    "Q1 = df_all_no_duplicates['clnt_tenure_mnth'].quantile(0.25)\n",
    "Q3 = df_all_no_duplicates['clnt_tenure_mnth'].quantile(0.75)\n",
    "IQR = Q3 - Q1\n",
    "\n",
    "\n",
    "inf_lim = Q1 - 1.5*IQR\n",
    "sup_lim = Q3 + 1.5*IQR\n",
    "\n",
    "inf_lim, sup_lim"
   ]
  },
  {
   "cell_type": "markdown",
   "metadata": {},
   "source": [
    "# DIA 3  \n",
    "## Calcular % de compras con éxito en cada web"
   ]
  },
  {
   "cell_type": "code",
   "execution_count": 22,
   "metadata": {},
   "outputs": [
    {
     "data": {
      "text/html": [
       "<div>\n",
       "<style scoped>\n",
       "    .dataframe tbody tr th:only-of-type {\n",
       "        vertical-align: middle;\n",
       "    }\n",
       "\n",
       "    .dataframe tbody tr th {\n",
       "        vertical-align: top;\n",
       "    }\n",
       "\n",
       "    .dataframe thead th {\n",
       "        text-align: right;\n",
       "    }\n",
       "</style>\n",
       "<table border=\"1\" class=\"dataframe\">\n",
       "  <thead>\n",
       "    <tr style=\"text-align: right;\">\n",
       "      <th></th>\n",
       "      <th>client_id</th>\n",
       "      <th>clnt_tenure_mnth</th>\n",
       "      <th>clnt_age</th>\n",
       "      <th>gendr</th>\n",
       "      <th>num_accts</th>\n",
       "      <th>bal</th>\n",
       "      <th>calls_6_mnth</th>\n",
       "      <th>logons_6_mnth</th>\n",
       "      <th>visitor_id</th>\n",
       "      <th>visit_id</th>\n",
       "      <th>process_step</th>\n",
       "      <th>date_time</th>\n",
       "      <th>variation</th>\n",
       "    </tr>\n",
       "  </thead>\n",
       "  <tbody>\n",
       "    <tr>\n",
       "      <th>118312</th>\n",
       "      <td>6187864</td>\n",
       "      <td>163.0</td>\n",
       "      <td>55.0</td>\n",
       "      <td>F</td>\n",
       "      <td>2.0</td>\n",
       "      <td>174412.75</td>\n",
       "      <td>4.0</td>\n",
       "      <td>7.0</td>\n",
       "      <td>113539532_90731779729</td>\n",
       "      <td>77393632_6804608909_354572</td>\n",
       "      <td>2</td>\n",
       "      <td>2017-06-20 23:57:06</td>\n",
       "      <td>0</td>\n",
       "    </tr>\n",
       "    <tr>\n",
       "      <th>118313</th>\n",
       "      <td>6187864</td>\n",
       "      <td>163.0</td>\n",
       "      <td>55.0</td>\n",
       "      <td>F</td>\n",
       "      <td>2.0</td>\n",
       "      <td>174412.75</td>\n",
       "      <td>4.0</td>\n",
       "      <td>7.0</td>\n",
       "      <td>113539532_90731779729</td>\n",
       "      <td>77393632_6804608909_354572</td>\n",
       "      <td>1</td>\n",
       "      <td>2017-06-20 23:56:30</td>\n",
       "      <td>0</td>\n",
       "    </tr>\n",
       "    <tr>\n",
       "      <th>118314</th>\n",
       "      <td>6187864</td>\n",
       "      <td>163.0</td>\n",
       "      <td>55.0</td>\n",
       "      <td>F</td>\n",
       "      <td>2.0</td>\n",
       "      <td>174412.75</td>\n",
       "      <td>4.0</td>\n",
       "      <td>7.0</td>\n",
       "      <td>113539532_90731779729</td>\n",
       "      <td>77393632_6804608909_354572</td>\n",
       "      <td>0</td>\n",
       "      <td>2017-06-20 23:56:17</td>\n",
       "      <td>0</td>\n",
       "    </tr>\n",
       "    <tr>\n",
       "      <th>189085</th>\n",
       "      <td>1558312</td>\n",
       "      <td>276.0</td>\n",
       "      <td>64.0</td>\n",
       "      <td>F</td>\n",
       "      <td>2.0</td>\n",
       "      <td>27918.86</td>\n",
       "      <td>2.0</td>\n",
       "      <td>5.0</td>\n",
       "      <td>397562195_28573798537</td>\n",
       "      <td>175513303_32086468382_224926</td>\n",
       "      <td>4</td>\n",
       "      <td>2017-06-20 23:26:00</td>\n",
       "      <td>0</td>\n",
       "    </tr>\n",
       "    <tr>\n",
       "      <th>230853</th>\n",
       "      <td>291330</td>\n",
       "      <td>349.0</td>\n",
       "      <td>68.0</td>\n",
       "      <td>M</td>\n",
       "      <td>2.0</td>\n",
       "      <td>62155.41</td>\n",
       "      <td>6.0</td>\n",
       "      <td>9.0</td>\n",
       "      <td>992344309_24884468623</td>\n",
       "      <td>91879336_25502670457_529422</td>\n",
       "      <td>1</td>\n",
       "      <td>2017-06-20 23:21:41</td>\n",
       "      <td>0</td>\n",
       "    </tr>\n",
       "    <tr>\n",
       "      <th>...</th>\n",
       "      <td>...</td>\n",
       "      <td>...</td>\n",
       "      <td>...</td>\n",
       "      <td>...</td>\n",
       "      <td>...</td>\n",
       "      <td>...</td>\n",
       "      <td>...</td>\n",
       "      <td>...</td>\n",
       "      <td>...</td>\n",
       "      <td>...</td>\n",
       "      <td>...</td>\n",
       "      <td>...</td>\n",
       "      <td>...</td>\n",
       "    </tr>\n",
       "    <tr>\n",
       "      <th>66072</th>\n",
       "      <td>4192640</td>\n",
       "      <td>174.0</td>\n",
       "      <td>54.0</td>\n",
       "      <td>M</td>\n",
       "      <td>2.0</td>\n",
       "      <td>97914.40</td>\n",
       "      <td>3.0</td>\n",
       "      <td>6.0</td>\n",
       "      <td>692067844_75217592829</td>\n",
       "      <td>706721307_85347845958_18583</td>\n",
       "      <td>0</td>\n",
       "      <td>2017-03-15 00:44:38</td>\n",
       "      <td>1</td>\n",
       "    </tr>\n",
       "    <tr>\n",
       "      <th>66073</th>\n",
       "      <td>4192640</td>\n",
       "      <td>174.0</td>\n",
       "      <td>54.0</td>\n",
       "      <td>M</td>\n",
       "      <td>2.0</td>\n",
       "      <td>97914.40</td>\n",
       "      <td>3.0</td>\n",
       "      <td>6.0</td>\n",
       "      <td>692067844_75217592829</td>\n",
       "      <td>706721307_85347845958_18583</td>\n",
       "      <td>1</td>\n",
       "      <td>2017-03-15 00:44:36</td>\n",
       "      <td>1</td>\n",
       "    </tr>\n",
       "    <tr>\n",
       "      <th>66074</th>\n",
       "      <td>4192640</td>\n",
       "      <td>174.0</td>\n",
       "      <td>54.0</td>\n",
       "      <td>M</td>\n",
       "      <td>2.0</td>\n",
       "      <td>97914.40</td>\n",
       "      <td>3.0</td>\n",
       "      <td>6.0</td>\n",
       "      <td>692067844_75217592829</td>\n",
       "      <td>706721307_85347845958_18583</td>\n",
       "      <td>2</td>\n",
       "      <td>2017-03-15 00:43:48</td>\n",
       "      <td>1</td>\n",
       "    </tr>\n",
       "    <tr>\n",
       "      <th>66075</th>\n",
       "      <td>4192640</td>\n",
       "      <td>174.0</td>\n",
       "      <td>54.0</td>\n",
       "      <td>M</td>\n",
       "      <td>2.0</td>\n",
       "      <td>97914.40</td>\n",
       "      <td>3.0</td>\n",
       "      <td>6.0</td>\n",
       "      <td>692067844_75217592829</td>\n",
       "      <td>706721307_85347845958_18583</td>\n",
       "      <td>1</td>\n",
       "      <td>2017-03-15 00:43:32</td>\n",
       "      <td>1</td>\n",
       "    </tr>\n",
       "    <tr>\n",
       "      <th>66076</th>\n",
       "      <td>4192640</td>\n",
       "      <td>174.0</td>\n",
       "      <td>54.0</td>\n",
       "      <td>M</td>\n",
       "      <td>2.0</td>\n",
       "      <td>97914.40</td>\n",
       "      <td>3.0</td>\n",
       "      <td>6.0</td>\n",
       "      <td>692067844_75217592829</td>\n",
       "      <td>706721307_85347845958_18583</td>\n",
       "      <td>0</td>\n",
       "      <td>2017-03-15 00:43:23</td>\n",
       "      <td>1</td>\n",
       "    </tr>\n",
       "  </tbody>\n",
       "</table>\n",
       "<p>220371 rows × 13 columns</p>\n",
       "</div>"
      ],
      "text/plain": [
       "        client_id  clnt_tenure_mnth  clnt_age gendr  num_accts        bal  \\\n",
       "118312    6187864             163.0      55.0     F        2.0  174412.75   \n",
       "118313    6187864             163.0      55.0     F        2.0  174412.75   \n",
       "118314    6187864             163.0      55.0     F        2.0  174412.75   \n",
       "189085    1558312             276.0      64.0     F        2.0   27918.86   \n",
       "230853     291330             349.0      68.0     M        2.0   62155.41   \n",
       "...           ...               ...       ...   ...        ...        ...   \n",
       "66072     4192640             174.0      54.0     M        2.0   97914.40   \n",
       "66073     4192640             174.0      54.0     M        2.0   97914.40   \n",
       "66074     4192640             174.0      54.0     M        2.0   97914.40   \n",
       "66075     4192640             174.0      54.0     M        2.0   97914.40   \n",
       "66076     4192640             174.0      54.0     M        2.0   97914.40   \n",
       "\n",
       "        calls_6_mnth  logons_6_mnth             visitor_id  \\\n",
       "118312           4.0            7.0  113539532_90731779729   \n",
       "118313           4.0            7.0  113539532_90731779729   \n",
       "118314           4.0            7.0  113539532_90731779729   \n",
       "189085           2.0            5.0  397562195_28573798537   \n",
       "230853           6.0            9.0  992344309_24884468623   \n",
       "...              ...            ...                    ...   \n",
       "66072            3.0            6.0  692067844_75217592829   \n",
       "66073            3.0            6.0  692067844_75217592829   \n",
       "66074            3.0            6.0  692067844_75217592829   \n",
       "66075            3.0            6.0  692067844_75217592829   \n",
       "66076            3.0            6.0  692067844_75217592829   \n",
       "\n",
       "                            visit_id  process_step           date_time  \\\n",
       "118312    77393632_6804608909_354572             2 2017-06-20 23:57:06   \n",
       "118313    77393632_6804608909_354572             1 2017-06-20 23:56:30   \n",
       "118314    77393632_6804608909_354572             0 2017-06-20 23:56:17   \n",
       "189085  175513303_32086468382_224926             4 2017-06-20 23:26:00   \n",
       "230853   91879336_25502670457_529422             1 2017-06-20 23:21:41   \n",
       "...                              ...           ...                 ...   \n",
       "66072    706721307_85347845958_18583             0 2017-03-15 00:44:38   \n",
       "66073    706721307_85347845958_18583             1 2017-03-15 00:44:36   \n",
       "66074    706721307_85347845958_18583             2 2017-03-15 00:43:48   \n",
       "66075    706721307_85347845958_18583             1 2017-03-15 00:43:32   \n",
       "66076    706721307_85347845958_18583             0 2017-03-15 00:43:23   \n",
       "\n",
       "        variation  \n",
       "118312          0  \n",
       "118313          0  \n",
       "118314          0  \n",
       "189085          0  \n",
       "230853          0  \n",
       "...           ...  \n",
       "66072           1  \n",
       "66073           1  \n",
       "66074           1  \n",
       "66075           1  \n",
       "66076           1  \n",
       "\n",
       "[220371 rows x 13 columns]"
      ]
     },
     "execution_count": 22,
     "metadata": {},
     "output_type": "execute_result"
    }
   ],
   "source": [
    "df_all.sort_values(by=\"date_time\", ascending=False)"
   ]
  },
  {
   "cell_type": "code",
   "execution_count": 23,
   "metadata": {},
   "outputs": [],
   "source": [
    "df_id_max_compras = df_all.groupby([\"client_id\", \"visit_id\", \"variation\"])[\"date_time\"].idxmax()\n"
   ]
  },
  {
   "cell_type": "code",
   "execution_count": 24,
   "metadata": {},
   "outputs": [],
   "source": [
    "df_ambos_portales = df_all.loc[df_id_max_compras]"
   ]
  },
  {
   "cell_type": "code",
   "execution_count": 25,
   "metadata": {},
   "outputs": [],
   "source": [
    "df_control = df_ambos_portales[df_ambos_portales[\"variation\"] == 0]"
   ]
  },
  {
   "cell_type": "code",
   "execution_count": 26,
   "metadata": {},
   "outputs": [],
   "source": [
    "df_control_step_0 = df_control[df_control[\"process_step\"] == 0]\n",
    "df_control_step_1 = df_control[df_control[\"process_step\"] == 1]\n",
    "df_control_step_2 = df_control[df_control[\"process_step\"] == 2]\n",
    "df_control_step_3 = df_control[df_control[\"process_step\"] == 3]\n",
    "df_control_step_4 = df_control[df_control[\"process_step\"] == 4]"
   ]
  },
  {
   "cell_type": "code",
   "execution_count": 27,
   "metadata": {},
   "outputs": [
    {
     "name": "stdout",
     "output_type": "stream",
     "text": [
      "\n",
      "El % de gente que se quedó en el INICIO en la web de CONTROL es de 30.232025994233673\n",
      "El % de gente que se quedó en el PASO 1 en la web de CONTROL es de 9.578508992723446\n",
      "El % de gente que se quedó en el PASO 2 en la web de CONTROL es de 4.7366253260720335\n",
      "El % de gente que se quedó en el PASO 3 en la web de CONTROL es de 7.372660290146904\n",
      "El % de gente que CONFIRMÓ la compra en la web de CONTROL es de 48.080179396823944\n",
      "      \n"
     ]
    }
   ],
   "source": [
    "perc_step0_control = 100 * df_control_step_0.shape[0] / df_control.shape[0]\n",
    "perc_step1_control = 100 * df_control_step_1.shape[0] / df_control.shape[0]\n",
    "perc_step2_control = 100 * df_control_step_2.shape[0] / df_control.shape[0]\n",
    "perc_step3_control = 100 * df_control_step_3.shape[0] / df_control.shape[0]\n",
    "\n",
    "perc_confirms_control = 100 * df_control_step_4.shape[0] / df_control.shape[0]\n",
    "\n",
    "\n",
    "print(f\"\"\"\n",
    "El % de gente que se quedó en el INICIO en la web de CONTROL es de {perc_step0_control}\n",
    "El % de gente que se quedó en el PASO 1 en la web de CONTROL es de {perc_step1_control}\n",
    "El % de gente que se quedó en el PASO 2 en la web de CONTROL es de {perc_step2_control}\n",
    "El % de gente que se quedó en el PASO 3 en la web de CONTROL es de {perc_step3_control}\n",
    "El % de gente que CONFIRMÓ la compra en la web de CONTROL es de {perc_confirms_control}\n",
    "      \"\"\")"
   ]
  },
  {
   "cell_type": "code",
   "execution_count": 28,
   "metadata": {},
   "outputs": [],
   "source": [
    "df_test = df_ambos_portales[df_ambos_portales[\"variation\"] == 1]"
   ]
  },
  {
   "cell_type": "code",
   "execution_count": 29,
   "metadata": {},
   "outputs": [],
   "source": [
    "df_test_step_0 = df_test[df_test[\"process_step\"] == 0]\n",
    "df_test_step_1 = df_test[df_test[\"process_step\"] == 1]\n",
    "df_test_step_2 = df_test[df_test[\"process_step\"] == 2]\n",
    "df_test_step_3 = df_test[df_test[\"process_step\"] == 3]\n",
    "df_test_step_4 = df_test[df_test[\"process_step\"] == 4]"
   ]
  },
  {
   "cell_type": "code",
   "execution_count": 30,
   "metadata": {},
   "outputs": [
    {
     "name": "stdout",
     "output_type": "stream",
     "text": [
      "\n",
      "El % de gente que se quedó en el INICIO en la web de TEST es de 25.807860262008735\n",
      "El % de gente que se quedó en el PASO 1 en la web de TEST es de 8.745533942040492\n",
      "El % de gente que se quedó en el PASO 2 en la web de TEST es de 3.6244541484716155\n",
      "El % de gente que se quedó en el PASO 3 en la web de TEST es de 4.958316792377928\n",
      "El % de gente que CONFIRMÓ la compra en la web de TEST es de 56.86383485510123\n",
      "      \n"
     ]
    }
   ],
   "source": [
    "perc_step0_test = 100 * df_test_step_0.shape[0] / df_test.shape[0]\n",
    "perc_step1_test = 100 * df_test_step_1.shape[0] / df_test.shape[0]\n",
    "perc_step2_test = 100 * df_test_step_2.shape[0] / df_test.shape[0]\n",
    "perc_step3_test = 100 * df_test_step_3.shape[0] / df_test.shape[0]\n",
    "\n",
    "perc_confirms_test = 100 * df_test_step_4.shape[0] / df_test.shape[0]\n",
    "\n",
    "print(f\"\"\"\n",
    "El % de gente que se quedó en el INICIO en la web de TEST es de {perc_step0_test}\n",
    "El % de gente que se quedó en el PASO 1 en la web de TEST es de {perc_step1_test}\n",
    "El % de gente que se quedó en el PASO 2 en la web de TEST es de {perc_step2_test}\n",
    "El % de gente que se quedó en el PASO 3 en la web de TEST es de {perc_step3_test}\n",
    "El % de gente que CONFIRMÓ la compra en la web de TEST es de {perc_confirms_test}\n",
    "      \"\"\")"
   ]
  },
  {
   "cell_type": "code",
   "execution_count": 31,
   "metadata": {},
   "outputs": [
    {
     "data": {
      "text/html": [
       "<div>\n",
       "<style scoped>\n",
       "    .dataframe tbody tr th:only-of-type {\n",
       "        vertical-align: middle;\n",
       "    }\n",
       "\n",
       "    .dataframe tbody tr th {\n",
       "        vertical-align: top;\n",
       "    }\n",
       "\n",
       "    .dataframe thead th {\n",
       "        text-align: right;\n",
       "    }\n",
       "</style>\n",
       "<table border=\"1\" class=\"dataframe\">\n",
       "  <thead>\n",
       "    <tr style=\"text-align: right;\">\n",
       "      <th></th>\n",
       "      <th>client_id</th>\n",
       "      <th>clnt_tenure_mnth</th>\n",
       "      <th>clnt_age</th>\n",
       "      <th>gendr</th>\n",
       "      <th>num_accts</th>\n",
       "      <th>bal</th>\n",
       "      <th>calls_6_mnth</th>\n",
       "      <th>logons_6_mnth</th>\n",
       "      <th>visitor_id</th>\n",
       "      <th>visit_id</th>\n",
       "      <th>process_step</th>\n",
       "      <th>date_time</th>\n",
       "      <th>variation</th>\n",
       "    </tr>\n",
       "  </thead>\n",
       "  <tbody>\n",
       "    <tr>\n",
       "      <th>255392</th>\n",
       "      <td>555</td>\n",
       "      <td>46.0</td>\n",
       "      <td>29.5</td>\n",
       "      <td>U</td>\n",
       "      <td>2.0</td>\n",
       "      <td>25454.66</td>\n",
       "      <td>2.0</td>\n",
       "      <td>6.0</td>\n",
       "      <td>402506806_56087378777</td>\n",
       "      <td>637149525_38041617439_716659</td>\n",
       "      <td>4</td>\n",
       "      <td>2017-04-15 13:00:34</td>\n",
       "      <td>1</td>\n",
       "    </tr>\n",
       "    <tr>\n",
       "      <th>9745</th>\n",
       "      <td>647</td>\n",
       "      <td>151.0</td>\n",
       "      <td>57.5</td>\n",
       "      <td>M</td>\n",
       "      <td>2.0</td>\n",
       "      <td>30525.80</td>\n",
       "      <td>0.0</td>\n",
       "      <td>4.0</td>\n",
       "      <td>66758770_53988066587</td>\n",
       "      <td>40369564_40101682850_311847</td>\n",
       "      <td>4</td>\n",
       "      <td>2017-04-12 15:47:45</td>\n",
       "      <td>1</td>\n",
       "    </tr>\n",
       "    <tr>\n",
       "      <th>83826</th>\n",
       "      <td>934</td>\n",
       "      <td>109.0</td>\n",
       "      <td>51.0</td>\n",
       "      <td>F</td>\n",
       "      <td>2.0</td>\n",
       "      <td>32522.88</td>\n",
       "      <td>0.0</td>\n",
       "      <td>3.0</td>\n",
       "      <td>810392784_45004760546</td>\n",
       "      <td>7076463_57954418406_971348</td>\n",
       "      <td>0</td>\n",
       "      <td>2017-04-18 02:38:52</td>\n",
       "      <td>1</td>\n",
       "    </tr>\n",
       "    <tr>\n",
       "      <th>284885</th>\n",
       "      <td>1186</td>\n",
       "      <td>99.0</td>\n",
       "      <td>22.0</td>\n",
       "      <td>U</td>\n",
       "      <td>2.0</td>\n",
       "      <td>31662.52</td>\n",
       "      <td>0.0</td>\n",
       "      <td>3.0</td>\n",
       "      <td>446844663_31615102958</td>\n",
       "      <td>507052512_11309370126_442139</td>\n",
       "      <td>0</td>\n",
       "      <td>2017-04-08 15:59:16</td>\n",
       "      <td>0</td>\n",
       "    </tr>\n",
       "    <tr>\n",
       "      <th>284882</th>\n",
       "      <td>1186</td>\n",
       "      <td>99.0</td>\n",
       "      <td>22.0</td>\n",
       "      <td>U</td>\n",
       "      <td>2.0</td>\n",
       "      <td>31662.52</td>\n",
       "      <td>0.0</td>\n",
       "      <td>3.0</td>\n",
       "      <td>446844663_31615102958</td>\n",
       "      <td>795373564_99931517312_810896</td>\n",
       "      <td>2</td>\n",
       "      <td>2017-04-08 18:05:24</td>\n",
       "      <td>0</td>\n",
       "    </tr>\n",
       "    <tr>\n",
       "      <th>...</th>\n",
       "      <td>...</td>\n",
       "      <td>...</td>\n",
       "      <td>...</td>\n",
       "      <td>...</td>\n",
       "      <td>...</td>\n",
       "      <td>...</td>\n",
       "      <td>...</td>\n",
       "      <td>...</td>\n",
       "      <td>...</td>\n",
       "      <td>...</td>\n",
       "      <td>...</td>\n",
       "      <td>...</td>\n",
       "      <td>...</td>\n",
       "    </tr>\n",
       "    <tr>\n",
       "      <th>208379</th>\n",
       "      <td>9998773</td>\n",
       "      <td>59.0</td>\n",
       "      <td>28.5</td>\n",
       "      <td>U</td>\n",
       "      <td>2.0</td>\n",
       "      <td>76988.65</td>\n",
       "      <td>2.0</td>\n",
       "      <td>5.0</td>\n",
       "      <td>481169437_1308863478</td>\n",
       "      <td>980310183_14300639078_417437</td>\n",
       "      <td>4</td>\n",
       "      <td>2017-04-12 23:50:22</td>\n",
       "      <td>1</td>\n",
       "    </tr>\n",
       "    <tr>\n",
       "      <th>43929</th>\n",
       "      <td>9998851</td>\n",
       "      <td>58.0</td>\n",
       "      <td>23.5</td>\n",
       "      <td>U</td>\n",
       "      <td>2.0</td>\n",
       "      <td>38473.54</td>\n",
       "      <td>3.0</td>\n",
       "      <td>6.0</td>\n",
       "      <td>660529049_81285947655</td>\n",
       "      <td>310744937_17135608286_213964</td>\n",
       "      <td>4</td>\n",
       "      <td>2017-04-05 12:08:43</td>\n",
       "      <td>1</td>\n",
       "    </tr>\n",
       "    <tr>\n",
       "      <th>27192</th>\n",
       "      <td>9998921</td>\n",
       "      <td>189.0</td>\n",
       "      <td>38.0</td>\n",
       "      <td>F</td>\n",
       "      <td>2.0</td>\n",
       "      <td>30644.10</td>\n",
       "      <td>4.0</td>\n",
       "      <td>7.0</td>\n",
       "      <td>960034051_85687824805</td>\n",
       "      <td>378424178_59565976155_8051</td>\n",
       "      <td>0</td>\n",
       "      <td>2017-04-18 11:26:31</td>\n",
       "      <td>0</td>\n",
       "    </tr>\n",
       "    <tr>\n",
       "      <th>194568</th>\n",
       "      <td>9999400</td>\n",
       "      <td>86.0</td>\n",
       "      <td>28.5</td>\n",
       "      <td>U</td>\n",
       "      <td>2.0</td>\n",
       "      <td>51787.04</td>\n",
       "      <td>0.0</td>\n",
       "      <td>3.0</td>\n",
       "      <td>915967319_19082377501</td>\n",
       "      <td>288904166_90826265353_276104</td>\n",
       "      <td>4</td>\n",
       "      <td>2017-04-20 05:23:27</td>\n",
       "      <td>1</td>\n",
       "    </tr>\n",
       "    <tr>\n",
       "      <th>20599</th>\n",
       "      <td>9999626</td>\n",
       "      <td>113.0</td>\n",
       "      <td>35.0</td>\n",
       "      <td>M</td>\n",
       "      <td>2.0</td>\n",
       "      <td>36642.88</td>\n",
       "      <td>6.0</td>\n",
       "      <td>9.0</td>\n",
       "      <td>52633065_71189986073</td>\n",
       "      <td>182723364_27031318473_880901</td>\n",
       "      <td>1</td>\n",
       "      <td>2017-05-14 09:07:59</td>\n",
       "      <td>1</td>\n",
       "    </tr>\n",
       "  </tbody>\n",
       "</table>\n",
       "<p>47041 rows × 13 columns</p>\n",
       "</div>"
      ],
      "text/plain": [
       "        client_id  clnt_tenure_mnth  clnt_age gendr  num_accts       bal  \\\n",
       "255392        555              46.0      29.5     U        2.0  25454.66   \n",
       "9745          647             151.0      57.5     M        2.0  30525.80   \n",
       "83826         934             109.0      51.0     F        2.0  32522.88   \n",
       "284885       1186              99.0      22.0     U        2.0  31662.52   \n",
       "284882       1186              99.0      22.0     U        2.0  31662.52   \n",
       "...           ...               ...       ...   ...        ...       ...   \n",
       "208379    9998773              59.0      28.5     U        2.0  76988.65   \n",
       "43929     9998851              58.0      23.5     U        2.0  38473.54   \n",
       "27192     9998921             189.0      38.0     F        2.0  30644.10   \n",
       "194568    9999400              86.0      28.5     U        2.0  51787.04   \n",
       "20599     9999626             113.0      35.0     M        2.0  36642.88   \n",
       "\n",
       "        calls_6_mnth  logons_6_mnth             visitor_id  \\\n",
       "255392           2.0            6.0  402506806_56087378777   \n",
       "9745             0.0            4.0   66758770_53988066587   \n",
       "83826            0.0            3.0  810392784_45004760546   \n",
       "284885           0.0            3.0  446844663_31615102958   \n",
       "284882           0.0            3.0  446844663_31615102958   \n",
       "...              ...            ...                    ...   \n",
       "208379           2.0            5.0   481169437_1308863478   \n",
       "43929            3.0            6.0  660529049_81285947655   \n",
       "27192            4.0            7.0  960034051_85687824805   \n",
       "194568           0.0            3.0  915967319_19082377501   \n",
       "20599            6.0            9.0   52633065_71189986073   \n",
       "\n",
       "                            visit_id  process_step           date_time  \\\n",
       "255392  637149525_38041617439_716659             4 2017-04-15 13:00:34   \n",
       "9745     40369564_40101682850_311847             4 2017-04-12 15:47:45   \n",
       "83826     7076463_57954418406_971348             0 2017-04-18 02:38:52   \n",
       "284885  507052512_11309370126_442139             0 2017-04-08 15:59:16   \n",
       "284882  795373564_99931517312_810896             2 2017-04-08 18:05:24   \n",
       "...                              ...           ...                 ...   \n",
       "208379  980310183_14300639078_417437             4 2017-04-12 23:50:22   \n",
       "43929   310744937_17135608286_213964             4 2017-04-05 12:08:43   \n",
       "27192     378424178_59565976155_8051             0 2017-04-18 11:26:31   \n",
       "194568  288904166_90826265353_276104             4 2017-04-20 05:23:27   \n",
       "20599   182723364_27031318473_880901             1 2017-05-14 09:07:59   \n",
       "\n",
       "        variation  \n",
       "255392          1  \n",
       "9745            1  \n",
       "83826           1  \n",
       "284885          0  \n",
       "284882          0  \n",
       "...           ...  \n",
       "208379          1  \n",
       "43929           1  \n",
       "27192           0  \n",
       "194568          1  \n",
       "20599           1  \n",
       "\n",
       "[47041 rows x 13 columns]"
      ]
     },
     "execution_count": 31,
     "metadata": {},
     "output_type": "execute_result"
    }
   ],
   "source": [
    "df_ambos_portales"
   ]
  },
  {
   "cell_type": "code",
   "execution_count": 32,
   "metadata": {},
   "outputs": [],
   "source": [
    "# import matplotlib.pyplot as plt\n",
    "\n",
    "# # Divide el DataFrame en función de la columna \"variation\"\n",
    "# df_ambos_portales_grouped = df_ambos_portales.groupby('variation')\n",
    "\n",
    "# # Crea un gráfico de barras para cada grupo\n",
    "# for name, group in df_ambos_portales_grouped:\n",
    "#     group['process_step'].value_counts().plot(kind='bar', alpha=0.5, color='blue', label=name)\n",
    "\n",
    "# # Agrega título y etiquetas a los ejes\n",
    "# plt.title('Número de veces que se repite cada valor en la columna \"process_step\"')\n",
    "# plt.xlabel('Valor de \"process_step\"')\n",
    "# plt.ylabel('Número de veces')\n",
    "# plt.legend()\n",
    "\n",
    "# # Muestra el gráfico\n",
    "# plt.show()"
   ]
  },
  {
   "cell_type": "code",
   "execution_count": 33,
   "metadata": {},
   "outputs": [
    {
     "data": {
      "image/png": "[encoded data removed]",
      "text/plain": [
       "<Figure size 1000x600 with 1 Axes>"
      ]
     },
     "metadata": {},
     "output_type": "display_data"
    }
   ],
   "source": [
    "import pandas as pd\n",
    "import matplotlib.pyplot as plt\n",
    "\n",
    "# Contar y normalizar las ocurrencias de process_step en cada DataFrame\n",
    "control_counts = df_control['process_step'].value_counts(normalize=True).sort_index() * 100  \n",
    "# normalize=True me permite obtener la proporcion. Si no, obtengo datos absolutos y al ser los dos df con distintos número de valores no puedo compararlos \n",
    "test_counts = df_test['process_step'].value_counts(normalize=True).sort_index() * 100  \n",
    "\n",
    "# Crear un DataFrame para facilitar la comparación\n",
    "counts_df = pd.DataFrame({'Control (%)': control_counts, 'Test (%)': test_counts})\n",
    "\n",
    "# Graficar\n",
    "counts_df.plot(kind='bar', figsize=(10, 6))\n",
    "plt.title('Comparación Proporcional de process_step entre Control y Test')\n",
    "plt.xlabel('Process Step')\n",
    "plt.ylabel('Porcentaje de Ocurrencias (%)')\n",
    "plt.xticks(rotation=0)\n",
    "plt.legend(title='Grupo')\n",
    "plt.grid(axis='y')\n",
    "plt.show()\n"
   ]
  },
  {
   "cell_type": "code",
   "execution_count": 34,
   "metadata": {},
   "outputs": [],
   "source": [
    "# import pandas as pd\n",
    "# import matplotlib.pyplot as plt\n",
    "\n",
    "# # Contar y normalizar las ocurrencias de process_step en cada DataFrame\n",
    "# control_counts = df_control['process_step'].value_counts(normalize=True).sort_index() * 100\n",
    "# test_counts = df_test['process_step'].value_counts(normalize=True).sort_index() * 100\n",
    "\n",
    "# # Crear un DataFrame para facilitar la comparación\n",
    "# counts_df = pd.DataFrame({'Control (%)': control_counts, 'Test (%)': test_counts})\n",
    "\n",
    "# # Calcular la probabilidad acumulada\n",
    "# counts_df['Control (%)'] = counts_df['Control (%)'].cumsum()\n",
    "# counts_df['Test (%)'] = counts_df['Test (%)'].cumsum()\n",
    "\n",
    "# # Graficar\n",
    "# plt.figure(figsize=(10, 6))\n",
    "# plt.plot(counts_df.index, counts_df['Control (%)'], marker='o', label='Control (%)', color='blue')\n",
    "# plt.plot(counts_df.index, counts_df['Test (%)'], marker='o', label='Test (%)', color='orange')\n",
    "# plt.title('Probabilidad Acumulada de process_step entre Control y Test')\n",
    "# plt.xlabel('Process Step')\n",
    "# plt.ylabel('Probabilidad Acumulada (%)')\n",
    "# plt.xticks(rotation=0)\n",
    "# plt.legend(title='Grupo')\n",
    "# plt.grid(axis='y')\n",
    "# plt.show()\n"
   ]
  },
  {
   "cell_type": "code",
   "execution_count": 35,
   "metadata": {},
   "outputs": [
    {
     "data": {
      "image/png": "[encoded data removed]",
      "text/plain": [
       "<Figure size 1000x600 with 1 Axes>"
      ]
     },
     "metadata": {},
     "output_type": "display_data"
    }
   ],
   "source": [
    "import pandas as pd\n",
    "import matplotlib.pyplot as plt\n",
    "\n",
    "# Supongamos que df_control y df_test son tus DataFrames con los datos\n",
    "\n",
    "# Contar y normalizar las ocurrencias de process_step en cada DataFrame\n",
    "control_counts = df_control['process_step'].value_counts(normalize=True).sort_index() * 100\n",
    "test_counts = df_test['process_step'].value_counts(normalize=True).sort_index() * 100\n",
    "\n",
    "# Crear un DataFrame para facilitar la comparación\n",
    "counts_df = pd.DataFrame({'Control (%)': control_counts, 'Test (%)': test_counts})\n",
    "\n",
    "# Invertir el orden de los índices para calcular correctamente la probabilidad acumulada desde el paso 0\n",
    "counts_df = counts_df[::-1]\n",
    "\n",
    "# Calcular la probabilidad acumulada\n",
    "counts_df['Control Acumulado (%)'] = counts_df['Control (%)'].cumsum()\n",
    "counts_df['Test Acumulado (%)'] = counts_df['Test (%)'].cumsum()\n",
    "\n",
    "# Invertir de nuevo para graficar correctamente\n",
    "counts_df = counts_df[::-1]\n",
    "\n",
    "# Graficar\n",
    "plt.figure(figsize=(10, 6))\n",
    "plt.plot(counts_df.index, counts_df['Control Acumulado (%)'], marker='o', label='Control Acumulado (%)', color='blue')\n",
    "plt.plot(counts_df.index, counts_df['Test Acumulado (%)'], marker='o', label='Test Acumulado (%)', color='orange')\n",
    "plt.title('Probabilidad Acumulada de process_step entre Control y Test')\n",
    "plt.xlabel('Process Step')\n",
    "plt.ylabel('Probabilidad Acumulada (%)')\n",
    "plt.xticks(rotation=0)\n",
    "plt.legend(title='Grupo')\n",
    "plt.grid(axis='y')\n",
    "plt.show()\n"
   ]
  },
  {
   "cell_type": "code",
   "execution_count": 36,
   "metadata": {},
   "outputs": [
    {
     "data": {
      "text/plain": [
       "<bound method NDFrame.describe of         client_id  clnt_tenure_mnth  clnt_age gendr  num_accts        bal  \\\n",
       "0          836976              73.0      60.5     U        2.0   45105.30   \n",
       "11        2304905              94.0      58.0     U        2.0  110860.30   \n",
       "17        1439522              64.0      32.0     U        2.0   52467.79   \n",
       "22        1562045             198.0      49.0     M        2.0   67454.65   \n",
       "23        5126305             145.0      33.0     F        2.0  103671.75   \n",
       "...           ...               ...       ...   ...        ...        ...   \n",
       "321129    6007167             301.0      49.5     M        2.0   64521.22   \n",
       "321140     501496             281.0      35.0     F        2.0   32529.34   \n",
       "321145    9932367             280.0      57.0     F        2.0   94466.55   \n",
       "321174    5826160             249.0      56.5     F        2.0   44837.16   \n",
       "321184    8739285             229.0      69.5     F        2.0   44994.24   \n",
       "\n",
       "        calls_6_mnth  logons_6_mnth             visitor_id  \\\n",
       "0                6.0            9.0   427070339_1413275162   \n",
       "11               6.0            9.0  336210275_56978226960   \n",
       "17               6.0            9.0  245908175_84333642537   \n",
       "22               3.0            6.0  391202328_71710993352   \n",
       "23               0.0            3.0  432077852_35036160885   \n",
       "...              ...            ...                    ...   \n",
       "321129           2.0            5.0  823062839_53085900900   \n",
       "321140           0.0            3.0  151712852_16244301725   \n",
       "321145           6.0            9.0   445698439_1878097775   \n",
       "321174           2.0            5.0  903851930_50402388184   \n",
       "321184           1.0            4.0    8756552_54841419737   \n",
       "\n",
       "                            visit_id  process_step           date_time  \\\n",
       "0        228976764_46825473280_96584             4 2017-04-02 11:51:13   \n",
       "11      724930510_65323235593_692754             4 2017-05-21 11:07:16   \n",
       "17      898099666_87299892721_263146             3 2017-04-06 09:29:59   \n",
       "22       71954691_44810191073_495385             0 2017-04-06 19:03:46   \n",
       "23      942996157_39527225999_589383             0 2017-06-14 14:22:31   \n",
       "...                              ...           ...                 ...   \n",
       "321129   885582844_6761379786_431966             4 2017-04-02 21:01:02   \n",
       "321140  540064223_23899933167_391847             4 2017-06-20 16:50:31   \n",
       "321145  363679978_29683950783_960618             4 2017-06-01 01:39:16   \n",
       "321174   842608317_42559400580_37328             4 2017-04-05 13:24:53   \n",
       "321184  101846948_96925910026_299041             4 2017-04-12 15:01:19   \n",
       "\n",
       "        variation  \n",
       "0               1  \n",
       "11              0  \n",
       "17              1  \n",
       "22              1  \n",
       "23              0  \n",
       "...           ...  \n",
       "321129          1  \n",
       "321140          1  \n",
       "321145          0  \n",
       "321174          1  \n",
       "321184          1  \n",
       "\n",
       "[34931 rows x 13 columns]>"
      ]
     },
     "execution_count": 36,
     "metadata": {},
     "output_type": "execute_result"
    }
   ],
   "source": [
    "df_all_no_duplicates.describe"
   ]
  },
  {
   "cell_type": "code",
   "execution_count": 37,
   "metadata": {},
   "outputs": [
    {
     "data": {
      "text/plain": [
       "Index(['client_id', 'clnt_tenure_mnth', 'clnt_age', 'gendr', 'num_accts',\n",
       "       'bal', 'calls_6_mnth', 'logons_6_mnth', 'visitor_id', 'visit_id',\n",
       "       'process_step', 'date_time', 'variation'],\n",
       "      dtype='object')"
      ]
     },
     "execution_count": 37,
     "metadata": {},
     "output_type": "execute_result"
    }
   ],
   "source": [
    "df_all_no_duplicates.columns"
   ]
  },
  {
   "cell_type": "code",
   "execution_count": 41,
   "metadata": {},
   "outputs": [
    {
     "data": {
      "text/html": [
       "<div>\n",
       "<style scoped>\n",
       "    .dataframe tbody tr th:only-of-type {\n",
       "        vertical-align: middle;\n",
       "    }\n",
       "\n",
       "    .dataframe tbody tr th {\n",
       "        vertical-align: top;\n",
       "    }\n",
       "\n",
       "    .dataframe thead th {\n",
       "        text-align: right;\n",
       "    }\n",
       "</style>\n",
       "<table border=\"1\" class=\"dataframe\">\n",
       "  <thead>\n",
       "    <tr style=\"text-align: right;\">\n",
       "      <th></th>\n",
       "      <th>client_id</th>\n",
       "      <th>clnt_tenure_mnth</th>\n",
       "      <th>clnt_age</th>\n",
       "      <th>gendr</th>\n",
       "      <th>num_accts</th>\n",
       "      <th>bal</th>\n",
       "      <th>calls_6_mnth</th>\n",
       "      <th>logons_6_mnth</th>\n",
       "      <th>visitor_id</th>\n",
       "      <th>visit_id</th>\n",
       "      <th>process_step</th>\n",
       "      <th>date_time</th>\n",
       "      <th>variation</th>\n",
       "      <th>finalizo_compra</th>\n",
       "    </tr>\n",
       "  </thead>\n",
       "  <tbody>\n",
       "    <tr>\n",
       "      <th>0</th>\n",
       "      <td>836976</td>\n",
       "      <td>73.0</td>\n",
       "      <td>60.5</td>\n",
       "      <td>U</td>\n",
       "      <td>2.0</td>\n",
       "      <td>45105.30</td>\n",
       "      <td>6.0</td>\n",
       "      <td>9.0</td>\n",
       "      <td>427070339_1413275162</td>\n",
       "      <td>228976764_46825473280_96584</td>\n",
       "      <td>4</td>\n",
       "      <td>2017-04-02 11:51:13</td>\n",
       "      <td>1</td>\n",
       "      <td>True</td>\n",
       "    </tr>\n",
       "    <tr>\n",
       "      <th>11</th>\n",
       "      <td>2304905</td>\n",
       "      <td>94.0</td>\n",
       "      <td>58.0</td>\n",
       "      <td>U</td>\n",
       "      <td>2.0</td>\n",
       "      <td>110860.30</td>\n",
       "      <td>6.0</td>\n",
       "      <td>9.0</td>\n",
       "      <td>336210275_56978226960</td>\n",
       "      <td>724930510_65323235593_692754</td>\n",
       "      <td>4</td>\n",
       "      <td>2017-05-21 11:07:16</td>\n",
       "      <td>0</td>\n",
       "      <td>True</td>\n",
       "    </tr>\n",
       "    <tr>\n",
       "      <th>17</th>\n",
       "      <td>1439522</td>\n",
       "      <td>64.0</td>\n",
       "      <td>32.0</td>\n",
       "      <td>U</td>\n",
       "      <td>2.0</td>\n",
       "      <td>52467.79</td>\n",
       "      <td>6.0</td>\n",
       "      <td>9.0</td>\n",
       "      <td>245908175_84333642537</td>\n",
       "      <td>898099666_87299892721_263146</td>\n",
       "      <td>3</td>\n",
       "      <td>2017-04-06 09:29:59</td>\n",
       "      <td>1</td>\n",
       "      <td>False</td>\n",
       "    </tr>\n",
       "    <tr>\n",
       "      <th>22</th>\n",
       "      <td>1562045</td>\n",
       "      <td>198.0</td>\n",
       "      <td>49.0</td>\n",
       "      <td>M</td>\n",
       "      <td>2.0</td>\n",
       "      <td>67454.65</td>\n",
       "      <td>3.0</td>\n",
       "      <td>6.0</td>\n",
       "      <td>391202328_71710993352</td>\n",
       "      <td>71954691_44810191073_495385</td>\n",
       "      <td>0</td>\n",
       "      <td>2017-04-06 19:03:46</td>\n",
       "      <td>1</td>\n",
       "      <td>False</td>\n",
       "    </tr>\n",
       "    <tr>\n",
       "      <th>23</th>\n",
       "      <td>5126305</td>\n",
       "      <td>145.0</td>\n",
       "      <td>33.0</td>\n",
       "      <td>F</td>\n",
       "      <td>2.0</td>\n",
       "      <td>103671.75</td>\n",
       "      <td>0.0</td>\n",
       "      <td>3.0</td>\n",
       "      <td>432077852_35036160885</td>\n",
       "      <td>942996157_39527225999_589383</td>\n",
       "      <td>0</td>\n",
       "      <td>2017-06-14 14:22:31</td>\n",
       "      <td>0</td>\n",
       "      <td>False</td>\n",
       "    </tr>\n",
       "    <tr>\n",
       "      <th>...</th>\n",
       "      <td>...</td>\n",
       "      <td>...</td>\n",
       "      <td>...</td>\n",
       "      <td>...</td>\n",
       "      <td>...</td>\n",
       "      <td>...</td>\n",
       "      <td>...</td>\n",
       "      <td>...</td>\n",
       "      <td>...</td>\n",
       "      <td>...</td>\n",
       "      <td>...</td>\n",
       "      <td>...</td>\n",
       "      <td>...</td>\n",
       "      <td>...</td>\n",
       "    </tr>\n",
       "    <tr>\n",
       "      <th>321129</th>\n",
       "      <td>6007167</td>\n",
       "      <td>301.0</td>\n",
       "      <td>49.5</td>\n",
       "      <td>M</td>\n",
       "      <td>2.0</td>\n",
       "      <td>64521.22</td>\n",
       "      <td>2.0</td>\n",
       "      <td>5.0</td>\n",
       "      <td>823062839_53085900900</td>\n",
       "      <td>885582844_6761379786_431966</td>\n",
       "      <td>4</td>\n",
       "      <td>2017-04-02 21:01:02</td>\n",
       "      <td>1</td>\n",
       "      <td>True</td>\n",
       "    </tr>\n",
       "    <tr>\n",
       "      <th>321140</th>\n",
       "      <td>501496</td>\n",
       "      <td>281.0</td>\n",
       "      <td>35.0</td>\n",
       "      <td>F</td>\n",
       "      <td>2.0</td>\n",
       "      <td>32529.34</td>\n",
       "      <td>0.0</td>\n",
       "      <td>3.0</td>\n",
       "      <td>151712852_16244301725</td>\n",
       "      <td>540064223_23899933167_391847</td>\n",
       "      <td>4</td>\n",
       "      <td>2017-06-20 16:50:31</td>\n",
       "      <td>1</td>\n",
       "      <td>True</td>\n",
       "    </tr>\n",
       "    <tr>\n",
       "      <th>321145</th>\n",
       "      <td>9932367</td>\n",
       "      <td>280.0</td>\n",
       "      <td>57.0</td>\n",
       "      <td>F</td>\n",
       "      <td>2.0</td>\n",
       "      <td>94466.55</td>\n",
       "      <td>6.0</td>\n",
       "      <td>9.0</td>\n",
       "      <td>445698439_1878097775</td>\n",
       "      <td>363679978_29683950783_960618</td>\n",
       "      <td>4</td>\n",
       "      <td>2017-06-01 01:39:16</td>\n",
       "      <td>0</td>\n",
       "      <td>True</td>\n",
       "    </tr>\n",
       "    <tr>\n",
       "      <th>321174</th>\n",
       "      <td>5826160</td>\n",
       "      <td>249.0</td>\n",
       "      <td>56.5</td>\n",
       "      <td>F</td>\n",
       "      <td>2.0</td>\n",
       "      <td>44837.16</td>\n",
       "      <td>2.0</td>\n",
       "      <td>5.0</td>\n",
       "      <td>903851930_50402388184</td>\n",
       "      <td>842608317_42559400580_37328</td>\n",
       "      <td>4</td>\n",
       "      <td>2017-04-05 13:24:53</td>\n",
       "      <td>1</td>\n",
       "      <td>True</td>\n",
       "    </tr>\n",
       "    <tr>\n",
       "      <th>321184</th>\n",
       "      <td>8739285</td>\n",
       "      <td>229.0</td>\n",
       "      <td>69.5</td>\n",
       "      <td>F</td>\n",
       "      <td>2.0</td>\n",
       "      <td>44994.24</td>\n",
       "      <td>1.0</td>\n",
       "      <td>4.0</td>\n",
       "      <td>8756552_54841419737</td>\n",
       "      <td>101846948_96925910026_299041</td>\n",
       "      <td>4</td>\n",
       "      <td>2017-04-12 15:01:19</td>\n",
       "      <td>1</td>\n",
       "      <td>True</td>\n",
       "    </tr>\n",
       "  </tbody>\n",
       "</table>\n",
       "<p>34931 rows × 14 columns</p>\n",
       "</div>"
      ],
      "text/plain": [
       "        client_id  clnt_tenure_mnth  clnt_age gendr  num_accts        bal  \\\n",
       "0          836976              73.0      60.5     U        2.0   45105.30   \n",
       "11        2304905              94.0      58.0     U        2.0  110860.30   \n",
       "17        1439522              64.0      32.0     U        2.0   52467.79   \n",
       "22        1562045             198.0      49.0     M        2.0   67454.65   \n",
       "23        5126305             145.0      33.0     F        2.0  103671.75   \n",
       "...           ...               ...       ...   ...        ...        ...   \n",
       "321129    6007167             301.0      49.5     M        2.0   64521.22   \n",
       "321140     501496             281.0      35.0     F        2.0   32529.34   \n",
       "321145    9932367             280.0      57.0     F        2.0   94466.55   \n",
       "321174    5826160             249.0      56.5     F        2.0   44837.16   \n",
       "321184    8739285             229.0      69.5     F        2.0   44994.24   \n",
       "\n",
       "        calls_6_mnth  logons_6_mnth             visitor_id  \\\n",
       "0                6.0            9.0   427070339_1413275162   \n",
       "11               6.0            9.0  336210275_56978226960   \n",
       "17               6.0            9.0  245908175_84333642537   \n",
       "22               3.0            6.0  391202328_71710993352   \n",
       "23               0.0            3.0  432077852_35036160885   \n",
       "...              ...            ...                    ...   \n",
       "321129           2.0            5.0  823062839_53085900900   \n",
       "321140           0.0            3.0  151712852_16244301725   \n",
       "321145           6.0            9.0   445698439_1878097775   \n",
       "321174           2.0            5.0  903851930_50402388184   \n",
       "321184           1.0            4.0    8756552_54841419737   \n",
       "\n",
       "                            visit_id  process_step           date_time  \\\n",
       "0        228976764_46825473280_96584             4 2017-04-02 11:51:13   \n",
       "11      724930510_65323235593_692754             4 2017-05-21 11:07:16   \n",
       "17      898099666_87299892721_263146             3 2017-04-06 09:29:59   \n",
       "22       71954691_44810191073_495385             0 2017-04-06 19:03:46   \n",
       "23      942996157_39527225999_589383             0 2017-06-14 14:22:31   \n",
       "...                              ...           ...                 ...   \n",
       "321129   885582844_6761379786_431966             4 2017-04-02 21:01:02   \n",
       "321140  540064223_23899933167_391847             4 2017-06-20 16:50:31   \n",
       "321145  363679978_29683950783_960618             4 2017-06-01 01:39:16   \n",
       "321174   842608317_42559400580_37328             4 2017-04-05 13:24:53   \n",
       "321184  101846948_96925910026_299041             4 2017-04-12 15:01:19   \n",
       "\n",
       "        variation  finalizo_compra  \n",
       "0               1             True  \n",
       "11              0             True  \n",
       "17              1            False  \n",
       "22              1            False  \n",
       "23              0            False  \n",
       "...           ...              ...  \n",
       "321129          1             True  \n",
       "321140          1             True  \n",
       "321145          0             True  \n",
       "321174          1             True  \n",
       "321184          1             True  \n",
       "\n",
       "[34931 rows x 14 columns]"
      ]
     },
     "execution_count": 41,
     "metadata": {},
     "output_type": "execute_result"
    }
   ],
   "source": [
    "df_all_no_duplicates"
   ]
  },
  {
   "cell_type": "code",
   "execution_count": 48,
   "metadata": {},
   "outputs": [
    {
     "name": "stdout",
     "output_type": "stream",
     "text": [
      "   client_id  variation        bal   comparacion_saldo  finalizo_compra\n",
      "0     836976          1   45105.30  Menos que Promedio             True\n",
      "1    2304905          0  110860.30    Más que Promedio             True\n",
      "2    1439522          1   52467.79  Menos que Promedio            False\n",
      "3    1562045          1   67454.65    Más que Promedio            False\n",
      "4    5126305          0  103671.75    Más que Promedio            False\n",
      "   Portal  Finalizó Compra   Saldo Medio  Saldo Mediano  Número de Usuarios  \\\n",
      "0       0            False  69429.187849       53521.90                7911   \n",
      "1       0             True  64782.662126       49673.89                8302   \n",
      "2       1            False  68840.858456       52579.36                7648   \n",
      "3       1             True  65590.088792       49809.53               11070   \n",
      "\n",
      "                                  Distribución Saldo  \n",
      "0  {'Menos que Promedio': 4816, 'Más que Promedio...  \n",
      "1  {'Menos que Promedio': 5461, 'Más que Promedio...  \n",
      "2  {'Menos que Promedio': 4772, 'Más que Promedio...  \n",
      "3  {'Menos que Promedio': 7257, 'Más que Promedio...  \n"
     ]
    }
   ],
   "source": [
    "# Filtrar los usuarios que finalizaron la compra (process_step == 4)\n",
    "df_compras = df_all_no_duplicates[df_all_no_duplicates['process_step'] == 4]\n",
    "\n",
    "# Agrupar por portal (variation) y calcular la media del saldo (bal) para los que finalizaron la compra\n",
    "grouped_bal = df_compras.groupby('variation')['bal'].mean().reset_index()\n",
    "\n",
    "# Renombrar columnas para facilitar la lectura\n",
    "grouped_bal.columns = ['variation', 'Saldo Promedio (Clientes con Compra)']\n",
    "\n",
    "# Unir los datos originales con la nueva columna para saber si finalizaron la compra\n",
    "df_all_no_duplicates = pd.merge(df_all_no_duplicates, grouped_bal, on='variation', how='left')\n",
    "\n",
    "# Crear una columna que indique si el cliente tiene más o menos que el saldo promedio\n",
    "df_all_no_duplicates['bal_vs_promedio'] = df_all_no_duplicates['bal'] - df_all_no_duplicates['Saldo Promedio (Clientes con Compra)']\n",
    "df_all_no_duplicates['comparacion_saldo'] = df_all_no_duplicates['bal_vs_promedio'].apply(lambda x: 'Más que Promedio' if x > 0 else 'Menos que Promedio')\n",
    "\n",
    "# Visualizar los primeros resultados\n",
    "print(df_all_no_duplicates[['client_id', 'variation', 'bal', 'comparacion_saldo', 'finalizo_compra']].head())\n",
    "\n",
    "# Si deseas hacer una tabla resumen para comparar portales\n",
    "resumen = df_all_no_duplicates.groupby(['variation', 'finalizo_compra']).agg({\n",
    "    'bal': ['mean', 'median', 'count'],\n",
    "    'comparacion_saldo': lambda x: x.value_counts().to_dict()\n",
    "}).reset_index()\n",
    "\n",
    "# Renombrar las columnas para mayor claridad\n",
    "resumen.columns = ['Portal', 'Finalizó Compra', 'Saldo Medio', 'Saldo Mediano', 'Número de Usuarios', 'Distribución Saldo']\n",
    "\n",
    "# Mostrar la tabla resumen\n",
    "print(resumen)\n",
    "\n"
   ]
  },
  {
   "cell_type": "code",
   "execution_count": 50,
   "metadata": {},
   "outputs": [
    {
     "data": {
      "image/png": "[encoded data removed]",
      "text/plain": [
       "<Figure size 1000x600 with 1 Axes>"
      ]
     },
     "metadata": {},
     "output_type": "display_data"
    }
   ],
   "source": [
    "import seaborn as sns\n",
    "import matplotlib.pyplot as plt\n",
    "\n",
    "# Crear el DataFrame con la información del resumen\n",
    "resumen = df_all_no_duplicates.groupby(['variation', 'finalizo_compra']).agg({\n",
    "    'bal': ['mean', 'median', 'count']\n",
    "}).reset_index()\n",
    "\n",
    "# Renombrar las columnas para mayor claridad\n",
    "resumen.columns = ['Portal', 'Finalizó Compra', 'Saldo Medio', 'Saldo Mediano', 'Número de Usuarios']\n",
    "\n",
    "# Convertir 'Portal' a etiquetas más descriptivas\n",
    "resumen['Portal'] = resumen['Portal'].replace({0: 'Portal Antiguo', 1: 'Portal Nuevo'})\n",
    "\n",
    "# Convertir 'Finalizó Compra' a etiquetas más legibles\n",
    "resumen['Finalizó Compra'] = resumen['Finalizó Compra'].replace({True: 'Sí', False: 'No'})\n",
    "\n",
    "# Gráfico de barras para el Saldo Medio en cada portal, separando si finalizaron la compra o no\n",
    "plt.figure(figsize=(10, 6))\n",
    "sns.barplot(data=resumen, x='Portal', y='Saldo Medio', hue='Finalizó Compra', palette='viridis')\n",
    "\n",
    "# Títulos y etiquetas\n",
    "plt.title('Saldo Medio de Usuarios que Finalizaron o No la Compra por Portal', fontsize=14)\n",
    "plt.xlabel('Portal', fontsize=12)\n",
    "plt.ylabel('Saldo Medio (Clientes con Compra)', fontsize=12)\n",
    "\n",
    "# Mostrar el gráfico\n",
    "plt.show()\n"
   ]
  },
  {
   "cell_type": "code",
   "execution_count": 51,
   "metadata": {},
   "outputs": [
    {
     "data": {
      "text/html": [
       "<div>\n",
       "<style scoped>\n",
       "    .dataframe tbody tr th:only-of-type {\n",
       "        vertical-align: middle;\n",
       "    }\n",
       "\n",
       "    .dataframe tbody tr th {\n",
       "        vertical-align: top;\n",
       "    }\n",
       "\n",
       "    .dataframe thead th {\n",
       "        text-align: right;\n",
       "    }\n",
       "</style>\n",
       "<table border=\"1\" class=\"dataframe\">\n",
       "  <thead>\n",
       "    <tr style=\"text-align: right;\">\n",
       "      <th></th>\n",
       "      <th>Portal</th>\n",
       "      <th>Finalizó Compra</th>\n",
       "      <th>Saldo Medio</th>\n",
       "      <th>Saldo Mediano</th>\n",
       "      <th>Número de Usuarios</th>\n",
       "    </tr>\n",
       "  </thead>\n",
       "  <tbody>\n",
       "    <tr>\n",
       "      <th>0</th>\n",
       "      <td>Portal Antiguo</td>\n",
       "      <td>No</td>\n",
       "      <td>69429.187849</td>\n",
       "      <td>53521.90</td>\n",
       "      <td>7911</td>\n",
       "    </tr>\n",
       "    <tr>\n",
       "      <th>1</th>\n",
       "      <td>Portal Antiguo</td>\n",
       "      <td>Sí</td>\n",
       "      <td>64782.662126</td>\n",
       "      <td>49673.89</td>\n",
       "      <td>8302</td>\n",
       "    </tr>\n",
       "    <tr>\n",
       "      <th>2</th>\n",
       "      <td>Portal Nuevo</td>\n",
       "      <td>No</td>\n",
       "      <td>68840.858456</td>\n",
       "      <td>52579.36</td>\n",
       "      <td>7648</td>\n",
       "    </tr>\n",
       "    <tr>\n",
       "      <th>3</th>\n",
       "      <td>Portal Nuevo</td>\n",
       "      <td>Sí</td>\n",
       "      <td>65590.088792</td>\n",
       "      <td>49809.53</td>\n",
       "      <td>11070</td>\n",
       "    </tr>\n",
       "  </tbody>\n",
       "</table>\n",
       "</div>"
      ],
      "text/plain": [
       "           Portal Finalizó Compra   Saldo Medio  Saldo Mediano  \\\n",
       "0  Portal Antiguo              No  69429.187849       53521.90   \n",
       "1  Portal Antiguo              Sí  64782.662126       49673.89   \n",
       "2    Portal Nuevo              No  68840.858456       52579.36   \n",
       "3    Portal Nuevo              Sí  65590.088792       49809.53   \n",
       "\n",
       "   Número de Usuarios  \n",
       "0                7911  \n",
       "1                8302  \n",
       "2                7648  \n",
       "3               11070  "
      ]
     },
     "execution_count": 51,
     "metadata": {},
     "output_type": "execute_result"
    }
   ],
   "source": [
    "resumen"
   ]
  }
 ],
 "metadata": {
  "kernelspec": {
   "display_name": "base",
   "language": "python",
   "name": "python3"
  },
  "language_info": {
   "codemirror_mode": {
    "name": "ipython",
    "version": 3
   },
   "file_extension": ".py",
   "mimetype": "text/x-python",
   "name": "python",
   "nbconvert_exporter": "python",
   "pygments_lexer": "ipython3",
   "version": "3.11.7"
  }
 },
 "nbformat": 4,
 "nbformat_minor": 2
}

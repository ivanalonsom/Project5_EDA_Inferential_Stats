{
 "cells": [
  {
   "cell_type": "markdown",
   "metadata": {},
   "source": [
    "## FINAL DEMO"
   ]
  },
  {
   "cell_type": "code",
   "execution_count": 34,
   "metadata": {},
   "outputs": [],
   "source": [
    "import pandas as pd\n",
    "from functions import *\n",
    "\n",
    "df_final_demo = pd.read_csv(\"df_final_demo.csv\")\n",
    "\n",
    "df_final_demo.head()\n",
    "df_final_demo.dropna(inplace=True)\n",
    "\n",
    "mapGenre = {'X' : 'U'}\n",
    "df_final_demo[\"gendr\"] = replace_values_df(df_final_demo[\"gendr\"], mapGenre)"
   ]
  },
  {
   "cell_type": "markdown",
   "metadata": {},
   "source": [
    "## WEB DATA"
   ]
  },
  {
   "cell_type": "code",
   "execution_count": 35,
   "metadata": {},
   "outputs": [],
   "source": [
    "df_web_data1 = pd.read_csv(\"df_final_web_data_pt_1.csv\")\n",
    "df_web_data2 = pd.read_csv(\"df_final_web_data_pt_2.csv\")\n",
    "\n",
    "df_web_data_concat = pd.concat([df_web_data1, df_web_data2], axis=0, join='inner')"
   ]
  },
  {
   "cell_type": "code",
   "execution_count": 36,
   "metadata": {},
   "outputs": [
    {
     "data": {
      "text/plain": [
       "client_id                int64\n",
       "visitor_id              object\n",
       "visit_id                object\n",
       "process_step            object\n",
       "date_time       datetime64[ns]\n",
       "dtype: object"
      ]
     },
     "execution_count": 36,
     "metadata": {},
     "output_type": "execute_result"
    }
   ],
   "source": [
    "# Convert type object into datetime \n",
    "\n",
    "df_web_data_concat['date_time'] = convert_to_dateTime(df_web_data_concat['date_time'])\n",
    "\n",
    "df_web_data_concat.dtypes"
   ]
  },
  {
   "cell_type": "code",
   "execution_count": 37,
   "metadata": {},
   "outputs": [],
   "source": [
    "# I turn 'step' into a discrete numeric df\n",
    "\n",
    "map_values = {'start' : 0, 'step_1' : 1, 'step_2' : 2, 'step_3' : 3, 'confirm' : 4}\n",
    "\n",
    "df_web_data_concat[\"process_step\"] = replace_values_df(df_web_data_concat[\"process_step\"], map_values)"
   ]
  },
  {
   "cell_type": "markdown",
   "metadata": {},
   "source": [
    "## FINAL EXP"
   ]
  },
  {
   "cell_type": "code",
   "execution_count": 38,
   "metadata": {},
   "outputs": [],
   "source": [
    "df_final_exp = pd.read_csv(\"df_final_experiment_clients.csv\")\n",
    "df_final_exp.rename(columns={\"Variation\" : \"variation\"}, inplace=True)"
   ]
  },
  {
   "cell_type": "code",
   "execution_count": 39,
   "metadata": {},
   "outputs": [],
   "source": [
    "df_final_exp = drop_na_df(df_final_exp, \"variation\")"
   ]
  },
  {
   "cell_type": "code",
   "execution_count": 40,
   "metadata": {},
   "outputs": [],
   "source": [
    "map_values2 = {'Control': 0, 'Test': 1}\n",
    "\n",
    "df_final_exp[\"variation\"] = replace_values_df(df_final_exp[\"variation\"], map_values2)\n"
   ]
  },
  {
   "cell_type": "markdown",
   "metadata": {},
   "source": [
    "## MERGE"
   ]
  },
  {
   "cell_type": "code",
   "execution_count": 41,
   "metadata": {},
   "outputs": [],
   "source": [
    "df_temp1 = pd.merge(df_final_demo, df_web_data_concat, on='client_id', how='inner')\n",
    "\n",
    "df_all = pd.merge(df_temp1, df_final_exp, on='client_id', how='inner')"
   ]
  },
  {
   "cell_type": "code",
   "execution_count": 42,
   "metadata": {},
   "outputs": [],
   "source": [
    "df_all = df_all.drop(\"clnt_tenure_yr\", axis=1)      # We don´t need this column because is derivative from clnt_tenure_mnth"
   ]
  },
  {
   "cell_type": "code",
   "execution_count": 43,
   "metadata": {},
   "outputs": [
    {
     "data": {
      "text/html": [
       "<div>\n",
       "<style scoped>\n",
       "    .dataframe tbody tr th:only-of-type {\n",
       "        vertical-align: middle;\n",
       "    }\n",
       "\n",
       "    .dataframe tbody tr th {\n",
       "        vertical-align: top;\n",
       "    }\n",
       "\n",
       "    .dataframe thead th {\n",
       "        text-align: right;\n",
       "    }\n",
       "</style>\n",
       "<table border=\"1\" class=\"dataframe\">\n",
       "  <thead>\n",
       "    <tr style=\"text-align: right;\">\n",
       "      <th></th>\n",
       "      <th>client_id</th>\n",
       "      <th>clnt_tenure_mnth</th>\n",
       "      <th>clnt_age</th>\n",
       "      <th>gendr</th>\n",
       "      <th>num_accts</th>\n",
       "      <th>bal</th>\n",
       "      <th>calls_6_mnth</th>\n",
       "      <th>logons_6_mnth</th>\n",
       "      <th>visitor_id</th>\n",
       "      <th>visit_id</th>\n",
       "      <th>process_step</th>\n",
       "      <th>date_time</th>\n",
       "      <th>variation</th>\n",
       "    </tr>\n",
       "  </thead>\n",
       "  <tbody>\n",
       "    <tr>\n",
       "      <th>0</th>\n",
       "      <td>836976</td>\n",
       "      <td>73.0</td>\n",
       "      <td>60.5</td>\n",
       "      <td>U</td>\n",
       "      <td>2.0</td>\n",
       "      <td>45105.30</td>\n",
       "      <td>6.0</td>\n",
       "      <td>9.0</td>\n",
       "      <td>427070339_1413275162</td>\n",
       "      <td>228976764_46825473280_96584</td>\n",
       "      <td>4</td>\n",
       "      <td>2017-04-02 11:51:13</td>\n",
       "      <td>1</td>\n",
       "    </tr>\n",
       "    <tr>\n",
       "      <th>1</th>\n",
       "      <td>836976</td>\n",
       "      <td>73.0</td>\n",
       "      <td>60.5</td>\n",
       "      <td>U</td>\n",
       "      <td>2.0</td>\n",
       "      <td>45105.30</td>\n",
       "      <td>6.0</td>\n",
       "      <td>9.0</td>\n",
       "      <td>427070339_1413275162</td>\n",
       "      <td>228976764_46825473280_96584</td>\n",
       "      <td>4</td>\n",
       "      <td>2017-04-02 11:47:50</td>\n",
       "      <td>1</td>\n",
       "    </tr>\n",
       "    <tr>\n",
       "      <th>2</th>\n",
       "      <td>836976</td>\n",
       "      <td>73.0</td>\n",
       "      <td>60.5</td>\n",
       "      <td>U</td>\n",
       "      <td>2.0</td>\n",
       "      <td>45105.30</td>\n",
       "      <td>6.0</td>\n",
       "      <td>9.0</td>\n",
       "      <td>427070339_1413275162</td>\n",
       "      <td>228976764_46825473280_96584</td>\n",
       "      <td>4</td>\n",
       "      <td>2017-04-02 11:46:45</td>\n",
       "      <td>1</td>\n",
       "    </tr>\n",
       "    <tr>\n",
       "      <th>3</th>\n",
       "      <td>836976</td>\n",
       "      <td>73.0</td>\n",
       "      <td>60.5</td>\n",
       "      <td>U</td>\n",
       "      <td>2.0</td>\n",
       "      <td>45105.30</td>\n",
       "      <td>6.0</td>\n",
       "      <td>9.0</td>\n",
       "      <td>427070339_1413275162</td>\n",
       "      <td>228976764_46825473280_96584</td>\n",
       "      <td>3</td>\n",
       "      <td>2017-04-02 11:23:08</td>\n",
       "      <td>1</td>\n",
       "    </tr>\n",
       "    <tr>\n",
       "      <th>4</th>\n",
       "      <td>836976</td>\n",
       "      <td>73.0</td>\n",
       "      <td>60.5</td>\n",
       "      <td>U</td>\n",
       "      <td>2.0</td>\n",
       "      <td>45105.30</td>\n",
       "      <td>6.0</td>\n",
       "      <td>9.0</td>\n",
       "      <td>427070339_1413275162</td>\n",
       "      <td>228976764_46825473280_96584</td>\n",
       "      <td>2</td>\n",
       "      <td>2017-04-02 11:22:24</td>\n",
       "      <td>1</td>\n",
       "    </tr>\n",
       "    <tr>\n",
       "      <th>...</th>\n",
       "      <td>...</td>\n",
       "      <td>...</td>\n",
       "      <td>...</td>\n",
       "      <td>...</td>\n",
       "      <td>...</td>\n",
       "      <td>...</td>\n",
       "      <td>...</td>\n",
       "      <td>...</td>\n",
       "      <td>...</td>\n",
       "      <td>...</td>\n",
       "      <td>...</td>\n",
       "      <td>...</td>\n",
       "      <td>...</td>\n",
       "    </tr>\n",
       "    <tr>\n",
       "      <th>321190</th>\n",
       "      <td>7468138</td>\n",
       "      <td>222.0</td>\n",
       "      <td>61.0</td>\n",
       "      <td>F</td>\n",
       "      <td>3.0</td>\n",
       "      <td>209278.15</td>\n",
       "      <td>0.0</td>\n",
       "      <td>3.0</td>\n",
       "      <td>317123960_46820919455</td>\n",
       "      <td>769876461_30381166055_830233</td>\n",
       "      <td>2</td>\n",
       "      <td>2017-03-30 23:59:15</td>\n",
       "      <td>1</td>\n",
       "    </tr>\n",
       "    <tr>\n",
       "      <th>321191</th>\n",
       "      <td>7468138</td>\n",
       "      <td>222.0</td>\n",
       "      <td>61.0</td>\n",
       "      <td>F</td>\n",
       "      <td>3.0</td>\n",
       "      <td>209278.15</td>\n",
       "      <td>0.0</td>\n",
       "      <td>3.0</td>\n",
       "      <td>317123960_46820919455</td>\n",
       "      <td>769876461_30381166055_830233</td>\n",
       "      <td>1</td>\n",
       "      <td>2017-03-30 23:58:51</td>\n",
       "      <td>1</td>\n",
       "    </tr>\n",
       "    <tr>\n",
       "      <th>321192</th>\n",
       "      <td>7468138</td>\n",
       "      <td>222.0</td>\n",
       "      <td>61.0</td>\n",
       "      <td>F</td>\n",
       "      <td>3.0</td>\n",
       "      <td>209278.15</td>\n",
       "      <td>0.0</td>\n",
       "      <td>3.0</td>\n",
       "      <td>317123960_46820919455</td>\n",
       "      <td>769876461_30381166055_830233</td>\n",
       "      <td>0</td>\n",
       "      <td>2017-03-30 23:58:40</td>\n",
       "      <td>1</td>\n",
       "    </tr>\n",
       "    <tr>\n",
       "      <th>321193</th>\n",
       "      <td>7468138</td>\n",
       "      <td>222.0</td>\n",
       "      <td>61.0</td>\n",
       "      <td>F</td>\n",
       "      <td>3.0</td>\n",
       "      <td>209278.15</td>\n",
       "      <td>0.0</td>\n",
       "      <td>3.0</td>\n",
       "      <td>317123960_46820919455</td>\n",
       "      <td>769876461_30381166055_830233</td>\n",
       "      <td>0</td>\n",
       "      <td>2017-03-30 23:55:11</td>\n",
       "      <td>1</td>\n",
       "    </tr>\n",
       "    <tr>\n",
       "      <th>321194</th>\n",
       "      <td>7468138</td>\n",
       "      <td>222.0</td>\n",
       "      <td>61.0</td>\n",
       "      <td>F</td>\n",
       "      <td>3.0</td>\n",
       "      <td>209278.15</td>\n",
       "      <td>0.0</td>\n",
       "      <td>3.0</td>\n",
       "      <td>317123960_46820919455</td>\n",
       "      <td>769876461_30381166055_830233</td>\n",
       "      <td>0</td>\n",
       "      <td>2017-03-31 00:16:12</td>\n",
       "      <td>1</td>\n",
       "    </tr>\n",
       "  </tbody>\n",
       "</table>\n",
       "<p>321195 rows × 13 columns</p>\n",
       "</div>"
      ],
      "text/plain": [
       "        client_id  clnt_tenure_mnth  clnt_age gendr  num_accts        bal  \\\n",
       "0          836976              73.0      60.5     U        2.0   45105.30   \n",
       "1          836976              73.0      60.5     U        2.0   45105.30   \n",
       "2          836976              73.0      60.5     U        2.0   45105.30   \n",
       "3          836976              73.0      60.5     U        2.0   45105.30   \n",
       "4          836976              73.0      60.5     U        2.0   45105.30   \n",
       "...           ...               ...       ...   ...        ...        ...   \n",
       "321190    7468138             222.0      61.0     F        3.0  209278.15   \n",
       "321191    7468138             222.0      61.0     F        3.0  209278.15   \n",
       "321192    7468138             222.0      61.0     F        3.0  209278.15   \n",
       "321193    7468138             222.0      61.0     F        3.0  209278.15   \n",
       "321194    7468138             222.0      61.0     F        3.0  209278.15   \n",
       "\n",
       "        calls_6_mnth  logons_6_mnth             visitor_id  \\\n",
       "0                6.0            9.0   427070339_1413275162   \n",
       "1                6.0            9.0   427070339_1413275162   \n",
       "2                6.0            9.0   427070339_1413275162   \n",
       "3                6.0            9.0   427070339_1413275162   \n",
       "4                6.0            9.0   427070339_1413275162   \n",
       "...              ...            ...                    ...   \n",
       "321190           0.0            3.0  317123960_46820919455   \n",
       "321191           0.0            3.0  317123960_46820919455   \n",
       "321192           0.0            3.0  317123960_46820919455   \n",
       "321193           0.0            3.0  317123960_46820919455   \n",
       "321194           0.0            3.0  317123960_46820919455   \n",
       "\n",
       "                            visit_id  process_step           date_time  \\\n",
       "0        228976764_46825473280_96584             4 2017-04-02 11:51:13   \n",
       "1        228976764_46825473280_96584             4 2017-04-02 11:47:50   \n",
       "2        228976764_46825473280_96584             4 2017-04-02 11:46:45   \n",
       "3        228976764_46825473280_96584             3 2017-04-02 11:23:08   \n",
       "4        228976764_46825473280_96584             2 2017-04-02 11:22:24   \n",
       "...                              ...           ...                 ...   \n",
       "321190  769876461_30381166055_830233             2 2017-03-30 23:59:15   \n",
       "321191  769876461_30381166055_830233             1 2017-03-30 23:58:51   \n",
       "321192  769876461_30381166055_830233             0 2017-03-30 23:58:40   \n",
       "321193  769876461_30381166055_830233             0 2017-03-30 23:55:11   \n",
       "321194  769876461_30381166055_830233             0 2017-03-31 00:16:12   \n",
       "\n",
       "        variation  \n",
       "0               1  \n",
       "1               1  \n",
       "2               1  \n",
       "3               1  \n",
       "4               1  \n",
       "...           ...  \n",
       "321190          1  \n",
       "321191          1  \n",
       "321192          1  \n",
       "321193          1  \n",
       "321194          1  \n",
       "\n",
       "[321195 rows x 13 columns]"
      ]
     },
     "execution_count": 43,
     "metadata": {},
     "output_type": "execute_result"
    }
   ],
   "source": [
    "df_all"
   ]
  },
  {
   "cell_type": "markdown",
   "metadata": {},
   "source": [
    "# VER SI SON JOVENES O NO"
   ]
  },
  {
   "cell_type": "code",
   "execution_count": 44,
   "metadata": {},
   "outputs": [],
   "source": [
    "df_all_no_duplicates = df_all.copy()"
   ]
  },
  {
   "cell_type": "code",
   "execution_count": 45,
   "metadata": {},
   "outputs": [
    {
     "data": {
      "text/html": [
       "<div>\n",
       "<style scoped>\n",
       "    .dataframe tbody tr th:only-of-type {\n",
       "        vertical-align: middle;\n",
       "    }\n",
       "\n",
       "    .dataframe tbody tr th {\n",
       "        vertical-align: top;\n",
       "    }\n",
       "\n",
       "    .dataframe thead th {\n",
       "        text-align: right;\n",
       "    }\n",
       "</style>\n",
       "<table border=\"1\" class=\"dataframe\">\n",
       "  <thead>\n",
       "    <tr style=\"text-align: right;\">\n",
       "      <th></th>\n",
       "      <th>client_id</th>\n",
       "      <th>clnt_tenure_mnth</th>\n",
       "      <th>clnt_age</th>\n",
       "      <th>gendr</th>\n",
       "      <th>num_accts</th>\n",
       "      <th>bal</th>\n",
       "      <th>calls_6_mnth</th>\n",
       "      <th>logons_6_mnth</th>\n",
       "      <th>visitor_id</th>\n",
       "      <th>visit_id</th>\n",
       "      <th>process_step</th>\n",
       "      <th>date_time</th>\n",
       "      <th>variation</th>\n",
       "    </tr>\n",
       "  </thead>\n",
       "  <tbody>\n",
       "    <tr>\n",
       "      <th>0</th>\n",
       "      <td>836976</td>\n",
       "      <td>73.0</td>\n",
       "      <td>60.5</td>\n",
       "      <td>U</td>\n",
       "      <td>2.0</td>\n",
       "      <td>45105.30</td>\n",
       "      <td>6.0</td>\n",
       "      <td>9.0</td>\n",
       "      <td>427070339_1413275162</td>\n",
       "      <td>228976764_46825473280_96584</td>\n",
       "      <td>4</td>\n",
       "      <td>2017-04-02 11:51:13</td>\n",
       "      <td>1</td>\n",
       "    </tr>\n",
       "    <tr>\n",
       "      <th>11</th>\n",
       "      <td>2304905</td>\n",
       "      <td>94.0</td>\n",
       "      <td>58.0</td>\n",
       "      <td>U</td>\n",
       "      <td>2.0</td>\n",
       "      <td>110860.30</td>\n",
       "      <td>6.0</td>\n",
       "      <td>9.0</td>\n",
       "      <td>336210275_56978226960</td>\n",
       "      <td>724930510_65323235593_692754</td>\n",
       "      <td>4</td>\n",
       "      <td>2017-05-21 11:07:16</td>\n",
       "      <td>0</td>\n",
       "    </tr>\n",
       "    <tr>\n",
       "      <th>17</th>\n",
       "      <td>1439522</td>\n",
       "      <td>64.0</td>\n",
       "      <td>32.0</td>\n",
       "      <td>U</td>\n",
       "      <td>2.0</td>\n",
       "      <td>52467.79</td>\n",
       "      <td>6.0</td>\n",
       "      <td>9.0</td>\n",
       "      <td>245908175_84333642537</td>\n",
       "      <td>898099666_87299892721_263146</td>\n",
       "      <td>3</td>\n",
       "      <td>2017-04-06 09:29:59</td>\n",
       "      <td>1</td>\n",
       "    </tr>\n",
       "    <tr>\n",
       "      <th>22</th>\n",
       "      <td>1562045</td>\n",
       "      <td>198.0</td>\n",
       "      <td>49.0</td>\n",
       "      <td>M</td>\n",
       "      <td>2.0</td>\n",
       "      <td>67454.65</td>\n",
       "      <td>3.0</td>\n",
       "      <td>6.0</td>\n",
       "      <td>391202328_71710993352</td>\n",
       "      <td>71954691_44810191073_495385</td>\n",
       "      <td>0</td>\n",
       "      <td>2017-04-06 19:03:46</td>\n",
       "      <td>1</td>\n",
       "    </tr>\n",
       "    <tr>\n",
       "      <th>23</th>\n",
       "      <td>5126305</td>\n",
       "      <td>145.0</td>\n",
       "      <td>33.0</td>\n",
       "      <td>F</td>\n",
       "      <td>2.0</td>\n",
       "      <td>103671.75</td>\n",
       "      <td>0.0</td>\n",
       "      <td>3.0</td>\n",
       "      <td>432077852_35036160885</td>\n",
       "      <td>942996157_39527225999_589383</td>\n",
       "      <td>0</td>\n",
       "      <td>2017-06-14 14:22:31</td>\n",
       "      <td>0</td>\n",
       "    </tr>\n",
       "    <tr>\n",
       "      <th>...</th>\n",
       "      <td>...</td>\n",
       "      <td>...</td>\n",
       "      <td>...</td>\n",
       "      <td>...</td>\n",
       "      <td>...</td>\n",
       "      <td>...</td>\n",
       "      <td>...</td>\n",
       "      <td>...</td>\n",
       "      <td>...</td>\n",
       "      <td>...</td>\n",
       "      <td>...</td>\n",
       "      <td>...</td>\n",
       "      <td>...</td>\n",
       "    </tr>\n",
       "    <tr>\n",
       "      <th>321157</th>\n",
       "      <td>1780858</td>\n",
       "      <td>262.0</td>\n",
       "      <td>68.5</td>\n",
       "      <td>M</td>\n",
       "      <td>3.0</td>\n",
       "      <td>372100.59</td>\n",
       "      <td>6.0</td>\n",
       "      <td>9.0</td>\n",
       "      <td>615559472_29670943967</td>\n",
       "      <td>600689000_53802784285_47549</td>\n",
       "      <td>4</td>\n",
       "      <td>2017-04-05 16:37:58</td>\n",
       "      <td>1</td>\n",
       "    </tr>\n",
       "    <tr>\n",
       "      <th>321169</th>\n",
       "      <td>6967120</td>\n",
       "      <td>260.0</td>\n",
       "      <td>68.5</td>\n",
       "      <td>M</td>\n",
       "      <td>3.0</td>\n",
       "      <td>4279873.38</td>\n",
       "      <td>6.0</td>\n",
       "      <td>9.0</td>\n",
       "      <td>663474827_38847225720</td>\n",
       "      <td>923772865_74694577233_449836</td>\n",
       "      <td>4</td>\n",
       "      <td>2017-04-12 19:06:55</td>\n",
       "      <td>0</td>\n",
       "    </tr>\n",
       "    <tr>\n",
       "      <th>321174</th>\n",
       "      <td>5826160</td>\n",
       "      <td>249.0</td>\n",
       "      <td>56.5</td>\n",
       "      <td>F</td>\n",
       "      <td>2.0</td>\n",
       "      <td>44837.16</td>\n",
       "      <td>2.0</td>\n",
       "      <td>5.0</td>\n",
       "      <td>903851930_50402388184</td>\n",
       "      <td>842608317_42559400580_37328</td>\n",
       "      <td>4</td>\n",
       "      <td>2017-04-05 13:24:53</td>\n",
       "      <td>1</td>\n",
       "    </tr>\n",
       "    <tr>\n",
       "      <th>321184</th>\n",
       "      <td>8739285</td>\n",
       "      <td>229.0</td>\n",
       "      <td>69.5</td>\n",
       "      <td>F</td>\n",
       "      <td>2.0</td>\n",
       "      <td>44994.24</td>\n",
       "      <td>1.0</td>\n",
       "      <td>4.0</td>\n",
       "      <td>8756552_54841419737</td>\n",
       "      <td>101846948_96925910026_299041</td>\n",
       "      <td>4</td>\n",
       "      <td>2017-04-12 15:01:19</td>\n",
       "      <td>1</td>\n",
       "    </tr>\n",
       "    <tr>\n",
       "      <th>321189</th>\n",
       "      <td>7468138</td>\n",
       "      <td>222.0</td>\n",
       "      <td>61.0</td>\n",
       "      <td>F</td>\n",
       "      <td>3.0</td>\n",
       "      <td>209278.15</td>\n",
       "      <td>0.0</td>\n",
       "      <td>3.0</td>\n",
       "      <td>317123960_46820919455</td>\n",
       "      <td>769876461_30381166055_830233</td>\n",
       "      <td>3</td>\n",
       "      <td>2017-03-30 23:59:33</td>\n",
       "      <td>1</td>\n",
       "    </tr>\n",
       "  </tbody>\n",
       "</table>\n",
       "<p>50487 rows × 13 columns</p>\n",
       "</div>"
      ],
      "text/plain": [
       "        client_id  clnt_tenure_mnth  clnt_age gendr  num_accts         bal  \\\n",
       "0          836976              73.0      60.5     U        2.0    45105.30   \n",
       "11        2304905              94.0      58.0     U        2.0   110860.30   \n",
       "17        1439522              64.0      32.0     U        2.0    52467.79   \n",
       "22        1562045             198.0      49.0     M        2.0    67454.65   \n",
       "23        5126305             145.0      33.0     F        2.0   103671.75   \n",
       "...           ...               ...       ...   ...        ...         ...   \n",
       "321157    1780858             262.0      68.5     M        3.0   372100.59   \n",
       "321169    6967120             260.0      68.5     M        3.0  4279873.38   \n",
       "321174    5826160             249.0      56.5     F        2.0    44837.16   \n",
       "321184    8739285             229.0      69.5     F        2.0    44994.24   \n",
       "321189    7468138             222.0      61.0     F        3.0   209278.15   \n",
       "\n",
       "        calls_6_mnth  logons_6_mnth             visitor_id  \\\n",
       "0                6.0            9.0   427070339_1413275162   \n",
       "11               6.0            9.0  336210275_56978226960   \n",
       "17               6.0            9.0  245908175_84333642537   \n",
       "22               3.0            6.0  391202328_71710993352   \n",
       "23               0.0            3.0  432077852_35036160885   \n",
       "...              ...            ...                    ...   \n",
       "321157           6.0            9.0  615559472_29670943967   \n",
       "321169           6.0            9.0  663474827_38847225720   \n",
       "321174           2.0            5.0  903851930_50402388184   \n",
       "321184           1.0            4.0    8756552_54841419737   \n",
       "321189           0.0            3.0  317123960_46820919455   \n",
       "\n",
       "                            visit_id  process_step           date_time  \\\n",
       "0        228976764_46825473280_96584             4 2017-04-02 11:51:13   \n",
       "11      724930510_65323235593_692754             4 2017-05-21 11:07:16   \n",
       "17      898099666_87299892721_263146             3 2017-04-06 09:29:59   \n",
       "22       71954691_44810191073_495385             0 2017-04-06 19:03:46   \n",
       "23      942996157_39527225999_589383             0 2017-06-14 14:22:31   \n",
       "...                              ...           ...                 ...   \n",
       "321157   600689000_53802784285_47549             4 2017-04-05 16:37:58   \n",
       "321169  923772865_74694577233_449836             4 2017-04-12 19:06:55   \n",
       "321174   842608317_42559400580_37328             4 2017-04-05 13:24:53   \n",
       "321184  101846948_96925910026_299041             4 2017-04-12 15:01:19   \n",
       "321189  769876461_30381166055_830233             3 2017-03-30 23:59:33   \n",
       "\n",
       "        variation  \n",
       "0               1  \n",
       "11              0  \n",
       "17              1  \n",
       "22              1  \n",
       "23              0  \n",
       "...           ...  \n",
       "321157          1  \n",
       "321169          0  \n",
       "321174          1  \n",
       "321184          1  \n",
       "321189          1  \n",
       "\n",
       "[50487 rows x 13 columns]"
      ]
     },
     "execution_count": 45,
     "metadata": {},
     "output_type": "execute_result"
    }
   ],
   "source": [
    "df_all_no_duplicates.drop_duplicates(subset=\"client_id\", inplace=True)\n",
    "\n",
    "df_all_no_duplicates"
   ]
  },
  {
   "cell_type": "code",
   "execution_count": 46,
   "metadata": {},
   "outputs": [
    {
     "data": {
      "text/plain": [
       "count    50487.000000\n",
       "mean        47.319795\n",
       "std         15.518616\n",
       "min         17.000000\n",
       "25%         33.500000\n",
       "50%         48.000000\n",
       "75%         59.500000\n",
       "max         96.000000\n",
       "Name: clnt_age, dtype: float64"
      ]
     },
     "execution_count": 46,
     "metadata": {},
     "output_type": "execute_result"
    }
   ],
   "source": [
    "df_all_no_duplicates[\"clnt_age\"].describe()"
   ]
  },
  {
   "cell_type": "code",
   "execution_count": 47,
   "metadata": {},
   "outputs": [
    {
     "data": {
      "text/plain": [
       "0    58.5\n",
       "Name: clnt_age, dtype: float64"
      ]
     },
     "execution_count": 47,
     "metadata": {},
     "output_type": "execute_result"
    }
   ],
   "source": [
    "df_all[\"clnt_age\"].mode()"
   ]
  },
  {
   "cell_type": "code",
   "execution_count": 48,
   "metadata": {},
   "outputs": [
    {
     "data": {
      "text/plain": [
       "<Axes: ylabel='clnt_age'>"
      ]
     },
     "execution_count": 48,
     "metadata": {},
     "output_type": "execute_result"
    },
    {
     "data": {
      "image/png": "[encoded data removed]",
      "text/plain": [
       "<Figure size 640x480 with 1 Axes>"
      ]
     },
     "metadata": {},
     "output_type": "display_data"
    }
   ],
   "source": [
    "import seaborn as sns\n",
    "\n",
    "sns.boxplot(data = df_all_no_duplicates['clnt_age'])"
   ]
  },
  {
   "cell_type": "code",
   "execution_count": 49,
   "metadata": {},
   "outputs": [],
   "source": [
    "# Q1 = df_all_no_duplicates['clnt_age'].quantile(0.25)\n",
    "# Q3 = df_all_no_duplicates['clnt_age'].quantile(0.75)\n",
    "# IQR = Q3 - Q1\n",
    "\n",
    "\n",
    "# edadMin = 17\n",
    "# inf_lim = Q1 - 1.5*IQR\n",
    "# sup_lim = Q3 + 1.5*IQR\n",
    "\n",
    "# inf_lim, sup_lim"
   ]
  },
  {
   "cell_type": "code",
   "execution_count": 50,
   "metadata": {},
   "outputs": [],
   "source": [
    "# outlier = df_all_no_duplicates['clnt_age'][(df_all_no_duplicates['clnt_age'] < inf_lim) | (df_all_no_duplicates['clnt_age'] > sup_lim) ]\n",
    "\n",
    "# outlier         THERE ARE NO OUTLIERS"
   ]
  },
  {
   "cell_type": "markdown",
   "metadata": {},
   "source": [
    "# VER SI SON NUEVOS O ANTIGUOS"
   ]
  },
  {
   "cell_type": "code",
   "execution_count": 51,
   "metadata": {},
   "outputs": [
    {
     "data": {
      "text/plain": [
       "count    50487.000000\n",
       "mean       150.416365\n",
       "std         81.945403\n",
       "min         33.000000\n",
       "25%         82.000000\n",
       "50%        136.000000\n",
       "75%        192.000000\n",
       "max        669.000000\n",
       "Name: clnt_tenure_mnth, dtype: float64"
      ]
     },
     "execution_count": 51,
     "metadata": {},
     "output_type": "execute_result"
    }
   ],
   "source": [
    "df_all_no_duplicates[\"clnt_tenure_mnth\"].describe()"
   ]
  },
  {
   "cell_type": "code",
   "execution_count": 52,
   "metadata": {},
   "outputs": [
    {
     "data": {
      "text/plain": [
       "0    58.0\n",
       "Name: clnt_tenure_mnth, dtype: float64"
      ]
     },
     "execution_count": 52,
     "metadata": {},
     "output_type": "execute_result"
    }
   ],
   "source": [
    "df_all[\"clnt_tenure_mnth\"].mode()"
   ]
  },
  {
   "cell_type": "code",
   "execution_count": 53,
   "metadata": {},
   "outputs": [
    {
     "data": {
      "text/plain": [
       "<Axes: ylabel='clnt_tenure_mnth'>"
      ]
     },
     "execution_count": 53,
     "metadata": {},
     "output_type": "execute_result"
    },
    {
     "data": {
      "image/png": "[encoded data removed]",
      "text/plain": [
       "<Figure size 640x480 with 1 Axes>"
      ]
     },
     "metadata": {},
     "output_type": "display_data"
    }
   ],
   "source": [
    "sns.boxplot(data = df_all_no_duplicates['clnt_tenure_mnth'])"
   ]
  },
  {
   "cell_type": "code",
   "execution_count": 54,
   "metadata": {},
   "outputs": [
    {
     "data": {
      "text/plain": [
       "(-83.0, 357.0)"
      ]
     },
     "execution_count": 54,
     "metadata": {},
     "output_type": "execute_result"
    }
   ],
   "source": [
    "Q1 = df_all_no_duplicates['clnt_tenure_mnth'].quantile(0.25)\n",
    "Q3 = df_all_no_duplicates['clnt_tenure_mnth'].quantile(0.75)\n",
    "IQR = Q3 - Q1\n",
    "\n",
    "\n",
    "inf_lim = Q1 - 1.5*IQR\n",
    "sup_lim = Q3 + 1.5*IQR\n",
    "\n",
    "inf_lim, sup_lim"
   ]
  },
  {
   "cell_type": "code",
   "execution_count": 55,
   "metadata": {},
   "outputs": [
    {
     "data": {
      "text/plain": [
       "(995,)"
      ]
     },
     "execution_count": 55,
     "metadata": {},
     "output_type": "execute_result"
    }
   ],
   "source": [
    "outlier = df_all_no_duplicates['clnt_tenure_mnth'][(df_all_no_duplicates['clnt_tenure_mnth'] < 0) | (df_all_no_duplicates['clnt_tenure_mnth'] => sup_lim) ]\n",
    "\n",
    "outlier.shape"
   ]
  },
  {
   "cell_type": "code",
   "execution_count": 56,
   "metadata": {},
   "outputs": [],
   "source": [
    "df_all_no_out = df_all_no_duplicates[~df_all_no_duplicates['clnt_tenure_mnth'].isin(outlier)]"
   ]
  },
  {
   "cell_type": "code",
   "execution_count": 57,
   "metadata": {},
   "outputs": [
    {
     "data": {
      "text/plain": [
       "count    49492.000000\n",
       "mean       145.310171\n",
       "std         74.001022\n",
       "min         33.000000\n",
       "25%         81.000000\n",
       "50%        132.000000\n",
       "75%        190.000000\n",
       "max        357.000000\n",
       "Name: clnt_tenure_mnth, dtype: float64"
      ]
     },
     "execution_count": 57,
     "metadata": {},
     "output_type": "execute_result"
    }
   ],
   "source": [
    "df_all_no_out[\"clnt_tenure_mnth\"].describe()"
   ]
  },
  {
   "cell_type": "code",
   "execution_count": 58,
   "metadata": {},
   "outputs": [
    {
     "data": {
      "text/plain": [
       "<Axes: ylabel='clnt_tenure_mnth'>"
      ]
     },
     "execution_count": 58,
     "metadata": {},
     "output_type": "execute_result"
    },
    {
     "data": {
      "image/png": "[encoded data removed]",
      "text/plain": [
       "<Figure size 640x480 with 1 Axes>"
      ]
     },
     "metadata": {},
     "output_type": "display_data"
    }
   ],
   "source": [
    "sns.boxplot(data = df_all_no_out['clnt_tenure_mnth'])"
   ]
  },
  {
   "cell_type": "code",
   "execution_count": 59,
   "metadata": {},
   "outputs": [
    {
     "data": {
      "text/plain": [
       "977       357.0\n",
       "5606      355.0\n",
       "6827      355.0\n",
       "7632      354.0\n",
       "10213     355.0\n",
       "          ...  \n",
       "288166    354.0\n",
       "292297    355.0\n",
       "304338    355.0\n",
       "309401    354.0\n",
       "315653    356.0\n",
       "Name: clnt_tenure_mnth, Length: 68, dtype: float64"
      ]
     },
     "execution_count": 59,
     "metadata": {},
     "output_type": "execute_result"
    }
   ],
   "source": [
    "df_all_no_out['clnt_tenure_mnth'][df_all_no_out['clnt_tenure_mnth']>353.5]"
   ]
  },
  {
   "cell_type": "code",
   "execution_count": 60,
   "metadata": {},
   "outputs": [
    {
     "data": {
      "text/plain": [
       "(-82.5, 353.5)"
      ]
     },
     "execution_count": 60,
     "metadata": {},
     "output_type": "execute_result"
    }
   ],
   "source": [
    "Q1 = df_all_no_out['clnt_tenure_mnth'].quantile(0.25)\n",
    "Q3 = df_all_no_out['clnt_tenure_mnth'].quantile(0.75)\n",
    "IQR = Q3 - Q1\n",
    "\n",
    "\n",
    "inf_lim = Q1 - 1.5*IQR\n",
    "sup_lim = Q3 + 1.5*IQR\n",
    "\n",
    "inf_lim, sup_lim"
   ]
  },
  {
   "cell_type": "code",
   "execution_count": 61,
   "metadata": {},
   "outputs": [],
   "source": [
    "# def outlier_slayer(data): # automatically removes outliers based on Q1, Q3\n",
    "#     \"\"\"\n",
    "#     Automatically removes outliers based on Q1, Q3\n",
    "#     \"\"\"\n",
    "#     for column in data.select_dtypes(include=[np.number]):\n",
    "#         Q1 = data[column].quantile(0.25)\n",
    "#         Q3 = data[column].quantile(0.75)\n",
    "#         IQR = Q3 - Q1\n",
    "#         lower_bound = Q1 - 1.5 * IQR\n",
    "#         upper_bound = Q3 + 1.5 * IQR\n",
    "#         data = data[(data[column] >= lower_bound) & (data[column] <= upper_bound)]\n",
    "#     return data"
   ]
  },
  {
   "cell_type": "code",
   "execution_count": 62,
   "metadata": {},
   "outputs": [
    {
     "data": {
      "text/plain": [
       "977       357.0\n",
       "5606      355.0\n",
       "6827      355.0\n",
       "7632      354.0\n",
       "10213     355.0\n",
       "          ...  \n",
       "288166    354.0\n",
       "292297    355.0\n",
       "304338    355.0\n",
       "309401    354.0\n",
       "315653    356.0\n",
       "Name: clnt_tenure_mnth, Length: 68, dtype: float64"
      ]
     },
     "execution_count": 62,
     "metadata": {},
     "output_type": "execute_result"
    }
   ],
   "source": [
    "out_prueba = df_all_no_out['clnt_tenure_mnth'][(df_all_no_out['clnt_tenure_mnth'] < 0) | (df_all_no_out['clnt_tenure_mnth'] > sup_lim) ]\n",
    "out_prueba"
   ]
  },
  {
   "cell_type": "code",
   "execution_count": null,
   "metadata": {},
   "outputs": [],
   "source": []
  }
 ],
 "metadata": {
  "kernelspec": {
   "display_name": "base",
   "language": "python",
   "name": "python3"
  },
  "language_info": {
   "codemirror_mode": {
    "name": "ipython",
    "version": 3
   },
   "file_extension": ".py",
   "mimetype": "text/x-python",
   "name": "python",
   "nbconvert_exporter": "python",
   "pygments_lexer": "ipython3",
   "version": "3.12.4"
  }
 },
 "nbformat": 4,
 "nbformat_minor": 2
}

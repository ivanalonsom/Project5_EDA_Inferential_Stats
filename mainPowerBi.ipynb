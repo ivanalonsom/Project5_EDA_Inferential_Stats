{
 "cells": [
  {
   "cell_type": "code",
   "execution_count": 273,
   "metadata": {},
   "outputs": [
    {
     "name": "stdout",
     "output_type": "stream",
     "text": [
      "The autoreload extension is already loaded. To reload it, use:\n",
      "  %reload_ext autoreload\n"
     ]
    }
   ],
   "source": [
    "%load_ext autoreload\n",
    "%autoreload 2"
   ]
  },
  {
   "cell_type": "code",
   "execution_count": 274,
   "metadata": {},
   "outputs": [],
   "source": [
    "import scipy.stats as st\n",
    "from functions import *\n",
    "from graphics import *\n",
    "from statistics_tests import *\n",
    "import pandas as pd\n",
    "\n",
    "df_final_demo = get_final_demo_df()\n",
    "\n",
    "df_web_data_concat = get_web_data_df()\n",
    "\n",
    "df_final_exp = get_final_exp_df()\n",
    "\n",
    "df_all = get_df_all()"
   ]
  },
  {
   "cell_type": "markdown",
   "metadata": {},
   "source": [
    "LIMPIEZA DE DATOS"
   ]
  },
  {
   "cell_type": "code",
   "execution_count": 275,
   "metadata": {},
   "outputs": [],
   "source": [
    "df_all = df_all.drop(\"clnt_tenure_yr\", axis=1)      # We don´t need this column because is derivative from clnt_tenure_mnth"
   ]
  },
  {
   "cell_type": "markdown",
   "metadata": {},
   "source": [
    "QUITAMOS OUTLIERS DEL DF_ALL Y DEL QUE NO TIENE DUPLICADOS"
   ]
  },
  {
   "cell_type": "code",
   "execution_count": 276,
   "metadata": {},
   "outputs": [],
   "source": [
    "df_all = outlier_slayer(df_all)"
   ]
  },
  {
   "cell_type": "code",
   "execution_count": 277,
   "metadata": {},
   "outputs": [],
   "source": [
    "df_all.sort_values(by=[\"client_id\", \"visit_id\", \"date_time\"], ascending=[True, True, False], inplace=True)"
   ]
  },
  {
   "cell_type": "code",
   "execution_count": 278,
   "metadata": {},
   "outputs": [],
   "source": [
    "# df_all[\"time_diff\"] = df_all.groupby([\"client_id\", \"visit_id\"])[\"date_time\"].shift(1) - df_all[\"date_time\"]"
   ]
  },
  {
   "cell_type": "code",
   "execution_count": 279,
   "metadata": {},
   "outputs": [],
   "source": [
    "df_all[\"time_diff\"] = abs(df_all.groupby([\"client_id\", \"visit_id\"])[\"date_time\"].diff().shift(-1).fillna(pd.Timedelta(seconds=0)) ).dt.total_seconds()"
   ]
  },
  {
   "cell_type": "code",
   "execution_count": 280,
   "metadata": {},
   "outputs": [],
   "source": [
    "df_inter = df_all.copy()\n",
    "df_inter.drop_duplicates(subset=[\"visit_id\", \"process_step\"], keep=\"last\", inplace=True)"
   ]
  },
  {
   "cell_type": "code",
   "execution_count": 281,
   "metadata": {},
   "outputs": [],
   "source": [
    "df_all[\"time_diff_cleaned\"] = abs(df_inter.groupby([\"client_id\", \"visit_id\"])[\"date_time\"].diff().shift(-1).fillna(pd.Timedelta(seconds=0)) ).dt.total_seconds()"
   ]
  },
  {
   "cell_type": "code",
   "execution_count": 282,
   "metadata": {},
   "outputs": [],
   "source": [
    "df_all[\"repetition\"] = df_all.duplicated(subset=[\"visit_id\", \"process_step\"], keep=\"last\").astype(int)          #0 = no, 1 = yes"
   ]
  },
  {
   "cell_type": "code",
   "execution_count": 283,
   "metadata": {},
   "outputs": [],
   "source": [
    "df_all[\"last_step\"] = df_all.groupby(\"visit_id\")[\"process_step\"].transform(\"max\")"
   ]
  },
  {
   "cell_type": "code",
   "execution_count": 284,
   "metadata": {},
   "outputs": [
    {
     "data": {
      "text/html": [
       "<div>\n",
       "<style scoped>\n",
       "    .dataframe tbody tr th:only-of-type {\n",
       "        vertical-align: middle;\n",
       "    }\n",
       "\n",
       "    .dataframe tbody tr th {\n",
       "        vertical-align: top;\n",
       "    }\n",
       "\n",
       "    .dataframe thead th {\n",
       "        text-align: right;\n",
       "    }\n",
       "</style>\n",
       "<table border=\"1\" class=\"dataframe\">\n",
       "  <thead>\n",
       "    <tr style=\"text-align: right;\">\n",
       "      <th></th>\n",
       "      <th>client_id</th>\n",
       "      <th>clnt_tenure_mnth</th>\n",
       "      <th>clnt_age</th>\n",
       "      <th>gendr</th>\n",
       "      <th>num_accts</th>\n",
       "      <th>bal</th>\n",
       "      <th>calls_6_mnth</th>\n",
       "      <th>logons_6_mnth</th>\n",
       "      <th>visitor_id</th>\n",
       "      <th>visit_id</th>\n",
       "      <th>process_step</th>\n",
       "      <th>date_time</th>\n",
       "      <th>variation</th>\n",
       "      <th>time_diff</th>\n",
       "      <th>time_diff_cleaned</th>\n",
       "      <th>repetition</th>\n",
       "      <th>last_step</th>\n",
       "    </tr>\n",
       "  </thead>\n",
       "  <tbody>\n",
       "    <tr>\n",
       "      <th>255392</th>\n",
       "      <td>555</td>\n",
       "      <td>46.0</td>\n",
       "      <td>29.5</td>\n",
       "      <td>U</td>\n",
       "      <td>2.0</td>\n",
       "      <td>25454.66</td>\n",
       "      <td>2.0</td>\n",
       "      <td>6.0</td>\n",
       "      <td>402506806_56087378777</td>\n",
       "      <td>637149525_38041617439_716659</td>\n",
       "      <td>4</td>\n",
       "      <td>2017-04-15 13:00:34</td>\n",
       "      <td>1</td>\n",
       "      <td>20.0</td>\n",
       "      <td>20.0</td>\n",
       "      <td>0</td>\n",
       "      <td>4</td>\n",
       "    </tr>\n",
       "    <tr>\n",
       "      <th>255393</th>\n",
       "      <td>555</td>\n",
       "      <td>46.0</td>\n",
       "      <td>29.5</td>\n",
       "      <td>U</td>\n",
       "      <td>2.0</td>\n",
       "      <td>25454.66</td>\n",
       "      <td>2.0</td>\n",
       "      <td>6.0</td>\n",
       "      <td>402506806_56087378777</td>\n",
       "      <td>637149525_38041617439_716659</td>\n",
       "      <td>3</td>\n",
       "      <td>2017-04-15 13:00:14</td>\n",
       "      <td>1</td>\n",
       "      <td>99.0</td>\n",
       "      <td>99.0</td>\n",
       "      <td>0</td>\n",
       "      <td>4</td>\n",
       "    </tr>\n",
       "    <tr>\n",
       "      <th>255394</th>\n",
       "      <td>555</td>\n",
       "      <td>46.0</td>\n",
       "      <td>29.5</td>\n",
       "      <td>U</td>\n",
       "      <td>2.0</td>\n",
       "      <td>25454.66</td>\n",
       "      <td>2.0</td>\n",
       "      <td>6.0</td>\n",
       "      <td>402506806_56087378777</td>\n",
       "      <td>637149525_38041617439_716659</td>\n",
       "      <td>2</td>\n",
       "      <td>2017-04-15 12:58:35</td>\n",
       "      <td>1</td>\n",
       "      <td>32.0</td>\n",
       "      <td>32.0</td>\n",
       "      <td>0</td>\n",
       "      <td>4</td>\n",
       "    </tr>\n",
       "    <tr>\n",
       "      <th>255395</th>\n",
       "      <td>555</td>\n",
       "      <td>46.0</td>\n",
       "      <td>29.5</td>\n",
       "      <td>U</td>\n",
       "      <td>2.0</td>\n",
       "      <td>25454.66</td>\n",
       "      <td>2.0</td>\n",
       "      <td>6.0</td>\n",
       "      <td>402506806_56087378777</td>\n",
       "      <td>637149525_38041617439_716659</td>\n",
       "      <td>1</td>\n",
       "      <td>2017-04-15 12:58:03</td>\n",
       "      <td>1</td>\n",
       "      <td>7.0</td>\n",
       "      <td>7.0</td>\n",
       "      <td>0</td>\n",
       "      <td>4</td>\n",
       "    </tr>\n",
       "    <tr>\n",
       "      <th>255396</th>\n",
       "      <td>555</td>\n",
       "      <td>46.0</td>\n",
       "      <td>29.5</td>\n",
       "      <td>U</td>\n",
       "      <td>2.0</td>\n",
       "      <td>25454.66</td>\n",
       "      <td>2.0</td>\n",
       "      <td>6.0</td>\n",
       "      <td>402506806_56087378777</td>\n",
       "      <td>637149525_38041617439_716659</td>\n",
       "      <td>0</td>\n",
       "      <td>2017-04-15 12:57:56</td>\n",
       "      <td>1</td>\n",
       "      <td>0.0</td>\n",
       "      <td>0.0</td>\n",
       "      <td>0</td>\n",
       "      <td>4</td>\n",
       "    </tr>\n",
       "  </tbody>\n",
       "</table>\n",
       "</div>"
      ],
      "text/plain": [
       "        client_id  clnt_tenure_mnth  clnt_age gendr  num_accts       bal  \\\n",
       "255392        555              46.0      29.5     U        2.0  25454.66   \n",
       "255393        555              46.0      29.5     U        2.0  25454.66   \n",
       "255394        555              46.0      29.5     U        2.0  25454.66   \n",
       "255395        555              46.0      29.5     U        2.0  25454.66   \n",
       "255396        555              46.0      29.5     U        2.0  25454.66   \n",
       "\n",
       "        calls_6_mnth  logons_6_mnth             visitor_id  \\\n",
       "255392           2.0            6.0  402506806_56087378777   \n",
       "255393           2.0            6.0  402506806_56087378777   \n",
       "255394           2.0            6.0  402506806_56087378777   \n",
       "255395           2.0            6.0  402506806_56087378777   \n",
       "255396           2.0            6.0  402506806_56087378777   \n",
       "\n",
       "                            visit_id  process_step           date_time  \\\n",
       "255392  637149525_38041617439_716659             4 2017-04-15 13:00:34   \n",
       "255393  637149525_38041617439_716659             3 2017-04-15 13:00:14   \n",
       "255394  637149525_38041617439_716659             2 2017-04-15 12:58:35   \n",
       "255395  637149525_38041617439_716659             1 2017-04-15 12:58:03   \n",
       "255396  637149525_38041617439_716659             0 2017-04-15 12:57:56   \n",
       "\n",
       "        variation  time_diff  time_diff_cleaned  repetition  last_step  \n",
       "255392          1       20.0               20.0           0          4  \n",
       "255393          1       99.0               99.0           0          4  \n",
       "255394          1       32.0               32.0           0          4  \n",
       "255395          1        7.0                7.0           0          4  \n",
       "255396          1        0.0                0.0           0          4  "
      ]
     },
     "execution_count": 284,
     "metadata": {},
     "output_type": "execute_result"
    }
   ],
   "source": [
    "df_all.head()"
   ]
  },
  {
   "cell_type": "code",
   "execution_count": 285,
   "metadata": {},
   "outputs": [],
   "source": [
    "# count = df_all[(df_all[\"process_step\"] == 4) & \n",
    "#                 (df_all[\"repetition\"] == 0) & \n",
    "#                 (df_all[\"variation\"] == 1)].shape[0]\n",
    "\n",
    "# count"
   ]
  },
  {
   "cell_type": "code",
   "execution_count": 286,
   "metadata": {},
   "outputs": [
    {
     "data": {
      "text/plain": [
       "23746"
      ]
     },
     "execution_count": 286,
     "metadata": {},
     "output_type": "execute_result"
    }
   ],
   "source": [
    "df_all[\"time_diff_cleaned\"][df_all[\"variation\"] == 0].isna().sum()"
   ]
  },
  {
   "cell_type": "code",
   "execution_count": 287,
   "metadata": {},
   "outputs": [
    {
     "data": {
      "text/plain": [
       "32859"
      ]
     },
     "execution_count": 287,
     "metadata": {},
     "output_type": "execute_result"
    }
   ],
   "source": [
    "df_all[\"time_diff_cleaned\"][df_all[\"variation\"] == 1].isna().sum()"
   ]
  },
  {
   "cell_type": "code",
   "execution_count": 288,
   "metadata": {},
   "outputs": [],
   "source": [
    "bins = [0, 25, 40, 60, 100]  # Ajusta los valores de los límites según las necesidades\n",
    "labels = ['Young (0-25)', 'Young Adult (26-40)', 'Mature Adult (41-60)', 'Senior (60+)']\n",
    "\n",
    "# Crear la nueva columna 'age_segment' con los tramos de edad\n",
    "df_all['age_segment'] = pd.cut(df_all['clnt_age'], bins=bins, labels=labels, right=False)"
   ]
  },
  {
   "cell_type": "code",
   "execution_count": 289,
   "metadata": {},
   "outputs": [
    {
     "data": {
      "text/plain": [
       "163766"
      ]
     },
     "execution_count": 289,
     "metadata": {},
     "output_type": "execute_result"
    }
   ],
   "source": [
    "df_all.time_diff_cleaned.notna().sum()"
   ]
  },
  {
   "cell_type": "code",
   "execution_count": 290,
   "metadata": {},
   "outputs": [
    {
     "data": {
      "text/plain": [
       "32859"
      ]
     },
     "execution_count": 290,
     "metadata": {},
     "output_type": "execute_result"
    }
   ],
   "source": [
    "df_all[df_all[\"variation\"] == 1].time_diff.notna().sum() - df_all[df_all[\"variation\"] == 1].time_diff_cleaned.notna().sum()"
   ]
  },
  {
   "cell_type": "code",
   "execution_count": 291,
   "metadata": {},
   "outputs": [
    {
     "data": {
      "text/plain": [
       "122261"
      ]
     },
     "execution_count": 291,
     "metadata": {},
     "output_type": "execute_result"
    }
   ],
   "source": [
    "df_all[df_all[\"variation\"] == 1].time_diff.notna().sum()"
   ]
  },
  {
   "cell_type": "code",
   "execution_count": 292,
   "metadata": {},
   "outputs": [
    {
     "data": {
      "text/html": [
       "<div>\n",
       "<style scoped>\n",
       "    .dataframe tbody tr th:only-of-type {\n",
       "        vertical-align: middle;\n",
       "    }\n",
       "\n",
       "    .dataframe tbody tr th {\n",
       "        vertical-align: top;\n",
       "    }\n",
       "\n",
       "    .dataframe thead th {\n",
       "        text-align: right;\n",
       "    }\n",
       "</style>\n",
       "<table border=\"1\" class=\"dataframe\">\n",
       "  <thead>\n",
       "    <tr style=\"text-align: right;\">\n",
       "      <th></th>\n",
       "      <th>client_id</th>\n",
       "      <th>clnt_tenure_mnth</th>\n",
       "      <th>clnt_age</th>\n",
       "      <th>gendr</th>\n",
       "      <th>num_accts</th>\n",
       "      <th>bal</th>\n",
       "      <th>calls_6_mnth</th>\n",
       "      <th>logons_6_mnth</th>\n",
       "      <th>visitor_id</th>\n",
       "      <th>visit_id</th>\n",
       "      <th>process_step</th>\n",
       "      <th>date_time</th>\n",
       "      <th>variation</th>\n",
       "      <th>time_diff</th>\n",
       "      <th>time_diff_cleaned</th>\n",
       "      <th>repetition</th>\n",
       "      <th>last_step</th>\n",
       "      <th>age_segment</th>\n",
       "    </tr>\n",
       "  </thead>\n",
       "  <tbody>\n",
       "    <tr>\n",
       "      <th>255392</th>\n",
       "      <td>555</td>\n",
       "      <td>46.0</td>\n",
       "      <td>29.5</td>\n",
       "      <td>U</td>\n",
       "      <td>2.0</td>\n",
       "      <td>25454.66</td>\n",
       "      <td>2.0</td>\n",
       "      <td>6.0</td>\n",
       "      <td>402506806_56087378777</td>\n",
       "      <td>637149525_38041617439_716659</td>\n",
       "      <td>4</td>\n",
       "      <td>2017-04-15 13:00:34</td>\n",
       "      <td>1</td>\n",
       "      <td>20.0</td>\n",
       "      <td>20.0</td>\n",
       "      <td>0</td>\n",
       "      <td>4</td>\n",
       "      <td>Young Adult (26-40)</td>\n",
       "    </tr>\n",
       "    <tr>\n",
       "      <th>255393</th>\n",
       "      <td>555</td>\n",
       "      <td>46.0</td>\n",
       "      <td>29.5</td>\n",
       "      <td>U</td>\n",
       "      <td>2.0</td>\n",
       "      <td>25454.66</td>\n",
       "      <td>2.0</td>\n",
       "      <td>6.0</td>\n",
       "      <td>402506806_56087378777</td>\n",
       "      <td>637149525_38041617439_716659</td>\n",
       "      <td>3</td>\n",
       "      <td>2017-04-15 13:00:14</td>\n",
       "      <td>1</td>\n",
       "      <td>99.0</td>\n",
       "      <td>99.0</td>\n",
       "      <td>0</td>\n",
       "      <td>4</td>\n",
       "      <td>Young Adult (26-40)</td>\n",
       "    </tr>\n",
       "    <tr>\n",
       "      <th>255394</th>\n",
       "      <td>555</td>\n",
       "      <td>46.0</td>\n",
       "      <td>29.5</td>\n",
       "      <td>U</td>\n",
       "      <td>2.0</td>\n",
       "      <td>25454.66</td>\n",
       "      <td>2.0</td>\n",
       "      <td>6.0</td>\n",
       "      <td>402506806_56087378777</td>\n",
       "      <td>637149525_38041617439_716659</td>\n",
       "      <td>2</td>\n",
       "      <td>2017-04-15 12:58:35</td>\n",
       "      <td>1</td>\n",
       "      <td>32.0</td>\n",
       "      <td>32.0</td>\n",
       "      <td>0</td>\n",
       "      <td>4</td>\n",
       "      <td>Young Adult (26-40)</td>\n",
       "    </tr>\n",
       "    <tr>\n",
       "      <th>255395</th>\n",
       "      <td>555</td>\n",
       "      <td>46.0</td>\n",
       "      <td>29.5</td>\n",
       "      <td>U</td>\n",
       "      <td>2.0</td>\n",
       "      <td>25454.66</td>\n",
       "      <td>2.0</td>\n",
       "      <td>6.0</td>\n",
       "      <td>402506806_56087378777</td>\n",
       "      <td>637149525_38041617439_716659</td>\n",
       "      <td>1</td>\n",
       "      <td>2017-04-15 12:58:03</td>\n",
       "      <td>1</td>\n",
       "      <td>7.0</td>\n",
       "      <td>7.0</td>\n",
       "      <td>0</td>\n",
       "      <td>4</td>\n",
       "      <td>Young Adult (26-40)</td>\n",
       "    </tr>\n",
       "    <tr>\n",
       "      <th>255396</th>\n",
       "      <td>555</td>\n",
       "      <td>46.0</td>\n",
       "      <td>29.5</td>\n",
       "      <td>U</td>\n",
       "      <td>2.0</td>\n",
       "      <td>25454.66</td>\n",
       "      <td>2.0</td>\n",
       "      <td>6.0</td>\n",
       "      <td>402506806_56087378777</td>\n",
       "      <td>637149525_38041617439_716659</td>\n",
       "      <td>0</td>\n",
       "      <td>2017-04-15 12:57:56</td>\n",
       "      <td>1</td>\n",
       "      <td>0.0</td>\n",
       "      <td>0.0</td>\n",
       "      <td>0</td>\n",
       "      <td>4</td>\n",
       "      <td>Young Adult (26-40)</td>\n",
       "    </tr>\n",
       "  </tbody>\n",
       "</table>\n",
       "</div>"
      ],
      "text/plain": [
       "        client_id  clnt_tenure_mnth  clnt_age gendr  num_accts       bal  \\\n",
       "255392        555              46.0      29.5     U        2.0  25454.66   \n",
       "255393        555              46.0      29.5     U        2.0  25454.66   \n",
       "255394        555              46.0      29.5     U        2.0  25454.66   \n",
       "255395        555              46.0      29.5     U        2.0  25454.66   \n",
       "255396        555              46.0      29.5     U        2.0  25454.66   \n",
       "\n",
       "        calls_6_mnth  logons_6_mnth             visitor_id  \\\n",
       "255392           2.0            6.0  402506806_56087378777   \n",
       "255393           2.0            6.0  402506806_56087378777   \n",
       "255394           2.0            6.0  402506806_56087378777   \n",
       "255395           2.0            6.0  402506806_56087378777   \n",
       "255396           2.0            6.0  402506806_56087378777   \n",
       "\n",
       "                            visit_id  process_step           date_time  \\\n",
       "255392  637149525_38041617439_716659             4 2017-04-15 13:00:34   \n",
       "255393  637149525_38041617439_716659             3 2017-04-15 13:00:14   \n",
       "255394  637149525_38041617439_716659             2 2017-04-15 12:58:35   \n",
       "255395  637149525_38041617439_716659             1 2017-04-15 12:58:03   \n",
       "255396  637149525_38041617439_716659             0 2017-04-15 12:57:56   \n",
       "\n",
       "        variation  time_diff  time_diff_cleaned  repetition  last_step  \\\n",
       "255392          1       20.0               20.0           0          4   \n",
       "255393          1       99.0               99.0           0          4   \n",
       "255394          1       32.0               32.0           0          4   \n",
       "255395          1        7.0                7.0           0          4   \n",
       "255396          1        0.0                0.0           0          4   \n",
       "\n",
       "                age_segment  \n",
       "255392  Young Adult (26-40)  \n",
       "255393  Young Adult (26-40)  \n",
       "255394  Young Adult (26-40)  \n",
       "255395  Young Adult (26-40)  \n",
       "255396  Young Adult (26-40)  "
      ]
     },
     "execution_count": 292,
     "metadata": {},
     "output_type": "execute_result"
    }
   ],
   "source": [
    "df_all.head()"
   ]
  },
  {
   "cell_type": "code",
   "execution_count": 293,
   "metadata": {},
   "outputs": [],
   "source": [
    "df_all.to_csv(\"data/df_powerbi.csv\")"
   ]
  }
 ],
 "metadata": {
  "kernelspec": {
   "display_name": "base",
   "language": "python",
   "name": "python3"
  },
  "language_info": {
   "codemirror_mode": {
    "name": "ipython",
    "version": 3
   },
   "file_extension": ".py",
   "mimetype": "text/x-python",
   "name": "python",
   "nbconvert_exporter": "python",
   "pygments_lexer": "ipython3",
   "version": "3.12.4"
  }
 },
 "nbformat": 4,
 "nbformat_minor": 2
}

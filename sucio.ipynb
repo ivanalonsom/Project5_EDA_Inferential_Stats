{
 "cells": [
  {
   "cell_type": "code",
   "execution_count": null,
   "metadata": {},
   "outputs": [],
   "source": [
    "# df_all['ICU'] = (df_all['logons_6_mnth'] + df_all['calls_6_mnth'] + df_all['process_step']) / (df_all['clnt_tenure_mnth'] + df_all['num_accts'])\n",
    "# Comparar entre los portales (1 para nuevo, 0 para antiguo)\n",
    "# kpi_portal_antiguo = df_all[df_all['variation'] == 0]['ICU'].mean()\n",
    "# kpi_portal_nuevo = df_all[df_all['variation'] == 1]['ICU'].mean()\n",
    "# print(\"ICU - Portal Antiguo:\", kpi_portal_antiguo)\n",
    "# print(\"ICU - Portal Nuevo:\", kpi_portal_nuevo)\n",
    "\n",
    "# Propuesta de KPI:\n",
    "# KPI: Índice de Compromiso del Usuario (ICU)\n",
    "# Este KPI podría calcularse considerando varias métricas como la antigüedad del cliente, el número de cuentas, las llamadas realizadas, los inicios de sesión y el número de visitas/procesos web, diferenciando entre el portal antiguo y el nuevo (usando la columna variation).\n",
    "# Fórmula sugerida:\n",
    "# ICU=logons_6_mnth+calls_6_mnth+(process_step)clnt_tenure_mnth+num_accts\\text{ICU} = \\frac{\\text{logons\\_6\\_mnth} + \\text{calls\\_6\\_mnth} + (\\text{process\\_step})}{\\text{clnt\\_tenure\\_mnth} + \\text{num\\_accts}}ICU=clnt_tenure_mnth+num_acctslogons_6_mnth+calls_6_mnth+(process_step)\n",
    "# logons_6_mnth: Frecuencia de inicios de sesión.\n",
    "# calls_6_mnth: Frecuencia de llamadas.\n",
    "# process_step: Número de pasos completados en el portal (mayor implicación = mejor).\n",
    "# clnt_tenure_mnth: Tiempo con la empresa (mayor tiempo = cliente más valioso).\n",
    "# num_accts: Número de cuentas (clientes con más cuentas podrían ser más comprometidos).\n",
    "# Este índice pondera el comportamiento reciente (interacciones web y llamadas) frente a la relación del cliente con la empresa (tenencia y número de cuentas).\n"
   ]
  },
  {
   "cell_type": "code",
   "execution_count": null,
   "metadata": {},
   "outputs": [],
   "source": [
    "import pandas as pd\n",
    "from sklearn.preprocessing import MinMaxScaler\n",
    "\n",
    "\n",
    "\n",
    "# Calcular el número de visitas por cliente\n",
    "visit_counts = df_all['visit_id'].groupby(df_all['client_id']).nunique()\n",
    "\n",
    "# Calcular el número de inicios de sesión y llamadas por cliente\n",
    "logons_calls = df_all.groupby('client_id')[['logons_6_mnth', 'calls_6_mnth']].sum()\n",
    "\n",
    "# Calcular la antigüedad del cliente\n",
    "tenure = df_all.groupby('client_id')['clnt_tenure_mnth'].mean()\n",
    "\n",
    "# Unir las métricas en un DataFrame\n",
    "icu_df = pd.DataFrame({\n",
    "    'visit_counts': visit_counts,\n",
    "    'logons_6_mnth': logons_calls['logons_6_mnth'],\n",
    "    'calls_6_mnth': logons_calls['calls_6_mnth'],\n",
    "    'clnt_tenure_mnth': tenure\n",
    "}).reset_index()\n",
    "\n",
    "# Normalizar las métricas\n",
    "scaler = MinMaxScaler()\n",
    "icu_df[['visit_counts', 'logons_6_mnth', 'calls_6_mnth', 'clnt_tenure_mnth']] = scaler.fit_transform(\n",
    "    icu_df[['visit_counts', 'logons_6_mnth', 'calls_6_mnth', 'clnt_tenure_mnth']]\n",
    ")\n",
    "\n",
    "# Calcular el ICU\n",
    "icu_df['ICU'] = icu_df[['visit_counts', 'logons_6_mnth', 'calls_6_mnth', 'clnt_tenure_mnth']].mean(axis=1)\n",
    "\n",
    "icu_df[['client_id', 'ICU']]\n"
   ]
  },
  {
   "cell_type": "code",
   "execution_count": null,
   "metadata": {},
   "outputs": [],
   "source": [
    "# import matplotlib.pyplot as plt\n",
    "\n",
    "# # Divide el DataFrame en función de la columna \"variation\"\n",
    "# df_ambos_portales_grouped = df_ambos_portales.groupby('variation')\n",
    "\n",
    "# # Crea un gráfico de barras para cada grupo\n",
    "# for name, group in df_ambos_portales_grouped:\n",
    "#     group['process_step'].value_counts().plot(kind='bar', alpha=0.5, color='blue', label=name)\n",
    "\n",
    "# # Agrega título y etiquetas a los ejes\n",
    "# plt.title('Número de veces que se repite cada valor en la columna \"process_step\"')\n",
    "# plt.xlabel('Valor de \"process_step\"')\n",
    "# plt.ylabel('Número de veces')\n",
    "# plt.legend()\n",
    "\n",
    "# # Muestra el gráfico\n",
    "# plt.show()"
   ]
  }
 ],
 "metadata": {
  "language_info": {
   "name": "python"
  }
 },
 "nbformat": 4,
 "nbformat_minor": 2
}
